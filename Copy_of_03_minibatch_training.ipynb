{
  "nbformat": 4,
  "nbformat_minor": 0,
  "metadata": {
    "kernelspec": {
      "display_name": "Python 3",
      "language": "python",
      "name": "python3"
    },
    "colab": {
      "name": "Copy of 03_minibatch_training.ipynb",
      "provenance": [],
      "collapsed_sections": [
        "DfNuX2v1xp8B",
        "n70culC-xp8h",
        "Ztmln-E0xp8h",
        "PJzROcD-xp8r",
        "diwEDyzJxp8v",
        "yk8EQfB6xp8y",
        "1o20CTI0xp82",
        "1PWzGE8Rxp9A",
        "nz8ts0aZxp9A",
        "0fgmSsJdxp9D",
        "-9uDi1fcxp9H",
        "BkOcYVz5xp9U",
        "IZdHSkBbxp9X",
        "I-fmPWSBxp9b"
      ],
      "include_colab_link": true
    },
    "accelerator": "GPU",
    "widgets": {
      "application/vnd.jupyter.widget-state+json": {
        "f8fe3ee5f8a34bcb89973779f872ced5": {
          "model_module": "@jupyter-widgets/controls",
          "model_name": "HBoxModel",
          "state": {
            "_view_name": "HBoxView",
            "_dom_classes": [],
            "_model_name": "HBoxModel",
            "_view_module": "@jupyter-widgets/controls",
            "_model_module_version": "1.5.0",
            "_view_count": null,
            "_view_module_version": "1.5.0",
            "box_style": "",
            "layout": "IPY_MODEL_652d2b322ce14767b1fda8081bc7a9ae",
            "_model_module": "@jupyter-widgets/controls",
            "children": [
              "IPY_MODEL_34fd5f50e92e4cde9026f1a2947f1c9d",
              "IPY_MODEL_c5bd39b5ebfd4833b0f630c03d4ebc34"
            ]
          }
        },
        "652d2b322ce14767b1fda8081bc7a9ae": {
          "model_module": "@jupyter-widgets/base",
          "model_name": "LayoutModel",
          "state": {
            "_view_name": "LayoutView",
            "grid_template_rows": null,
            "right": null,
            "justify_content": null,
            "_view_module": "@jupyter-widgets/base",
            "overflow": null,
            "_model_module_version": "1.2.0",
            "_view_count": null,
            "flex_flow": null,
            "width": null,
            "min_width": null,
            "border": null,
            "align_items": null,
            "bottom": null,
            "_model_module": "@jupyter-widgets/base",
            "top": null,
            "grid_column": null,
            "overflow_y": null,
            "overflow_x": null,
            "grid_auto_flow": null,
            "grid_area": null,
            "grid_template_columns": null,
            "flex": null,
            "_model_name": "LayoutModel",
            "justify_items": null,
            "grid_row": null,
            "max_height": null,
            "align_content": null,
            "visibility": null,
            "align_self": null,
            "height": null,
            "min_height": null,
            "padding": null,
            "grid_auto_rows": null,
            "grid_gap": null,
            "max_width": null,
            "order": null,
            "_view_module_version": "1.2.0",
            "grid_template_areas": null,
            "object_position": null,
            "object_fit": null,
            "grid_auto_columns": null,
            "margin": null,
            "display": null,
            "left": null
          }
        },
        "34fd5f50e92e4cde9026f1a2947f1c9d": {
          "model_module": "@jupyter-widgets/controls",
          "model_name": "FloatProgressModel",
          "state": {
            "_view_name": "ProgressView",
            "style": "IPY_MODEL_e0cba8fe287b4f3f853d2c8ab134555e",
            "_dom_classes": [],
            "description": "",
            "_model_name": "FloatProgressModel",
            "bar_style": "success",
            "max": 9912422,
            "_view_module": "@jupyter-widgets/controls",
            "_model_module_version": "1.5.0",
            "value": 9912422,
            "_view_count": null,
            "_view_module_version": "1.5.0",
            "orientation": "horizontal",
            "min": 0,
            "description_tooltip": null,
            "_model_module": "@jupyter-widgets/controls",
            "layout": "IPY_MODEL_82d5070f34fe4d2ca9ff3dbbf6c5736b"
          }
        },
        "c5bd39b5ebfd4833b0f630c03d4ebc34": {
          "model_module": "@jupyter-widgets/controls",
          "model_name": "HTMLModel",
          "state": {
            "_view_name": "HTMLView",
            "style": "IPY_MODEL_725ede800aa2419890af6a010103b306",
            "_dom_classes": [],
            "description": "",
            "_model_name": "HTMLModel",
            "placeholder": "​",
            "_view_module": "@jupyter-widgets/controls",
            "_model_module_version": "1.5.0",
            "value": " 9913344/? [12:01&lt;00:00, 13743.51it/s]",
            "_view_count": null,
            "_view_module_version": "1.5.0",
            "description_tooltip": null,
            "_model_module": "@jupyter-widgets/controls",
            "layout": "IPY_MODEL_09a8870a92df4a549a3cfb202ee3cb8f"
          }
        },
        "e0cba8fe287b4f3f853d2c8ab134555e": {
          "model_module": "@jupyter-widgets/controls",
          "model_name": "ProgressStyleModel",
          "state": {
            "_view_name": "StyleView",
            "_model_name": "ProgressStyleModel",
            "description_width": "initial",
            "_view_module": "@jupyter-widgets/base",
            "_model_module_version": "1.5.0",
            "_view_count": null,
            "_view_module_version": "1.2.0",
            "bar_color": null,
            "_model_module": "@jupyter-widgets/controls"
          }
        },
        "82d5070f34fe4d2ca9ff3dbbf6c5736b": {
          "model_module": "@jupyter-widgets/base",
          "model_name": "LayoutModel",
          "state": {
            "_view_name": "LayoutView",
            "grid_template_rows": null,
            "right": null,
            "justify_content": null,
            "_view_module": "@jupyter-widgets/base",
            "overflow": null,
            "_model_module_version": "1.2.0",
            "_view_count": null,
            "flex_flow": null,
            "width": null,
            "min_width": null,
            "border": null,
            "align_items": null,
            "bottom": null,
            "_model_module": "@jupyter-widgets/base",
            "top": null,
            "grid_column": null,
            "overflow_y": null,
            "overflow_x": null,
            "grid_auto_flow": null,
            "grid_area": null,
            "grid_template_columns": null,
            "flex": null,
            "_model_name": "LayoutModel",
            "justify_items": null,
            "grid_row": null,
            "max_height": null,
            "align_content": null,
            "visibility": null,
            "align_self": null,
            "height": null,
            "min_height": null,
            "padding": null,
            "grid_auto_rows": null,
            "grid_gap": null,
            "max_width": null,
            "order": null,
            "_view_module_version": "1.2.0",
            "grid_template_areas": null,
            "object_position": null,
            "object_fit": null,
            "grid_auto_columns": null,
            "margin": null,
            "display": null,
            "left": null
          }
        },
        "725ede800aa2419890af6a010103b306": {
          "model_module": "@jupyter-widgets/controls",
          "model_name": "DescriptionStyleModel",
          "state": {
            "_view_name": "StyleView",
            "_model_name": "DescriptionStyleModel",
            "description_width": "",
            "_view_module": "@jupyter-widgets/base",
            "_model_module_version": "1.5.0",
            "_view_count": null,
            "_view_module_version": "1.2.0",
            "_model_module": "@jupyter-widgets/controls"
          }
        },
        "09a8870a92df4a549a3cfb202ee3cb8f": {
          "model_module": "@jupyter-widgets/base",
          "model_name": "LayoutModel",
          "state": {
            "_view_name": "LayoutView",
            "grid_template_rows": null,
            "right": null,
            "justify_content": null,
            "_view_module": "@jupyter-widgets/base",
            "overflow": null,
            "_model_module_version": "1.2.0",
            "_view_count": null,
            "flex_flow": null,
            "width": null,
            "min_width": null,
            "border": null,
            "align_items": null,
            "bottom": null,
            "_model_module": "@jupyter-widgets/base",
            "top": null,
            "grid_column": null,
            "overflow_y": null,
            "overflow_x": null,
            "grid_auto_flow": null,
            "grid_area": null,
            "grid_template_columns": null,
            "flex": null,
            "_model_name": "LayoutModel",
            "justify_items": null,
            "grid_row": null,
            "max_height": null,
            "align_content": null,
            "visibility": null,
            "align_self": null,
            "height": null,
            "min_height": null,
            "padding": null,
            "grid_auto_rows": null,
            "grid_gap": null,
            "max_width": null,
            "order": null,
            "_view_module_version": "1.2.0",
            "grid_template_areas": null,
            "object_position": null,
            "object_fit": null,
            "grid_auto_columns": null,
            "margin": null,
            "display": null,
            "left": null
          }
        },
        "8949fcee3e3b467992ff6db9e1d6d1eb": {
          "model_module": "@jupyter-widgets/controls",
          "model_name": "HBoxModel",
          "state": {
            "_view_name": "HBoxView",
            "_dom_classes": [],
            "_model_name": "HBoxModel",
            "_view_module": "@jupyter-widgets/controls",
            "_model_module_version": "1.5.0",
            "_view_count": null,
            "_view_module_version": "1.5.0",
            "box_style": "",
            "layout": "IPY_MODEL_c8ded3d468ff4dbba92f44b6a1b52726",
            "_model_module": "@jupyter-widgets/controls",
            "children": [
              "IPY_MODEL_d03f00353a7b4defbf126aaef686ddd3",
              "IPY_MODEL_a3ffc94c51dd43fc91feaa9db8cb31f4"
            ]
          }
        },
        "c8ded3d468ff4dbba92f44b6a1b52726": {
          "model_module": "@jupyter-widgets/base",
          "model_name": "LayoutModel",
          "state": {
            "_view_name": "LayoutView",
            "grid_template_rows": null,
            "right": null,
            "justify_content": null,
            "_view_module": "@jupyter-widgets/base",
            "overflow": null,
            "_model_module_version": "1.2.0",
            "_view_count": null,
            "flex_flow": null,
            "width": null,
            "min_width": null,
            "border": null,
            "align_items": null,
            "bottom": null,
            "_model_module": "@jupyter-widgets/base",
            "top": null,
            "grid_column": null,
            "overflow_y": null,
            "overflow_x": null,
            "grid_auto_flow": null,
            "grid_area": null,
            "grid_template_columns": null,
            "flex": null,
            "_model_name": "LayoutModel",
            "justify_items": null,
            "grid_row": null,
            "max_height": null,
            "align_content": null,
            "visibility": null,
            "align_self": null,
            "height": null,
            "min_height": null,
            "padding": null,
            "grid_auto_rows": null,
            "grid_gap": null,
            "max_width": null,
            "order": null,
            "_view_module_version": "1.2.0",
            "grid_template_areas": null,
            "object_position": null,
            "object_fit": null,
            "grid_auto_columns": null,
            "margin": null,
            "display": null,
            "left": null
          }
        },
        "d03f00353a7b4defbf126aaef686ddd3": {
          "model_module": "@jupyter-widgets/controls",
          "model_name": "FloatProgressModel",
          "state": {
            "_view_name": "ProgressView",
            "style": "IPY_MODEL_4121ef3312924f0c87319c69fe614af4",
            "_dom_classes": [],
            "description": "",
            "_model_name": "FloatProgressModel",
            "bar_style": "success",
            "max": 28881,
            "_view_module": "@jupyter-widgets/controls",
            "_model_module_version": "1.5.0",
            "value": 28881,
            "_view_count": null,
            "_view_module_version": "1.5.0",
            "orientation": "horizontal",
            "min": 0,
            "description_tooltip": null,
            "_model_module": "@jupyter-widgets/controls",
            "layout": "IPY_MODEL_a643124414a84da082a98773d8492616"
          }
        },
        "a3ffc94c51dd43fc91feaa9db8cb31f4": {
          "model_module": "@jupyter-widgets/controls",
          "model_name": "HTMLModel",
          "state": {
            "_view_name": "HTMLView",
            "style": "IPY_MODEL_f6c86e2c03844b078b240f77372a89d2",
            "_dom_classes": [],
            "description": "",
            "_model_name": "HTMLModel",
            "placeholder": "​",
            "_view_module": "@jupyter-widgets/controls",
            "_model_module_version": "1.5.0",
            "value": " 29696/? [00:01&lt;00:00, 26973.23it/s]",
            "_view_count": null,
            "_view_module_version": "1.5.0",
            "description_tooltip": null,
            "_model_module": "@jupyter-widgets/controls",
            "layout": "IPY_MODEL_6f1e9b9d017e4c37bb45c36be1951698"
          }
        },
        "4121ef3312924f0c87319c69fe614af4": {
          "model_module": "@jupyter-widgets/controls",
          "model_name": "ProgressStyleModel",
          "state": {
            "_view_name": "StyleView",
            "_model_name": "ProgressStyleModel",
            "description_width": "initial",
            "_view_module": "@jupyter-widgets/base",
            "_model_module_version": "1.5.0",
            "_view_count": null,
            "_view_module_version": "1.2.0",
            "bar_color": null,
            "_model_module": "@jupyter-widgets/controls"
          }
        },
        "a643124414a84da082a98773d8492616": {
          "model_module": "@jupyter-widgets/base",
          "model_name": "LayoutModel",
          "state": {
            "_view_name": "LayoutView",
            "grid_template_rows": null,
            "right": null,
            "justify_content": null,
            "_view_module": "@jupyter-widgets/base",
            "overflow": null,
            "_model_module_version": "1.2.0",
            "_view_count": null,
            "flex_flow": null,
            "width": null,
            "min_width": null,
            "border": null,
            "align_items": null,
            "bottom": null,
            "_model_module": "@jupyter-widgets/base",
            "top": null,
            "grid_column": null,
            "overflow_y": null,
            "overflow_x": null,
            "grid_auto_flow": null,
            "grid_area": null,
            "grid_template_columns": null,
            "flex": null,
            "_model_name": "LayoutModel",
            "justify_items": null,
            "grid_row": null,
            "max_height": null,
            "align_content": null,
            "visibility": null,
            "align_self": null,
            "height": null,
            "min_height": null,
            "padding": null,
            "grid_auto_rows": null,
            "grid_gap": null,
            "max_width": null,
            "order": null,
            "_view_module_version": "1.2.0",
            "grid_template_areas": null,
            "object_position": null,
            "object_fit": null,
            "grid_auto_columns": null,
            "margin": null,
            "display": null,
            "left": null
          }
        },
        "f6c86e2c03844b078b240f77372a89d2": {
          "model_module": "@jupyter-widgets/controls",
          "model_name": "DescriptionStyleModel",
          "state": {
            "_view_name": "StyleView",
            "_model_name": "DescriptionStyleModel",
            "description_width": "",
            "_view_module": "@jupyter-widgets/base",
            "_model_module_version": "1.5.0",
            "_view_count": null,
            "_view_module_version": "1.2.0",
            "_model_module": "@jupyter-widgets/controls"
          }
        },
        "6f1e9b9d017e4c37bb45c36be1951698": {
          "model_module": "@jupyter-widgets/base",
          "model_name": "LayoutModel",
          "state": {
            "_view_name": "LayoutView",
            "grid_template_rows": null,
            "right": null,
            "justify_content": null,
            "_view_module": "@jupyter-widgets/base",
            "overflow": null,
            "_model_module_version": "1.2.0",
            "_view_count": null,
            "flex_flow": null,
            "width": null,
            "min_width": null,
            "border": null,
            "align_items": null,
            "bottom": null,
            "_model_module": "@jupyter-widgets/base",
            "top": null,
            "grid_column": null,
            "overflow_y": null,
            "overflow_x": null,
            "grid_auto_flow": null,
            "grid_area": null,
            "grid_template_columns": null,
            "flex": null,
            "_model_name": "LayoutModel",
            "justify_items": null,
            "grid_row": null,
            "max_height": null,
            "align_content": null,
            "visibility": null,
            "align_self": null,
            "height": null,
            "min_height": null,
            "padding": null,
            "grid_auto_rows": null,
            "grid_gap": null,
            "max_width": null,
            "order": null,
            "_view_module_version": "1.2.0",
            "grid_template_areas": null,
            "object_position": null,
            "object_fit": null,
            "grid_auto_columns": null,
            "margin": null,
            "display": null,
            "left": null
          }
        },
        "2ce2cb42bc154da8b430f67355d4a1b1": {
          "model_module": "@jupyter-widgets/controls",
          "model_name": "HBoxModel",
          "state": {
            "_view_name": "HBoxView",
            "_dom_classes": [],
            "_model_name": "HBoxModel",
            "_view_module": "@jupyter-widgets/controls",
            "_model_module_version": "1.5.0",
            "_view_count": null,
            "_view_module_version": "1.5.0",
            "box_style": "",
            "layout": "IPY_MODEL_f555b9a3dc194cf59af820863a82234a",
            "_model_module": "@jupyter-widgets/controls",
            "children": [
              "IPY_MODEL_65ded4f7891c4e72a2590a028eb3d5cd",
              "IPY_MODEL_a346658a21014ab4aba28b070a2721a1"
            ]
          }
        },
        "f555b9a3dc194cf59af820863a82234a": {
          "model_module": "@jupyter-widgets/base",
          "model_name": "LayoutModel",
          "state": {
            "_view_name": "LayoutView",
            "grid_template_rows": null,
            "right": null,
            "justify_content": null,
            "_view_module": "@jupyter-widgets/base",
            "overflow": null,
            "_model_module_version": "1.2.0",
            "_view_count": null,
            "flex_flow": null,
            "width": null,
            "min_width": null,
            "border": null,
            "align_items": null,
            "bottom": null,
            "_model_module": "@jupyter-widgets/base",
            "top": null,
            "grid_column": null,
            "overflow_y": null,
            "overflow_x": null,
            "grid_auto_flow": null,
            "grid_area": null,
            "grid_template_columns": null,
            "flex": null,
            "_model_name": "LayoutModel",
            "justify_items": null,
            "grid_row": null,
            "max_height": null,
            "align_content": null,
            "visibility": null,
            "align_self": null,
            "height": null,
            "min_height": null,
            "padding": null,
            "grid_auto_rows": null,
            "grid_gap": null,
            "max_width": null,
            "order": null,
            "_view_module_version": "1.2.0",
            "grid_template_areas": null,
            "object_position": null,
            "object_fit": null,
            "grid_auto_columns": null,
            "margin": null,
            "display": null,
            "left": null
          }
        },
        "65ded4f7891c4e72a2590a028eb3d5cd": {
          "model_module": "@jupyter-widgets/controls",
          "model_name": "FloatProgressModel",
          "state": {
            "_view_name": "ProgressView",
            "style": "IPY_MODEL_79f6201175f4435b81f9fd578c77e163",
            "_dom_classes": [],
            "description": "",
            "_model_name": "FloatProgressModel",
            "bar_style": "success",
            "max": 1648877,
            "_view_module": "@jupyter-widgets/controls",
            "_model_module_version": "1.5.0",
            "value": 1648877,
            "_view_count": null,
            "_view_module_version": "1.5.0",
            "orientation": "horizontal",
            "min": 0,
            "description_tooltip": null,
            "_model_module": "@jupyter-widgets/controls",
            "layout": "IPY_MODEL_17d481dd1f6f401fa45216347d87a451"
          }
        },
        "a346658a21014ab4aba28b070a2721a1": {
          "model_module": "@jupyter-widgets/controls",
          "model_name": "HTMLModel",
          "state": {
            "_view_name": "HTMLView",
            "style": "IPY_MODEL_ed1546af64da42d1bfb8db0abe80ce72",
            "_dom_classes": [],
            "description": "",
            "_model_name": "HTMLModel",
            "placeholder": "​",
            "_view_module": "@jupyter-widgets/controls",
            "_model_module_version": "1.5.0",
            "value": " 1649664/? [11:58&lt;00:00, 2296.27it/s]",
            "_view_count": null,
            "_view_module_version": "1.5.0",
            "description_tooltip": null,
            "_model_module": "@jupyter-widgets/controls",
            "layout": "IPY_MODEL_0eff6e255c2d4c5592fddc8c98c35774"
          }
        },
        "79f6201175f4435b81f9fd578c77e163": {
          "model_module": "@jupyter-widgets/controls",
          "model_name": "ProgressStyleModel",
          "state": {
            "_view_name": "StyleView",
            "_model_name": "ProgressStyleModel",
            "description_width": "initial",
            "_view_module": "@jupyter-widgets/base",
            "_model_module_version": "1.5.0",
            "_view_count": null,
            "_view_module_version": "1.2.0",
            "bar_color": null,
            "_model_module": "@jupyter-widgets/controls"
          }
        },
        "17d481dd1f6f401fa45216347d87a451": {
          "model_module": "@jupyter-widgets/base",
          "model_name": "LayoutModel",
          "state": {
            "_view_name": "LayoutView",
            "grid_template_rows": null,
            "right": null,
            "justify_content": null,
            "_view_module": "@jupyter-widgets/base",
            "overflow": null,
            "_model_module_version": "1.2.0",
            "_view_count": null,
            "flex_flow": null,
            "width": null,
            "min_width": null,
            "border": null,
            "align_items": null,
            "bottom": null,
            "_model_module": "@jupyter-widgets/base",
            "top": null,
            "grid_column": null,
            "overflow_y": null,
            "overflow_x": null,
            "grid_auto_flow": null,
            "grid_area": null,
            "grid_template_columns": null,
            "flex": null,
            "_model_name": "LayoutModel",
            "justify_items": null,
            "grid_row": null,
            "max_height": null,
            "align_content": null,
            "visibility": null,
            "align_self": null,
            "height": null,
            "min_height": null,
            "padding": null,
            "grid_auto_rows": null,
            "grid_gap": null,
            "max_width": null,
            "order": null,
            "_view_module_version": "1.2.0",
            "grid_template_areas": null,
            "object_position": null,
            "object_fit": null,
            "grid_auto_columns": null,
            "margin": null,
            "display": null,
            "left": null
          }
        },
        "ed1546af64da42d1bfb8db0abe80ce72": {
          "model_module": "@jupyter-widgets/controls",
          "model_name": "DescriptionStyleModel",
          "state": {
            "_view_name": "StyleView",
            "_model_name": "DescriptionStyleModel",
            "description_width": "",
            "_view_module": "@jupyter-widgets/base",
            "_model_module_version": "1.5.0",
            "_view_count": null,
            "_view_module_version": "1.2.0",
            "_model_module": "@jupyter-widgets/controls"
          }
        },
        "0eff6e255c2d4c5592fddc8c98c35774": {
          "model_module": "@jupyter-widgets/base",
          "model_name": "LayoutModel",
          "state": {
            "_view_name": "LayoutView",
            "grid_template_rows": null,
            "right": null,
            "justify_content": null,
            "_view_module": "@jupyter-widgets/base",
            "overflow": null,
            "_model_module_version": "1.2.0",
            "_view_count": null,
            "flex_flow": null,
            "width": null,
            "min_width": null,
            "border": null,
            "align_items": null,
            "bottom": null,
            "_model_module": "@jupyter-widgets/base",
            "top": null,
            "grid_column": null,
            "overflow_y": null,
            "overflow_x": null,
            "grid_auto_flow": null,
            "grid_area": null,
            "grid_template_columns": null,
            "flex": null,
            "_model_name": "LayoutModel",
            "justify_items": null,
            "grid_row": null,
            "max_height": null,
            "align_content": null,
            "visibility": null,
            "align_self": null,
            "height": null,
            "min_height": null,
            "padding": null,
            "grid_auto_rows": null,
            "grid_gap": null,
            "max_width": null,
            "order": null,
            "_view_module_version": "1.2.0",
            "grid_template_areas": null,
            "object_position": null,
            "object_fit": null,
            "grid_auto_columns": null,
            "margin": null,
            "display": null,
            "left": null
          }
        },
        "2c363a7e12a34fad89cf0431944d2801": {
          "model_module": "@jupyter-widgets/controls",
          "model_name": "HBoxModel",
          "state": {
            "_view_name": "HBoxView",
            "_dom_classes": [],
            "_model_name": "HBoxModel",
            "_view_module": "@jupyter-widgets/controls",
            "_model_module_version": "1.5.0",
            "_view_count": null,
            "_view_module_version": "1.5.0",
            "box_style": "",
            "layout": "IPY_MODEL_0af022c0b1db41609a1e21d3744c91bc",
            "_model_module": "@jupyter-widgets/controls",
            "children": [
              "IPY_MODEL_db8bf2837f214f9f9d99018629dc41bf",
              "IPY_MODEL_de823008c4664ed799f7e50ce3aa3988"
            ]
          }
        },
        "0af022c0b1db41609a1e21d3744c91bc": {
          "model_module": "@jupyter-widgets/base",
          "model_name": "LayoutModel",
          "state": {
            "_view_name": "LayoutView",
            "grid_template_rows": null,
            "right": null,
            "justify_content": null,
            "_view_module": "@jupyter-widgets/base",
            "overflow": null,
            "_model_module_version": "1.2.0",
            "_view_count": null,
            "flex_flow": null,
            "width": null,
            "min_width": null,
            "border": null,
            "align_items": null,
            "bottom": null,
            "_model_module": "@jupyter-widgets/base",
            "top": null,
            "grid_column": null,
            "overflow_y": null,
            "overflow_x": null,
            "grid_auto_flow": null,
            "grid_area": null,
            "grid_template_columns": null,
            "flex": null,
            "_model_name": "LayoutModel",
            "justify_items": null,
            "grid_row": null,
            "max_height": null,
            "align_content": null,
            "visibility": null,
            "align_self": null,
            "height": null,
            "min_height": null,
            "padding": null,
            "grid_auto_rows": null,
            "grid_gap": null,
            "max_width": null,
            "order": null,
            "_view_module_version": "1.2.0",
            "grid_template_areas": null,
            "object_position": null,
            "object_fit": null,
            "grid_auto_columns": null,
            "margin": null,
            "display": null,
            "left": null
          }
        },
        "db8bf2837f214f9f9d99018629dc41bf": {
          "model_module": "@jupyter-widgets/controls",
          "model_name": "FloatProgressModel",
          "state": {
            "_view_name": "ProgressView",
            "style": "IPY_MODEL_5b5306e01e1e465ea4f139f97092aa94",
            "_dom_classes": [],
            "description": "",
            "_model_name": "FloatProgressModel",
            "bar_style": "success",
            "max": 4542,
            "_view_module": "@jupyter-widgets/controls",
            "_model_module_version": "1.5.0",
            "value": 4542,
            "_view_count": null,
            "_view_module_version": "1.5.0",
            "orientation": "horizontal",
            "min": 0,
            "description_tooltip": null,
            "_model_module": "@jupyter-widgets/controls",
            "layout": "IPY_MODEL_50c23b673fa24138a0e77f9fbc937855"
          }
        },
        "de823008c4664ed799f7e50ce3aa3988": {
          "model_module": "@jupyter-widgets/controls",
          "model_name": "HTMLModel",
          "state": {
            "_view_name": "HTMLView",
            "style": "IPY_MODEL_18e4466d6fd8458f8c458ea1560a911a",
            "_dom_classes": [],
            "description": "",
            "_model_name": "HTMLModel",
            "placeholder": "​",
            "_view_module": "@jupyter-widgets/controls",
            "_model_module_version": "1.5.0",
            "value": " 5120/? [00:09&lt;00:00, 541.11it/s]",
            "_view_count": null,
            "_view_module_version": "1.5.0",
            "description_tooltip": null,
            "_model_module": "@jupyter-widgets/controls",
            "layout": "IPY_MODEL_0108a04b88194967ac414e7410c1cbeb"
          }
        },
        "5b5306e01e1e465ea4f139f97092aa94": {
          "model_module": "@jupyter-widgets/controls",
          "model_name": "ProgressStyleModel",
          "state": {
            "_view_name": "StyleView",
            "_model_name": "ProgressStyleModel",
            "description_width": "initial",
            "_view_module": "@jupyter-widgets/base",
            "_model_module_version": "1.5.0",
            "_view_count": null,
            "_view_module_version": "1.2.0",
            "bar_color": null,
            "_model_module": "@jupyter-widgets/controls"
          }
        },
        "50c23b673fa24138a0e77f9fbc937855": {
          "model_module": "@jupyter-widgets/base",
          "model_name": "LayoutModel",
          "state": {
            "_view_name": "LayoutView",
            "grid_template_rows": null,
            "right": null,
            "justify_content": null,
            "_view_module": "@jupyter-widgets/base",
            "overflow": null,
            "_model_module_version": "1.2.0",
            "_view_count": null,
            "flex_flow": null,
            "width": null,
            "min_width": null,
            "border": null,
            "align_items": null,
            "bottom": null,
            "_model_module": "@jupyter-widgets/base",
            "top": null,
            "grid_column": null,
            "overflow_y": null,
            "overflow_x": null,
            "grid_auto_flow": null,
            "grid_area": null,
            "grid_template_columns": null,
            "flex": null,
            "_model_name": "LayoutModel",
            "justify_items": null,
            "grid_row": null,
            "max_height": null,
            "align_content": null,
            "visibility": null,
            "align_self": null,
            "height": null,
            "min_height": null,
            "padding": null,
            "grid_auto_rows": null,
            "grid_gap": null,
            "max_width": null,
            "order": null,
            "_view_module_version": "1.2.0",
            "grid_template_areas": null,
            "object_position": null,
            "object_fit": null,
            "grid_auto_columns": null,
            "margin": null,
            "display": null,
            "left": null
          }
        },
        "18e4466d6fd8458f8c458ea1560a911a": {
          "model_module": "@jupyter-widgets/controls",
          "model_name": "DescriptionStyleModel",
          "state": {
            "_view_name": "StyleView",
            "_model_name": "DescriptionStyleModel",
            "description_width": "",
            "_view_module": "@jupyter-widgets/base",
            "_model_module_version": "1.5.0",
            "_view_count": null,
            "_view_module_version": "1.2.0",
            "_model_module": "@jupyter-widgets/controls"
          }
        },
        "0108a04b88194967ac414e7410c1cbeb": {
          "model_module": "@jupyter-widgets/base",
          "model_name": "LayoutModel",
          "state": {
            "_view_name": "LayoutView",
            "grid_template_rows": null,
            "right": null,
            "justify_content": null,
            "_view_module": "@jupyter-widgets/base",
            "overflow": null,
            "_model_module_version": "1.2.0",
            "_view_count": null,
            "flex_flow": null,
            "width": null,
            "min_width": null,
            "border": null,
            "align_items": null,
            "bottom": null,
            "_model_module": "@jupyter-widgets/base",
            "top": null,
            "grid_column": null,
            "overflow_y": null,
            "overflow_x": null,
            "grid_auto_flow": null,
            "grid_area": null,
            "grid_template_columns": null,
            "flex": null,
            "_model_name": "LayoutModel",
            "justify_items": null,
            "grid_row": null,
            "max_height": null,
            "align_content": null,
            "visibility": null,
            "align_self": null,
            "height": null,
            "min_height": null,
            "padding": null,
            "grid_auto_rows": null,
            "grid_gap": null,
            "max_width": null,
            "order": null,
            "_view_module_version": "1.2.0",
            "grid_template_areas": null,
            "object_position": null,
            "object_fit": null,
            "grid_auto_columns": null,
            "margin": null,
            "display": null,
            "left": null
          }
        }
      }
    }
  },
  "cells": [
    {
      "cell_type": "markdown",
      "metadata": {
        "id": "view-in-github",
        "colab_type": "text"
      },
      "source": [
        "<a href=\"https://colab.research.google.com/github/vvrebellion/20191204_VITTORIA_ML/blob/main/Copy_of_03_minibatch_training.ipynb\" target=\"_parent\"><img src=\"https://colab.research.google.com/assets/colab-badge.svg\" alt=\"Open In Colab\"/></a>"
      ]
    },
    {
      "cell_type": "code",
      "metadata": {
        "id": "GJ-wL42Lxp7g"
      },
      "source": [
        "%load_ext autoreload\n",
        "%autoreload 2\n",
        "\n",
        "%matplotlib inline"
      ],
      "execution_count": 1,
      "outputs": []
    },
    {
      "cell_type": "markdown",
      "metadata": {
        "id": "et7kpimbPAXC"
      },
      "source": [
        ""
      ]
    },
    {
      "cell_type": "code",
      "metadata": {
        "id": "AO3i1A7iL--k"
      },
      "source": [
        "\n",
        "#from google.colab import drive\n",
        "#drive.mount('/content/gdrive')"
      ],
      "execution_count": null,
      "outputs": []
    },
    {
      "cell_type": "code",
      "metadata": {
        "colab": {
          "base_uri": "https://localhost:8080/"
        },
        "id": "WdH_c8nnqn-c",
        "outputId": "ab423be3-afbc-4350-86ef-2050f56f88c5"
      },
      "source": [
        "#Q1. Execute the following statement. What is displayed? What does it mean?\n",
        "!pwd"
      ],
      "execution_count": 2,
      "outputs": [
        {
          "output_type": "stream",
          "text": [
            "/content\n"
          ],
          "name": "stdout"
        }
      ]
    },
    {
      "cell_type": "markdown",
      "metadata": {
        "id": "HsMqW7UxPUQ9"
      },
      "source": [
        ""
      ]
    },
    {
      "cell_type": "markdown",
      "metadata": {
        "id": "XAObyZfVLVfT"
      },
      "source": [
        "A1: It displays /content , which is the path of the working directory.  pwd means  Print Working Directory, and in our case /content is the working directory"
      ]
    },
    {
      "cell_type": "code",
      "metadata": {
        "id": "jhAroxykqtRF",
        "colab": {
          "base_uri": "https://localhost:8080/"
        },
        "outputId": "e9cffc45-0bfd-43db-ac93-2ff668b12f64"
      },
      "source": [
        "#Q2: Execute the following statement. What happens?  Examine the left column of your colab page to see what happens.\n",
        "!git clone https://github.com/fastai/course-v3.git"
      ],
      "execution_count": 3,
      "outputs": [
        {
          "output_type": "stream",
          "text": [
            "Cloning into 'course-v3'...\n",
            "remote: Enumerating objects: 5890, done.\u001b[K\n",
            "remote: Total 5890 (delta 0), reused 0 (delta 0), pack-reused 5890\u001b[K\n",
            "Receiving objects: 100% (5890/5890), 263.03 MiB | 33.24 MiB/s, done.\n",
            "Resolving deltas: 100% (3249/3249), done.\n"
          ],
          "name": "stdout"
        }
      ]
    },
    {
      "cell_type": "markdown",
      "metadata": {
        "id": "EzkDz6UdLwdQ"
      },
      "source": [
        "A2: this statement clones the contents the course-v3 repository to our working directory. We are working on a remote machine which does not have the data sets and previously exported modules and packages that were developed during the course. So when we start a notebook, we have to clone the files from course-V3 repository, otherwise our code will not work!"
      ]
    },
    {
      "cell_type": "code",
      "metadata": {
        "id": "I86djNvcxp70"
      },
      "source": [
        "#export\n",
        "#Q3a: Execute the following statement. Read the error message. Explain what it means. \n",
        "\n",
        "from exp.nb_02 import *\n"
      ],
      "execution_count": null,
      "outputs": []
    },
    {
      "cell_type": "markdown",
      "metadata": {
        "id": "1UKDUtvcMKMy"
      },
      "source": [
        "A3a: The message says \"ModuleNotFoundError: No module named 'exp'\" which means the computer could not find the path of the module we are trying to import"
      ]
    },
    {
      "cell_type": "code",
      "metadata": {
        "id": "KsprL6o5IRIe"
      },
      "source": [
        "#Q3b. You can solve the problem by executing the following statement before the above statement. \n",
        "# Explain why the following statements can solve this \"module not found\" problem. "
      ],
      "execution_count": null,
      "outputs": []
    },
    {
      "cell_type": "code",
      "metadata": {
        "id": "0viyrQOz8TVm",
        "colab": {
          "base_uri": "https://localhost:8080/"
        },
        "outputId": "ec33b58b-7cc2-457e-e872-68cd398db8a4"
      },
      "source": [
        "import sys\n",
        "sys.path.append('/content/course-v3/nbs/dl2')\n",
        "sys.path"
      ],
      "execution_count": 4,
      "outputs": [
        {
          "output_type": "execute_result",
          "data": {
            "text/plain": [
              "['',\n",
              " '/content',\n",
              " '/env/python',\n",
              " '/usr/lib/python37.zip',\n",
              " '/usr/lib/python3.7',\n",
              " '/usr/lib/python3.7/lib-dynload',\n",
              " '/usr/local/lib/python3.7/dist-packages',\n",
              " '/usr/lib/python3/dist-packages',\n",
              " '/usr/local/lib/python3.7/dist-packages/IPython/extensions',\n",
              " '/root/.ipython',\n",
              " '/content/course-v3/nbs/dl2']"
            ]
          },
          "metadata": {
            "tags": []
          },
          "execution_count": 4
        }
      ]
    },
    {
      "cell_type": "markdown",
      "metadata": {
        "id": "C6ZqWBTcMk_-"
      },
      "source": [
        "A3b: We used sys.path.append()to include a new file path, /content/course-v3/nbs/dl2,  that contains modules that we want to import (a module is a python file).  "
      ]
    },
    {
      "cell_type": "code",
      "metadata": {
        "id": "jDlj09yaftUr"
      },
      "source": [
        "import torch.nn.functional as F"
      ],
      "execution_count": 18,
      "outputs": []
    },
    {
      "cell_type": "code",
      "metadata": {
        "id": "FOZb4AeKq6vQ"
      },
      "source": [
        ""
      ],
      "execution_count": null,
      "outputs": []
    },
    {
      "cell_type": "markdown",
      "metadata": {
        "id": "iywbFmpbxp73"
      },
      "source": [
        "## Initial setup"
      ]
    },
    {
      "cell_type": "markdown",
      "metadata": {
        "id": "G5DBpkZWxp75"
      },
      "source": [
        "### Data"
      ]
    },
    {
      "cell_type": "markdown",
      "metadata": {
        "id": "Q_7vJLX_xp75"
      },
      "source": [
        "[Jump_to lesson 9 video](https://course.fast.ai/videos/?lesson=9&t=1786)"
      ]
    },
    {
      "cell_type": "code",
      "metadata": {
        "id": "xg8JmuuDLwmt"
      },
      "source": [
        "from IPython.display import Image\n",
        "from six.moves import urllib\n",
        "\n",
        "opener = urllib.request.build_opener()\n",
        "opener.addheaders = [('User-agent', 'Mozilla/5.0')]\n",
        "urllib.request.install_opener(opener)\n",
        "\n",
        "def get_data():\n",
        "    import os\n",
        "    import torchvision.datasets as datasets\n",
        "    root = '../data'\n",
        "    if not os.path.exists(root):\n",
        "        os.mkdir(root)\n",
        "\n",
        "    train_set = datasets.MNIST(root=root, train=True, download=True)\n",
        "    test_set = datasets.MNIST(root=root, train=False, download=True) #load validation set\n",
        "    x_train, x_valid = train_set.data.split([50000, 10000])\n",
        "    y_train, y_valid = train_set.targets.split([50000, 10000])\n",
        "    return (x_train.view(50000, -1) / 256.0), y_train.float(), (x_valid.view(10000, -1))/ 256.0, y_valid.float()\n",
        "\n"
      ],
      "execution_count": 6,
      "outputs": []
    },
    {
      "cell_type": "code",
      "metadata": {
        "id": "TRKV-q7Kxp76"
      },
      "source": [
        "#mpl.rcParams['image.cmap'] = 'gray'"
      ],
      "execution_count": null,
      "outputs": []
    },
    {
      "cell_type": "code",
      "metadata": {
        "id": "i6um-ZEMxp76",
        "colab": {
          "base_uri": "https://localhost:8080/",
          "height": 794,
          "referenced_widgets": [
            "f8fe3ee5f8a34bcb89973779f872ced5",
            "652d2b322ce14767b1fda8081bc7a9ae",
            "34fd5f50e92e4cde9026f1a2947f1c9d",
            "c5bd39b5ebfd4833b0f630c03d4ebc34",
            "e0cba8fe287b4f3f853d2c8ab134555e",
            "82d5070f34fe4d2ca9ff3dbbf6c5736b",
            "725ede800aa2419890af6a010103b306",
            "09a8870a92df4a549a3cfb202ee3cb8f",
            "8949fcee3e3b467992ff6db9e1d6d1eb",
            "c8ded3d468ff4dbba92f44b6a1b52726",
            "d03f00353a7b4defbf126aaef686ddd3",
            "a3ffc94c51dd43fc91feaa9db8cb31f4",
            "4121ef3312924f0c87319c69fe614af4",
            "a643124414a84da082a98773d8492616",
            "f6c86e2c03844b078b240f77372a89d2",
            "6f1e9b9d017e4c37bb45c36be1951698",
            "2ce2cb42bc154da8b430f67355d4a1b1",
            "f555b9a3dc194cf59af820863a82234a",
            "65ded4f7891c4e72a2590a028eb3d5cd",
            "a346658a21014ab4aba28b070a2721a1",
            "79f6201175f4435b81f9fd578c77e163",
            "17d481dd1f6f401fa45216347d87a451",
            "ed1546af64da42d1bfb8db0abe80ce72",
            "0eff6e255c2d4c5592fddc8c98c35774",
            "2c363a7e12a34fad89cf0431944d2801",
            "0af022c0b1db41609a1e21d3744c91bc",
            "db8bf2837f214f9f9d99018629dc41bf",
            "de823008c4664ed799f7e50ce3aa3988",
            "5b5306e01e1e465ea4f139f97092aa94",
            "50c23b673fa24138a0e77f9fbc937855",
            "18e4466d6fd8458f8c458ea1560a911a",
            "0108a04b88194967ac414e7410c1cbeb"
          ]
        },
        "outputId": "cf00c451-264d-403e-a256-ca0a697014c1"
      },
      "source": [
        "#Q4: when you execute the following statement, where is the downloaded data stored? Examine the left column of your colab page.\n",
        "x_train,y_train,x_valid,y_valid = get_data()"
      ],
      "execution_count": 7,
      "outputs": [
        {
          "output_type": "stream",
          "text": [
            "Downloading http://yann.lecun.com/exdb/mnist/train-images-idx3-ubyte.gz\n",
            "Failed to download (trying next):\n",
            "HTTP Error 503: Service Unavailable\n",
            "\n",
            "Downloading https://ossci-datasets.s3.amazonaws.com/mnist/train-images-idx3-ubyte.gz\n",
            "Downloading https://ossci-datasets.s3.amazonaws.com/mnist/train-images-idx3-ubyte.gz to ../data/MNIST/raw/train-images-idx3-ubyte.gz\n"
          ],
          "name": "stdout"
        },
        {
          "output_type": "display_data",
          "data": {
            "application/vnd.jupyter.widget-view+json": {
              "model_id": "f8fe3ee5f8a34bcb89973779f872ced5",
              "version_minor": 0,
              "version_major": 2
            },
            "text/plain": [
              "HBox(children=(FloatProgress(value=0.0, max=9912422.0), HTML(value='')))"
            ]
          },
          "metadata": {
            "tags": []
          }
        },
        {
          "output_type": "stream",
          "text": [
            "\n",
            "Extracting ../data/MNIST/raw/train-images-idx3-ubyte.gz to ../data/MNIST/raw\n",
            "\n",
            "Downloading http://yann.lecun.com/exdb/mnist/train-labels-idx1-ubyte.gz\n",
            "Failed to download (trying next):\n",
            "HTTP Error 503: Service Unavailable\n",
            "\n",
            "Downloading https://ossci-datasets.s3.amazonaws.com/mnist/train-labels-idx1-ubyte.gz\n",
            "Downloading https://ossci-datasets.s3.amazonaws.com/mnist/train-labels-idx1-ubyte.gz to ../data/MNIST/raw/train-labels-idx1-ubyte.gz\n"
          ],
          "name": "stdout"
        },
        {
          "output_type": "display_data",
          "data": {
            "application/vnd.jupyter.widget-view+json": {
              "model_id": "8949fcee3e3b467992ff6db9e1d6d1eb",
              "version_minor": 0,
              "version_major": 2
            },
            "text/plain": [
              "HBox(children=(FloatProgress(value=0.0, max=28881.0), HTML(value='')))"
            ]
          },
          "metadata": {
            "tags": []
          }
        },
        {
          "output_type": "stream",
          "text": [
            "\n",
            "Extracting ../data/MNIST/raw/train-labels-idx1-ubyte.gz to ../data/MNIST/raw\n",
            "\n",
            "Downloading http://yann.lecun.com/exdb/mnist/t10k-images-idx3-ubyte.gz\n",
            "Downloading http://yann.lecun.com/exdb/mnist/t10k-images-idx3-ubyte.gz to ../data/MNIST/raw/t10k-images-idx3-ubyte.gz\n",
            "Failed to download (trying next):\n",
            "HTTP Error 503: Service Unavailable\n",
            "\n",
            "Downloading https://ossci-datasets.s3.amazonaws.com/mnist/t10k-images-idx3-ubyte.gz\n",
            "Downloading https://ossci-datasets.s3.amazonaws.com/mnist/t10k-images-idx3-ubyte.gz to ../data/MNIST/raw/t10k-images-idx3-ubyte.gz\n"
          ],
          "name": "stdout"
        },
        {
          "output_type": "display_data",
          "data": {
            "application/vnd.jupyter.widget-view+json": {
              "model_id": "2ce2cb42bc154da8b430f67355d4a1b1",
              "version_minor": 0,
              "version_major": 2
            },
            "text/plain": [
              "HBox(children=(FloatProgress(value=0.0, max=1648877.0), HTML(value='')))"
            ]
          },
          "metadata": {
            "tags": []
          }
        },
        {
          "output_type": "stream",
          "text": [
            "\n",
            "Extracting ../data/MNIST/raw/t10k-images-idx3-ubyte.gz to ../data/MNIST/raw\n",
            "\n",
            "Downloading http://yann.lecun.com/exdb/mnist/t10k-labels-idx1-ubyte.gz\n",
            "Downloading http://yann.lecun.com/exdb/mnist/t10k-labels-idx1-ubyte.gz to ../data/MNIST/raw/t10k-labels-idx1-ubyte.gz\n"
          ],
          "name": "stdout"
        },
        {
          "output_type": "display_data",
          "data": {
            "application/vnd.jupyter.widget-view+json": {
              "model_id": "2c363a7e12a34fad89cf0431944d2801",
              "version_minor": 0,
              "version_major": 2
            },
            "text/plain": [
              "HBox(children=(FloatProgress(value=0.0, max=4542.0), HTML(value='')))"
            ]
          },
          "metadata": {
            "tags": []
          }
        },
        {
          "output_type": "stream",
          "text": [
            "\n",
            "Extracting ../data/MNIST/raw/t10k-labels-idx1-ubyte.gz to ../data/MNIST/raw\n",
            "\n",
            "Processing...\n",
            "Done!\n"
          ],
          "name": "stdout"
        },
        {
          "output_type": "stream",
          "text": [
            "/usr/local/lib/python3.7/dist-packages/torchvision/datasets/mnist.py:502: UserWarning: The given NumPy array is not writeable, and PyTorch does not support non-writeable tensors. This means you can write to the underlying (supposedly non-writeable) NumPy array using the tensor. You may want to copy the array to protect its data or make it writeable before converting it to a tensor. This type of warning will be suppressed for the rest of this program. (Triggered internally at  /pytorch/torch/csrc/utils/tensor_numpy.cpp:143.)\n",
            "  return torch.from_numpy(parsed.astype(m[2], copy=False)).view(*s)\n"
          ],
          "name": "stderr"
        }
      ]
    },
    {
      "cell_type": "markdown",
      "metadata": {
        "id": "3oFN6d_xNKAA"
      },
      "source": [
        "A4: The data is stored in folder course-v3/nbs/data folder.\n"
      ]
    },
    {
      "cell_type": "code",
      "metadata": {
        "id": "oHcenWs_rZ_I",
        "colab": {
          "base_uri": "https://localhost:8080/"
        },
        "outputId": "e360cd70-53cd-4baf-87b2-6c1a51885a79"
      },
      "source": [
        "#Q5a: Execute the following statement. What does the number displayed mean?\n",
        "len(x_train)"
      ],
      "execution_count": 8,
      "outputs": [
        {
          "output_type": "execute_result",
          "data": {
            "text/plain": [
              "50000"
            ]
          },
          "metadata": {
            "tags": []
          },
          "execution_count": 8
        }
      ]
    },
    {
      "cell_type": "markdown",
      "metadata": {
        "id": "YC8CeAOROHsZ"
      },
      "source": [
        "A5a: len(x_train) displays the number of inputs X of our training data set.\n",
        "In this case, our data are binary images of digits from 0 to 9. \n",
        "The length of x_train is 50,000, which means we have 50,000 input images. \n",
        "This makes x_train a matrix with 50,000 rows, each row representing a binary image of digits from 0 to 9. Each image is of 28 by 28 dimension, making the number of columns in the matrix equal to 784."
      ]
    },
    {
      "cell_type": "code",
      "metadata": {
        "id": "mxSwa7g5rcer",
        "colab": {
          "base_uri": "https://localhost:8080/"
        },
        "outputId": "fb7da5a4-03a7-49a6-aae8-6475ec662aa5"
      },
      "source": [
        "#Q5b: Execute the following statement. What do the numbers displayed refer to?\n",
        "x_train[0]"
      ],
      "execution_count": 9,
      "outputs": [
        {
          "output_type": "execute_result",
          "data": {
            "text/plain": [
              "tensor([0.0000, 0.0000, 0.0000, 0.0000, 0.0000, 0.0000, 0.0000, 0.0000, 0.0000,\n",
              "        0.0000, 0.0000, 0.0000, 0.0000, 0.0000, 0.0000, 0.0000, 0.0000, 0.0000,\n",
              "        0.0000, 0.0000, 0.0000, 0.0000, 0.0000, 0.0000, 0.0000, 0.0000, 0.0000,\n",
              "        0.0000, 0.0000, 0.0000, 0.0000, 0.0000, 0.0000, 0.0000, 0.0000, 0.0000,\n",
              "        0.0000, 0.0000, 0.0000, 0.0000, 0.0000, 0.0000, 0.0000, 0.0000, 0.0000,\n",
              "        0.0000, 0.0000, 0.0000, 0.0000, 0.0000, 0.0000, 0.0000, 0.0000, 0.0000,\n",
              "        0.0000, 0.0000, 0.0000, 0.0000, 0.0000, 0.0000, 0.0000, 0.0000, 0.0000,\n",
              "        0.0000, 0.0000, 0.0000, 0.0000, 0.0000, 0.0000, 0.0000, 0.0000, 0.0000,\n",
              "        0.0000, 0.0000, 0.0000, 0.0000, 0.0000, 0.0000, 0.0000, 0.0000, 0.0000,\n",
              "        0.0000, 0.0000, 0.0000, 0.0000, 0.0000, 0.0000, 0.0000, 0.0000, 0.0000,\n",
              "        0.0000, 0.0000, 0.0000, 0.0000, 0.0000, 0.0000, 0.0000, 0.0000, 0.0000,\n",
              "        0.0000, 0.0000, 0.0000, 0.0000, 0.0000, 0.0000, 0.0000, 0.0000, 0.0000,\n",
              "        0.0000, 0.0000, 0.0000, 0.0000, 0.0000, 0.0000, 0.0000, 0.0000, 0.0000,\n",
              "        0.0000, 0.0000, 0.0000, 0.0000, 0.0000, 0.0000, 0.0000, 0.0000, 0.0000,\n",
              "        0.0000, 0.0000, 0.0000, 0.0000, 0.0000, 0.0000, 0.0000, 0.0000, 0.0000,\n",
              "        0.0000, 0.0000, 0.0000, 0.0000, 0.0000, 0.0000, 0.0000, 0.0000, 0.0000,\n",
              "        0.0000, 0.0000, 0.0000, 0.0000, 0.0000, 0.0000, 0.0000, 0.0000, 0.0117,\n",
              "        0.0703, 0.0703, 0.0703, 0.4922, 0.5312, 0.6836, 0.1016, 0.6484, 0.9961,\n",
              "        0.9648, 0.4961, 0.0000, 0.0000, 0.0000, 0.0000, 0.0000, 0.0000, 0.0000,\n",
              "        0.0000, 0.0000, 0.0000, 0.0000, 0.0000, 0.1172, 0.1406, 0.3672, 0.6016,\n",
              "        0.6641, 0.9883, 0.9883, 0.9883, 0.9883, 0.9883, 0.8789, 0.6719, 0.9883,\n",
              "        0.9453, 0.7617, 0.2500, 0.0000, 0.0000, 0.0000, 0.0000, 0.0000, 0.0000,\n",
              "        0.0000, 0.0000, 0.0000, 0.0000, 0.0000, 0.1914, 0.9297, 0.9883, 0.9883,\n",
              "        0.9883, 0.9883, 0.9883, 0.9883, 0.9883, 0.9883, 0.9805, 0.3633, 0.3203,\n",
              "        0.3203, 0.2188, 0.1523, 0.0000, 0.0000, 0.0000, 0.0000, 0.0000, 0.0000,\n",
              "        0.0000, 0.0000, 0.0000, 0.0000, 0.0000, 0.0000, 0.0703, 0.8555, 0.9883,\n",
              "        0.9883, 0.9883, 0.9883, 0.9883, 0.7734, 0.7109, 0.9648, 0.9414, 0.0000,\n",
              "        0.0000, 0.0000, 0.0000, 0.0000, 0.0000, 0.0000, 0.0000, 0.0000, 0.0000,\n",
              "        0.0000, 0.0000, 0.0000, 0.0000, 0.0000, 0.0000, 0.0000, 0.0000, 0.3125,\n",
              "        0.6094, 0.4180, 0.9883, 0.9883, 0.8008, 0.0430, 0.0000, 0.1680, 0.6016,\n",
              "        0.0000, 0.0000, 0.0000, 0.0000, 0.0000, 0.0000, 0.0000, 0.0000, 0.0000,\n",
              "        0.0000, 0.0000, 0.0000, 0.0000, 0.0000, 0.0000, 0.0000, 0.0000, 0.0000,\n",
              "        0.0000, 0.0547, 0.0039, 0.6016, 0.9883, 0.3516, 0.0000, 0.0000, 0.0000,\n",
              "        0.0000, 0.0000, 0.0000, 0.0000, 0.0000, 0.0000, 0.0000, 0.0000, 0.0000,\n",
              "        0.0000, 0.0000, 0.0000, 0.0000, 0.0000, 0.0000, 0.0000, 0.0000, 0.0000,\n",
              "        0.0000, 0.0000, 0.0000, 0.0000, 0.5430, 0.9883, 0.7422, 0.0078, 0.0000,\n",
              "        0.0000, 0.0000, 0.0000, 0.0000, 0.0000, 0.0000, 0.0000, 0.0000, 0.0000,\n",
              "        0.0000, 0.0000, 0.0000, 0.0000, 0.0000, 0.0000, 0.0000, 0.0000, 0.0000,\n",
              "        0.0000, 0.0000, 0.0000, 0.0000, 0.0000, 0.0430, 0.7422, 0.9883, 0.2734,\n",
              "        0.0000, 0.0000, 0.0000, 0.0000, 0.0000, 0.0000, 0.0000, 0.0000, 0.0000,\n",
              "        0.0000, 0.0000, 0.0000, 0.0000, 0.0000, 0.0000, 0.0000, 0.0000, 0.0000,\n",
              "        0.0000, 0.0000, 0.0000, 0.0000, 0.0000, 0.0000, 0.0000, 0.1367, 0.9414,\n",
              "        0.8789, 0.6250, 0.4219, 0.0039, 0.0000, 0.0000, 0.0000, 0.0000, 0.0000,\n",
              "        0.0000, 0.0000, 0.0000, 0.0000, 0.0000, 0.0000, 0.0000, 0.0000, 0.0000,\n",
              "        0.0000, 0.0000, 0.0000, 0.0000, 0.0000, 0.0000, 0.0000, 0.0000, 0.0000,\n",
              "        0.3164, 0.9375, 0.9883, 0.9883, 0.4648, 0.0977, 0.0000, 0.0000, 0.0000,\n",
              "        0.0000, 0.0000, 0.0000, 0.0000, 0.0000, 0.0000, 0.0000, 0.0000, 0.0000,\n",
              "        0.0000, 0.0000, 0.0000, 0.0000, 0.0000, 0.0000, 0.0000, 0.0000, 0.0000,\n",
              "        0.0000, 0.0000, 0.1758, 0.7266, 0.9883, 0.9883, 0.5859, 0.1055, 0.0000,\n",
              "        0.0000, 0.0000, 0.0000, 0.0000, 0.0000, 0.0000, 0.0000, 0.0000, 0.0000,\n",
              "        0.0000, 0.0000, 0.0000, 0.0000, 0.0000, 0.0000, 0.0000, 0.0000, 0.0000,\n",
              "        0.0000, 0.0000, 0.0000, 0.0000, 0.0625, 0.3633, 0.9844, 0.9883, 0.7305,\n",
              "        0.0000, 0.0000, 0.0000, 0.0000, 0.0000, 0.0000, 0.0000, 0.0000, 0.0000,\n",
              "        0.0000, 0.0000, 0.0000, 0.0000, 0.0000, 0.0000, 0.0000, 0.0000, 0.0000,\n",
              "        0.0000, 0.0000, 0.0000, 0.0000, 0.0000, 0.0000, 0.0000, 0.9727, 0.9883,\n",
              "        0.9727, 0.2500, 0.0000, 0.0000, 0.0000, 0.0000, 0.0000, 0.0000, 0.0000,\n",
              "        0.0000, 0.0000, 0.0000, 0.0000, 0.0000, 0.0000, 0.0000, 0.0000, 0.0000,\n",
              "        0.0000, 0.0000, 0.0000, 0.0000, 0.0000, 0.1797, 0.5078, 0.7148, 0.9883,\n",
              "        0.9883, 0.8086, 0.0078, 0.0000, 0.0000, 0.0000, 0.0000, 0.0000, 0.0000,\n",
              "        0.0000, 0.0000, 0.0000, 0.0000, 0.0000, 0.0000, 0.0000, 0.0000, 0.0000,\n",
              "        0.0000, 0.0000, 0.0000, 0.0000, 0.1523, 0.5781, 0.8945, 0.9883, 0.9883,\n",
              "        0.9883, 0.9766, 0.7109, 0.0000, 0.0000, 0.0000, 0.0000, 0.0000, 0.0000,\n",
              "        0.0000, 0.0000, 0.0000, 0.0000, 0.0000, 0.0000, 0.0000, 0.0000, 0.0000,\n",
              "        0.0000, 0.0000, 0.0000, 0.0938, 0.4453, 0.8633, 0.9883, 0.9883, 0.9883,\n",
              "        0.9883, 0.7852, 0.3047, 0.0000, 0.0000, 0.0000, 0.0000, 0.0000, 0.0000,\n",
              "        0.0000, 0.0000, 0.0000, 0.0000, 0.0000, 0.0000, 0.0000, 0.0000, 0.0000,\n",
              "        0.0000, 0.0000, 0.0898, 0.2578, 0.8320, 0.9883, 0.9883, 0.9883, 0.9883,\n",
              "        0.7734, 0.3164, 0.0078, 0.0000, 0.0000, 0.0000, 0.0000, 0.0000, 0.0000,\n",
              "        0.0000, 0.0000, 0.0000, 0.0000, 0.0000, 0.0000, 0.0000, 0.0000, 0.0000,\n",
              "        0.0000, 0.0703, 0.6680, 0.8555, 0.9883, 0.9883, 0.9883, 0.9883, 0.7617,\n",
              "        0.3125, 0.0352, 0.0000, 0.0000, 0.0000, 0.0000, 0.0000, 0.0000, 0.0000,\n",
              "        0.0000, 0.0000, 0.0000, 0.0000, 0.0000, 0.0000, 0.0000, 0.0000, 0.0000,\n",
              "        0.2148, 0.6719, 0.8828, 0.9883, 0.9883, 0.9883, 0.9883, 0.9531, 0.5195,\n",
              "        0.0430, 0.0000, 0.0000, 0.0000, 0.0000, 0.0000, 0.0000, 0.0000, 0.0000,\n",
              "        0.0000, 0.0000, 0.0000, 0.0000, 0.0000, 0.0000, 0.0000, 0.0000, 0.0000,\n",
              "        0.0000, 0.5312, 0.9883, 0.9883, 0.9883, 0.8281, 0.5273, 0.5156, 0.0625,\n",
              "        0.0000, 0.0000, 0.0000, 0.0000, 0.0000, 0.0000, 0.0000, 0.0000, 0.0000,\n",
              "        0.0000, 0.0000, 0.0000, 0.0000, 0.0000, 0.0000, 0.0000, 0.0000, 0.0000,\n",
              "        0.0000, 0.0000, 0.0000, 0.0000, 0.0000, 0.0000, 0.0000, 0.0000, 0.0000,\n",
              "        0.0000, 0.0000, 0.0000, 0.0000, 0.0000, 0.0000, 0.0000, 0.0000, 0.0000,\n",
              "        0.0000, 0.0000, 0.0000, 0.0000, 0.0000, 0.0000, 0.0000, 0.0000, 0.0000,\n",
              "        0.0000, 0.0000, 0.0000, 0.0000, 0.0000, 0.0000, 0.0000, 0.0000, 0.0000,\n",
              "        0.0000, 0.0000, 0.0000, 0.0000, 0.0000, 0.0000, 0.0000, 0.0000, 0.0000,\n",
              "        0.0000, 0.0000, 0.0000, 0.0000, 0.0000, 0.0000, 0.0000, 0.0000, 0.0000,\n",
              "        0.0000, 0.0000, 0.0000, 0.0000, 0.0000, 0.0000, 0.0000, 0.0000, 0.0000,\n",
              "        0.0000, 0.0000, 0.0000, 0.0000, 0.0000, 0.0000, 0.0000, 0.0000, 0.0000,\n",
              "        0.0000, 0.0000, 0.0000, 0.0000, 0.0000, 0.0000, 0.0000, 0.0000, 0.0000,\n",
              "        0.0000])"
            ]
          },
          "metadata": {
            "tags": []
          },
          "execution_count": 9
        }
      ]
    },
    {
      "cell_type": "markdown",
      "metadata": {
        "id": "ax3V0miCOsWy"
      },
      "source": [
        "5b: it displays the first element of xtrain, one of the data set images in matrix form. the elements in this matrix represent the pixels of the picture, eg. 0 represents the black color.\n"
      ]
    },
    {
      "cell_type": "code",
      "metadata": {
        "colab": {
          "base_uri": "https://localhost:8080/"
        },
        "id": "PTrGABBgiPvi",
        "outputId": "9ec2c6d5-a571-40b8-fd13-4f596bc0ca9f"
      },
      "source": [
        "#Q5c: Execute the following statement. What do the numbers displayed refer to?\n",
        "y_train[0]"
      ],
      "execution_count": 11,
      "outputs": [
        {
          "output_type": "execute_result",
          "data": {
            "text/plain": [
              "tensor(5.)"
            ]
          },
          "metadata": {
            "tags": []
          },
          "execution_count": 11
        }
      ]
    },
    {
      "cell_type": "markdown",
      "metadata": {
        "id": "QICirqFLQG-G"
      },
      "source": [
        "5c: y_train contains the outputs, the labels of the pictures, in this case a digit from 0 to 9 for each of the 50,000 inside the x_train.\n",
        "this statement displays the first element inside y_train, which is the label of digit 5"
      ]
    },
    {
      "cell_type": "code",
      "metadata": {
        "colab": {
          "base_uri": "https://localhost:8080/"
        },
        "id": "pzZC2MDkhtdJ",
        "outputId": "84055ea8-9b9a-401f-ec51-7c68077e112b"
      },
      "source": [
        "#Q5d. Execute the following statement. What does the number displayed refer to? \n",
        "x_train[0].shape"
      ],
      "execution_count": 12,
      "outputs": [
        {
          "output_type": "execute_result",
          "data": {
            "text/plain": [
              "torch.Size([784])"
            ]
          },
          "metadata": {
            "tags": []
          },
          "execution_count": 12
        }
      ]
    },
    {
      "cell_type": "markdown",
      "metadata": {
        "id": "oCo980zxPlDQ"
      },
      "source": [
        "5d: This number is the amount of colums inside the first row, or first element, of x_train. It is 784, also 28*28 because that is the dimension of the picture (total number of pixels of the unrolled image). If we plot the image we can the see the actual picture of a number."
      ]
    },
    {
      "cell_type": "code",
      "metadata": {
        "id": "pA-uJSgpD1Z0",
        "colab": {
          "base_uri": "https://localhost:8080/"
        },
        "outputId": "6d6dc071-8b95-4a51-e180-9e0ce8b7fdaf"
      },
      "source": [
        "#Q5e. Execute the following statement. What do the numbers displayed refer to?\n",
        "x_train.shape"
      ],
      "execution_count": 13,
      "outputs": [
        {
          "output_type": "execute_result",
          "data": {
            "text/plain": [
              "torch.Size([50000, 784])"
            ]
          },
          "metadata": {
            "tags": []
          },
          "execution_count": 13
        }
      ]
    },
    {
      "cell_type": "markdown",
      "metadata": {
        "id": "4cFalRR8Qma-"
      },
      "source": [
        "5e: these numbers tell us that x_train is matrix with 50,000 rows, (each row representing a binary image of digits from 0 to 9), and 784 columns (Each image is of 28 by 28 dimension, making the number of columns in the matrix equal to 784)"
      ]
    },
    {
      "cell_type": "code",
      "metadata": {
        "colab": {
          "base_uri": "https://localhost:8080/"
        },
        "id": "RkNGxyrOibgh",
        "outputId": "c1bc042f-9480-46cc-f51c-26637a7d6a8a"
      },
      "source": [
        "#Q5f. Execute the following statement. What do the numbers displayed refer to?\n",
        "y_train.shape"
      ],
      "execution_count": 14,
      "outputs": [
        {
          "output_type": "execute_result",
          "data": {
            "text/plain": [
              "torch.Size([50000])"
            ]
          },
          "metadata": {
            "tags": []
          },
          "execution_count": 14
        }
      ]
    },
    {
      "cell_type": "markdown",
      "metadata": {
        "id": "kTbBiV6wRJwX"
      },
      "source": [
        "A5f: this shows us that there are 50,000 elements inside the y_train, each one is a label (digit 0-9) corresponding to the images in x_train"
      ]
    },
    {
      "cell_type": "code",
      "metadata": {
        "id": "DESekbEYxp77"
      },
      "source": [
        "#Q6: Display the values of n,m, c, and nh. What are they? For what are they used in the following code? \n",
        "n,m = x_train.shape\n",
        "c = y_train.max()+1\n",
        "nh = 50"
      ],
      "execution_count": 15,
      "outputs": []
    },
    {
      "cell_type": "markdown",
      "metadata": {
        "id": "GB1o5VqlREUR"
      },
      "source": [
        "A6:we are storing the numbers of n = rows, m = colums \n",
        "since they are equal to x_train, we will have n =50000 and m = 784\n",
        "c = classes, there are 10 different classes found in y_train: digits 0 to 9\n",
        "nh = number of hidden units, in this model nh = 50"
      ]
    },
    {
      "cell_type": "code",
      "metadata": {
        "id": "C-cRmOm5kA8O"
      },
      "source": [
        "from torch import nn"
      ],
      "execution_count": 19,
      "outputs": []
    },
    {
      "cell_type": "code",
      "metadata": {
        "id": "_cCzC9iZxp77"
      },
      "source": [
        "#The following defines Model class, which will be used to create a neural net.\n",
        "#Q7a: nn.Module is the parent class of class Model. Why do you want to make Model a child class to its parent nn.Module, rather than making Model stand on its own?\n",
        "#Q7b. See the definition of self.layers field. It contains nn.Linear(n_in,nh). What is the difference between nn.Linear class nn.Linear(n_in,nh)? \n",
        "#Q7c. Would you think that the weight and bias parameters of the two linear layers are initialized when object nn.Linear(n_in,nh) is constructed? If so, guess why.\n",
        "\n",
        "class Model(nn.Module):\n",
        "    def __init__(self, n_in, nh, n_out):\n",
        "        super().__init__()\n",
        "        self.layers = [nn.Linear(n_in,nh), nn.ReLU(), nn.Linear(nh,n_out)]\n",
        "        \n",
        "    def __call__(self, x):\n",
        "        for l in self.layers: x = l(x)\n",
        "        return x"
      ],
      "execution_count": 21,
      "outputs": []
    },
    {
      "cell_type": "markdown",
      "metadata": {
        "id": "HGNPOTseR-ZQ"
      },
      "source": [
        "* 7.a Module is a class,which is used as a constructor of an object, which will belong to this class.We want to use nn.Module, which has useful methods like parameters() , call() and others which will help us build our neural net. With nn.Module we can also assign submoduls as atributes, and they will nest in a tree structure.\n",
        "\n",
        "* 7.b nn. Linear(n,m) is a module that creates single layer to forward the network with n inputs and m output, nn.Linear(n_in,nh) will do the same but with the inputs from previous layer and connect them to the hidden layers\n",
        "\n",
        "* 7.c I think so, because there is a nn.ReLU inside self.layers and Relu is an activation function"
      ]
    },
    {
      "cell_type": "markdown",
      "metadata": {
        "id": "K3PQIzx6T2zg"
      },
      "source": [
        ""
      ]
    },
    {
      "cell_type": "code",
      "metadata": {
        "id": "LJx4LIA1xp78"
      },
      "source": [
        "#Q8. When the following statement is executed, what happens? Explain by referring to a method in class Model.\n",
        "model = Model(m, nh, 10)"
      ],
      "execution_count": 22,
      "outputs": []
    },
    {
      "cell_type": "markdown",
      "metadata": {
        "id": "RNj_Jll4T9hA"
      },
      "source": [
        ""
      ]
    },
    {
      "cell_type": "markdown",
      "metadata": {
        "id": "56zT1pZaUmkk"
      },
      "source": [
        "A8: we create our model which is going to perform a forward pass of our neural network and give us 10 outputs"
      ]
    },
    {
      "cell_type": "code",
      "metadata": {
        "id": "gPFt346vxp78"
      },
      "source": [
        "#Q9a. When the following statement is executed, what happens? Explain by referring to a method in class Model. \n",
        "#Q9b. Draw a diagram or a graph by using arrows and boxes, which shows what computation is performed when model(x_train) is executed.\n",
        "pred = model(x_train)"
      ],
      "execution_count": 23,
      "outputs": []
    },
    {
      "cell_type": "markdown",
      "metadata": {
        "id": "sDd-uvYqUA_2"
      },
      "source": [
        ""
      ]
    },
    {
      "cell_type": "markdown",
      "metadata": {
        "id": "UuIzkAwcVMh7"
      },
      "source": [
        "A9a: the function call is going to be executed, We are multiplying the gradients of the previous layer which is the output layer for the ReLU\n",
        "A9b:\n"
      ]
    },
    {
      "cell_type": "markdown",
      "metadata": {
        "id": "QdbAO_Ofphwg"
      },
      "source": [
        "![Screen Shot 2021-04-22 at 21.54.58.png](data:image/png;base64,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)"
      ]
    },
    {
      "cell_type": "code",
      "metadata": {
        "id": "gXbLts9ZRMgd",
        "colab": {
          "base_uri": "https://localhost:8080/"
        },
        "outputId": "bf891450-cf72-4796-fc65-fde47fdc0c94"
      },
      "source": [
        "#Q10: Execute the following statement. What do the 10 displayed numbers refer to?\n",
        "pred[0]"
      ],
      "execution_count": 24,
      "outputs": [
        {
          "output_type": "execute_result",
          "data": {
            "text/plain": [
              "tensor([-0.1739,  0.1893,  0.0258,  0.1667,  0.0434,  0.1879,  0.0233, -0.0133,\n",
              "         0.1355,  0.0378], grad_fn=<SelectBackward>)"
            ]
          },
          "metadata": {
            "tags": []
          },
          "execution_count": 24
        }
      ]
    },
    {
      "cell_type": "markdown",
      "metadata": {
        "id": "TsCDUC_eViJp"
      },
      "source": [
        "A10: these are the probabilities of the input being each one of the possible outputs (digits from 0 to 9)"
      ]
    },
    {
      "cell_type": "code",
      "metadata": {
        "id": "-Ejrm01LRSxj",
        "colab": {
          "base_uri": "https://localhost:8080/"
        },
        "outputId": "59f1765b-5d66-4bcc-e1c8-416238eb2659"
      },
      "source": [
        "#Q11. Execute the following statement. Is the resulting value near to 1? If not, what does it imply?\n",
        "pred[0].sum()"
      ],
      "execution_count": 25,
      "outputs": [
        {
          "output_type": "execute_result",
          "data": {
            "text/plain": [
              "tensor(0.6226, grad_fn=<SumBackward0>)"
            ]
          },
          "metadata": {
            "tags": []
          },
          "execution_count": 25
        }
      ]
    },
    {
      "cell_type": "markdown",
      "metadata": {
        "id": "S_dzfAnNW1V6"
      },
      "source": [
        "A11: it is not close to 1 which means there are some negative numbers in the mix. the value should be 1 or close to 1, as this is the total chance of probability of all numbers combined."
      ]
    },
    {
      "cell_type": "markdown",
      "metadata": {
        "id": "qhbGAsGWxp79"
      },
      "source": [
        "### Softmax function"
      ]
    },
    {
      "cell_type": "markdown",
      "metadata": {
        "id": "fFGQT0zpxp79"
      },
      "source": [
        "First, we will need to compute the softmax of our activations. This is defined by:\n",
        "\n",
        "$$\\hbox{softmax(x)}_{i} = \\frac{e^{x_{i}}}{e^{x_{0}} + e^{x_{1}} + \\cdots + e^{x_{n-1}}}$$\n",
        "\n",
        "or more concisely:\n",
        "\n",
        "$$\\hbox{softmax(x)}_{i} = \\frac{e^{x_{i}}}{\\sum_{0 \\leq j \\leq n-1} e^{x_{j}}}$$ \n",
        "\n",
        "In practice, we will need the log of the softmax when we calculate the loss."
      ]
    },
    {
      "cell_type": "code",
      "metadata": {
        "id": "Q3ZRxbanxp7_"
      },
      "source": [
        "def softmax(x): return (x.exp()/(x.exp().sum(-1,keepdim=True)))"
      ],
      "execution_count": 26,
      "outputs": []
    },
    {
      "cell_type": "code",
      "metadata": {
        "id": "Wo_n_z36r77v"
      },
      "source": [
        "sm_pred = softmax(pred)\n"
      ],
      "execution_count": 27,
      "outputs": []
    },
    {
      "cell_type": "code",
      "metadata": {
        "id": "cnURmMOHsA2T",
        "colab": {
          "base_uri": "https://localhost:8080/"
        },
        "outputId": "c4a49af0-982e-48ab-ee8c-7b5325129c19"
      },
      "source": [
        "#Q12. Execute the following statement. What do the 10 displayed numbers refer to?\n",
        "sm_pred[0]"
      ],
      "execution_count": 28,
      "outputs": [
        {
          "output_type": "execute_result",
          "data": {
            "text/plain": [
              "tensor([0.0785, 0.1129, 0.0959, 0.1104, 0.0976, 0.1128, 0.0956, 0.0922, 0.1070,\n",
              "        0.0970], grad_fn=<SelectBackward>)"
            ]
          },
          "metadata": {
            "tags": []
          },
          "execution_count": 28
        }
      ]
    },
    {
      "cell_type": "markdown",
      "metadata": {
        "id": "YCq3QrADYU0_"
      },
      "source": [
        "A12: these are the probability of  predictions after using the cross entorpy loss function, they are all positive now."
      ]
    },
    {
      "cell_type": "code",
      "metadata": {
        "id": "MvUVm4qpsQ80",
        "colab": {
          "base_uri": "https://localhost:8080/"
        },
        "outputId": "2b4b54f8-9da8-47ca-dccc-62ac6aba4a60"
      },
      "source": [
        "#Q13. Execute the following statement. What does the displayed numbers mean?\n",
        "sm_pred[0].sum()"
      ],
      "execution_count": 29,
      "outputs": [
        {
          "output_type": "execute_result",
          "data": {
            "text/plain": [
              "tensor(1., grad_fn=<SumBackward0>)"
            ]
          },
          "metadata": {
            "tags": []
          },
          "execution_count": 29
        }
      ]
    },
    {
      "cell_type": "markdown",
      "metadata": {
        "id": "8_ia1NvSZV_B"
      },
      "source": [
        "A13: as expected, the sum of all the prediction probabilities is 1, as it should be. This happened because now all numbers are positive."
      ]
    },
    {
      "cell_type": "markdown",
      "metadata": {
        "id": "sqq6KTqimJ-T"
      },
      "source": [
        ""
      ]
    },
    {
      "cell_type": "markdown",
      "metadata": {
        "id": "fWPxYHo1mNjm"
      },
      "source": [
        "## Log softmax"
      ]
    },
    {
      "cell_type": "code",
      "metadata": {
        "id": "DNuWma6zr00h"
      },
      "source": [
        "def log_softmax(x): return (x.exp()/(x.exp().sum(-1,keepdim=True))).log()"
      ],
      "execution_count": 30,
      "outputs": []
    },
    {
      "cell_type": "code",
      "metadata": {
        "id": "QDeeKw-Sxp8A"
      },
      "source": [
        "log_sm_pred = log_softmax(pred)"
      ],
      "execution_count": 31,
      "outputs": []
    },
    {
      "cell_type": "code",
      "metadata": {
        "colab": {
          "base_uri": "https://localhost:8080/"
        },
        "id": "PJmGXhPfRYba",
        "outputId": "b10b5c28-dc67-4ae1-d58b-afbb2938ac18"
      },
      "source": [
        "log_sm_pred[0]"
      ],
      "execution_count": 32,
      "outputs": [
        {
          "output_type": "execute_result",
          "data": {
            "text/plain": [
              "tensor([-2.5443, -2.1811, -2.3445, -2.2036, -2.3269, -2.1825, -2.3471, -2.3836,\n",
              "        -2.2349, -2.3326], grad_fn=<SelectBackward>)"
            ]
          },
          "metadata": {
            "tags": []
          },
          "execution_count": 32
        }
      ]
    },
    {
      "cell_type": "markdown",
      "metadata": {
        "id": "DfNuX2v1xp8B"
      },
      "source": [
        "\n",
        "\n",
        "## Cross Entropy Loss Function.\n",
        " Read the following paragraph to understand what the cross entroy loss functioni is. \n",
        "\n",
        "The difference between  two probabilities: \n",
        " https://datascience.stackexchange.com/questions/20296/cross-entropy-loss-explanation\n",
        "\n",
        "The cross entropy formula takes in two distributions,  $p(x^{(s)})$, the true distribution (defined by the label data), and $\\hat{p}(x^{(s)})$, the estimated distribution (predicted by the neural net), defined over the discrete variable $x^{(s)}$  and is given by\n",
        "\n",
        "$H(p,\\hat{p})=−\\sum_{s \\in B} p(x^{(s)}) \\cdot log(\\hat{p}(x^{(s)}))$\n",
        "\n",
        "\n",
        "In general, $ p(x^{(s)}) = [ p_{1} (x^{(s)}), ..., p_{n}(x^{(s)})]$ is a probability distribution over a set of categories. \n",
        "But since our $ p(x^{(s)})$ are 1-hot encoded, that is, in the form of  $ p(x^{(s)}) =[0,0,..,0,1,0..]$, where the probability of only one category is one and those of the other categories are all zero, this can be rewritten as\n",
        "\n",
        " \\begin{equation}\n",
        " H(p,\\hat{p})= -\\sum_{s \\in B} [ 0*\\log(\\hat{p}_{1} (x^{(s)}))  \n",
        " + 1*\\log(\\hat{p}_{i} (x^{(s)}) ) +..+\n",
        " 0* \\log( \\hat{p}_{n} (x^{(s)}) ) ] \\\\ \n",
        "  = -\\sum_{s \\in B} \\log(\\hat{p}_{i(s)} ) (x^{(s)}) ) \n",
        "  \\tag{crossEntroyEq}\n",
        " \\end{equation}\n",
        " \n",
        " Te softmax function plays the role of the probability distribution $\\hat{p}_{1} (x^{(s)})$.\n",
        "\n",
        "  Here $i(s)$ is the index of the one-hot  probability distribution $p(x^{(s)})$ where the probability is one. \n",
        " \n",
        " "
      ]
    },
    {
      "cell_type": "markdown",
      "metadata": {
        "id": "KBtZhgePxp8D"
      },
      "source": [
        "# integer array indexing "
      ]
    },
    {
      "cell_type": "code",
      "metadata": {
        "colab": {
          "base_uri": "https://localhost:8080/"
        },
        "id": "VehY657jB7IB",
        "outputId": "9a6984d1-e1d3-4833-ac5c-07a7e49dcbfd"
      },
      "source": [
        "#Q14a.  Execute the following statement. What is the role of list [0,1,2] in the statement?  What do the displayed numbers refer to? \n",
        "log_sm_pred[ [0,1,2]]"
      ],
      "execution_count": 33,
      "outputs": [
        {
          "output_type": "execute_result",
          "data": {
            "text/plain": [
              "tensor([[-2.5443, -2.1811, -2.3445, -2.2036, -2.3269, -2.1825, -2.3471, -2.3836,\n",
              "         -2.2349, -2.3326],\n",
              "        [-2.4419, -2.2481, -2.3383, -2.2405, -2.2559, -2.2262, -2.3545, -2.3125,\n",
              "         -2.2436, -2.3885],\n",
              "        [-2.4111, -2.2208, -2.3371, -2.2303, -2.1950, -2.2108, -2.4270, -2.3972,\n",
              "         -2.2214, -2.4197]], grad_fn=<IndexBackward>)"
            ]
          },
          "metadata": {
            "tags": []
          },
          "execution_count": 33
        }
      ]
    },
    {
      "cell_type": "markdown",
      "metadata": {
        "id": "Y2Jwl6KmWKtu"
      },
      "source": [
        "A14a: for integer array indexing we pass a list to each dimenson. We have 2 dimension, so we pass two lists. The first is the list of all the row indexes we want. In these rows we can see the prediction probabilities."
      ]
    },
    {
      "cell_type": "code",
      "metadata": {
        "id": "uJM_9p0rxp8H",
        "colab": {
          "base_uri": "https://localhost:8080/"
        },
        "outputId": "5f28704e-8363-4e84-d021-436077cacd41"
      },
      "source": [
        "#Q14b.  Execute the following statement. What is the role of list [2,4,6] in the statement?  What do the displayed numbers mean? Explain compare the result of Q15b and the result of this statement.\n",
        "log_sm_pred[[0,1,2], [2,4,6]]"
      ],
      "execution_count": 34,
      "outputs": [
        {
          "output_type": "execute_result",
          "data": {
            "text/plain": [
              "tensor([-2.3445, -2.2559, -2.4270], grad_fn=<IndexBackward>)"
            ]
          },
          "metadata": {
            "tags": []
          },
          "execution_count": 34
        }
      ]
    },
    {
      "cell_type": "markdown",
      "metadata": {
        "id": "oYVxj8qYWbNC"
      },
      "source": [
        "A14b:  The first is the list of all the row indexes we want, the second are the columns. It tells us what are the probabilities associated with 2,4 and 6. here we are trying to see the probability of the prediction for the first three values being correct"
      ]
    },
    {
      "cell_type": "markdown",
      "metadata": {
        "id": "h1bTmfz5xp8J"
      },
      "source": [
        "[Jump_to lesson 9 video](https://course.fast.ai/videos/?lesson=9&t=2081)"
      ]
    },
    {
      "cell_type": "code",
      "metadata": {
        "id": "xoc2YwU5wATE",
        "colab": {
          "base_uri": "https://localhost:8080/"
        },
        "outputId": "c9136eba-7c44-4a72-96b4-2948abd1ada7"
      },
      "source": [
        "range(y_train.long().shape[0])"
      ],
      "execution_count": 35,
      "outputs": [
        {
          "output_type": "execute_result",
          "data": {
            "text/plain": [
              "range(0, 50000)"
            ]
          },
          "metadata": {
            "tags": []
          },
          "execution_count": 35
        }
      ]
    },
    {
      "cell_type": "code",
      "metadata": {
        "id": "va2lulaep1_J"
      },
      "source": [
        ""
      ],
      "execution_count": null,
      "outputs": []
    },
    {
      "cell_type": "code",
      "metadata": {
        "id": "8GMBhmq9w4QG"
      },
      "source": [
        "selectOneHot = log_sm_pred[ range(y_train.long().shape[0]), y_train.long() ]"
      ],
      "execution_count": 36,
      "outputs": []
    },
    {
      "cell_type": "code",
      "metadata": {
        "colab": {
          "base_uri": "https://localhost:8080/"
        },
        "id": "v1c7b4HtqWLi",
        "outputId": "9363be72-8068-4a42-ac25-cfe0fdd3fd46"
      },
      "source": [
        "selectOneHot.shape"
      ],
      "execution_count": 37,
      "outputs": [
        {
          "output_type": "execute_result",
          "data": {
            "text/plain": [
              "torch.Size([50000])"
            ]
          },
          "metadata": {
            "tags": []
          },
          "execution_count": 37
        }
      ]
    },
    {
      "cell_type": "code",
      "metadata": {
        "id": "1ZDSRenHqdcP"
      },
      "source": [
        "#Q15.  What does selectOneHot refer to?"
      ],
      "execution_count": null,
      "outputs": []
    },
    {
      "cell_type": "markdown",
      "metadata": {
        "id": "XzD8MxD6dKcy"
      },
      "source": [
        "A15: it referst to y.train"
      ]
    },
    {
      "cell_type": "code",
      "metadata": {
        "id": "ZI0cXSLRxp8K"
      },
      "source": [
        "def nll(input, target):\n",
        "   \n",
        "   return -input[range(target.shape[0]), target].mean()"
      ],
      "execution_count": 38,
      "outputs": []
    },
    {
      "cell_type": "code",
      "metadata": {
        "id": "vzmLXXWiPTSF",
        "colab": {
          "base_uri": "https://localhost:8080/"
        },
        "outputId": "f15c9832-f722-4c5d-ba23-448bd4f9c361"
      },
      "source": [
        "y_train.long().shape[0]"
      ],
      "execution_count": 39,
      "outputs": [
        {
          "output_type": "execute_result",
          "data": {
            "text/plain": [
              "50000"
            ]
          },
          "metadata": {
            "tags": []
          },
          "execution_count": 39
        }
      ]
    },
    {
      "cell_type": "code",
      "metadata": {
        "id": "Bs5UU4fyxp8K"
      },
      "source": [
        "#Q16. Read nill function and explain how this function computes the result. You need to refer to {CrossEntropyLoss}.\n",
        "loss = nll(log_sm_pred, y_train.long())"
      ],
      "execution_count": 40,
      "outputs": []
    },
    {
      "cell_type": "markdown",
      "metadata": {
        "id": "5EhfjJ1sZktY"
      },
      "source": [
        "A16: the function finds the max then it subtracts and does the summation of logs\n"
      ]
    },
    {
      "cell_type": "code",
      "metadata": {
        "id": "zkSkgQYQxp8L",
        "colab": {
          "base_uri": "https://localhost:8080/"
        },
        "outputId": "f460e79d-a92c-4eda-a369-4405ac1ad943"
      },
      "source": [
        "loss"
      ],
      "execution_count": 41,
      "outputs": [
        {
          "output_type": "execute_result",
          "data": {
            "text/plain": [
              "tensor(2.2998, grad_fn=<NegBackward>)"
            ]
          },
          "metadata": {
            "tags": []
          },
          "execution_count": 41
        }
      ]
    },
    {
      "cell_type": "code",
      "metadata": {
        "id": "-Xb-DbeRq2aa"
      },
      "source": [
        "#Q16. Compare function nll() and the formula CrossEntropyEq. Explain that function nll() computes the cross entropy function between\n",
        "# predicted probability distrubution of the input images and the ground truth (labeled) probability distribution of the input images. "
      ],
      "execution_count": 54,
      "outputs": []
    },
    {
      "cell_type": "markdown",
      "metadata": {
        "id": "VOrpp-oVcTFR"
      },
      "source": [
        "A16: Instead of taking all probabilities and multiply with the target values, we only take the probability of the correct answer. We can do this because incorrect target values will be zero, so the result will be the same but we save some computation power."
      ]
    },
    {
      "cell_type": "markdown",
      "metadata": {
        "id": "BdFUzc94xp8V"
      },
      "source": [
        "## Basic training loop"
      ]
    },
    {
      "cell_type": "markdown",
      "metadata": {
        "id": "495DuZ5Xxp8V"
      },
      "source": [
        "Basically the training loop repeats over the following steps:\n",
        "- get the output of the model on a batch of inputs\n",
        "- compare the output to the labels we have and compute a loss\n",
        "- calculate the gradients of the loss with respect to every parameter of the model\n",
        "- update said parameters with those gradients to make them a little bit better"
      ]
    },
    {
      "cell_type": "markdown",
      "metadata": {
        "id": "6e6Y1AKyxp8W"
      },
      "source": [
        "[Jump_to lesson 9 video](https://course.fast.ai/videos/?lesson=9&t=2542)"
      ]
    },
    {
      "cell_type": "code",
      "metadata": {
        "id": "fDHaEy3oxp8X"
      },
      "source": [
        "loss_func = F.cross_entropy # This built-in Pytorch function  combines log_softmax and nll in a single function.\n",
        "# In the following code, we will use this function, not the function nll defined above."
      ],
      "execution_count": 42,
      "outputs": []
    },
    {
      "cell_type": "code",
      "metadata": {
        "id": "wcuWlwDXxp8Y"
      },
      "source": [
        "#export\n",
        "def accuracy(out, yb): return (torch.argmax(out, dim=1)==yb).float().mean()"
      ],
      "execution_count": 43,
      "outputs": []
    },
    {
      "cell_type": "code",
      "metadata": {
        "id": "ozBbmfr7xp8Z",
        "colab": {
          "base_uri": "https://localhost:8080/"
        },
        "outputId": "d99f573e-9e68-4bff-e8ba-698049d83303"
      },
      "source": [
        "bs=1000                  # batch size\n",
        "\n",
        "xb = x_train[0:bs]     # a mini-batch from x\n",
        "preds = model(xb)      # predictions\n",
        "preds[0], preds.shape\n",
        "\n",
        "#Q17. What does preds[0] refer to?"
      ],
      "execution_count": 44,
      "outputs": [
        {
          "output_type": "execute_result",
          "data": {
            "text/plain": [
              "(tensor([-0.1739,  0.1893,  0.0258,  0.1667,  0.0434,  0.1879,  0.0233, -0.0133,\n",
              "          0.1355,  0.0378], grad_fn=<SelectBackward>), torch.Size([1000, 10]))"
            ]
          },
          "metadata": {
            "tags": []
          },
          "execution_count": 44
        }
      ]
    },
    {
      "cell_type": "markdown",
      "metadata": {
        "id": "IbaGbHJVeRjI"
      },
      "source": [
        "A17: these are the predictions before we train our model"
      ]
    },
    {
      "cell_type": "code",
      "metadata": {
        "id": "Ue2zaDOLxp8a",
        "colab": {
          "base_uri": "https://localhost:8080/"
        },
        "outputId": "d4672ed5-7d23-4fe5-88cb-cae5f8c9e8c7"
      },
      "source": [
        "yb = y_train[0:bs]\n",
        "loss = loss_func(preds, yb.long())\n",
        "loss\n",
        "#Q18. What does the value of loss refer to?"
      ],
      "execution_count": 45,
      "outputs": [
        {
          "output_type": "execute_result",
          "data": {
            "text/plain": [
              "tensor(2.2974, grad_fn=<NllLossBackward>)"
            ]
          },
          "metadata": {
            "tags": []
          },
          "execution_count": 45
        }
      ]
    },
    {
      "cell_type": "markdown",
      "metadata": {
        "id": "uk89C4CqfIH8"
      },
      "source": [
        "A18: loss is the difference between the actual output and the prediction made by the model  "
      ]
    },
    {
      "cell_type": "code",
      "metadata": {
        "id": "t8ppnV5akshc"
      },
      "source": [
        "import torch\n",
        "import torchvision"
      ],
      "execution_count": 50,
      "outputs": []
    },
    {
      "cell_type": "code",
      "metadata": {
        "id": "vYSsK_Rlxp8b",
        "colab": {
          "base_uri": "https://localhost:8080/"
        },
        "outputId": "0c970595-1d7b-4b45-89a8-6ef6209e21cf"
      },
      "source": [
        "accuracy(preds, yb)\n",
        "#Q19. What does  the value of the above statement refer to? Examine the value. Is it supposed to be equal to one approximately?\n",
        "# If it is not at the current moment, what is the reason for it?"
      ],
      "execution_count": 51,
      "outputs": [
        {
          "output_type": "execute_result",
          "data": {
            "text/plain": [
              "tensor(0.1490)"
            ]
          },
          "metadata": {
            "tags": []
          },
          "execution_count": 51
        }
      ]
    },
    {
      "cell_type": "markdown",
      "metadata": {
        "id": "v1H8axPHfJNO"
      },
      "source": [
        "A19: Yes, it is supposed to be 1 (maximum accuracy). But this is the accuracy for only one single mini batch from the training set, so it doesn't mean to much. But we can still say that our model is learning something."
      ]
    },
    {
      "cell_type": "markdown",
      "metadata": {
        "id": "9-hKTgAOFvu0"
      },
      "source": [
        "# The mechanism for training the network: \n",
        "\n",
        "(1) computing the graidents of Loss with respect to tensors at each layer, (2) backpropgation: applying the chain rule to compute the gradient vector of the parameters, (3) updating the parameters.\n",
        "\n",
        "https://github.com/pytorch/pytorch/blob/35bd2b3c8b64d594d85fc740e94c30aa67892a34/torch/tensor.py\n",
        "\n",
        "https://github.com/pytorch/pytorch/blob/35bd2b3c8b64d594d85fc740e94c30aa67892a34/torch/tensor.py\n",
        "\n",
        "https://stackoverflow.com/questions/57248777/backward-function-in-pytorch\n"
      ]
    },
    {
      "cell_type": "code",
      "metadata": {
        "id": "dxLMr6u-xp8c"
      },
      "source": [
        "lr = 0.5   # learning rate\n",
        "epochs = 2 # how many epochs to train for"
      ],
      "execution_count": 52,
      "outputs": []
    },
    {
      "cell_type": "code",
      "metadata": {
        "id": "fzD9MorlnHDu"
      },
      "source": [
        "import pdb\n"
      ],
      "execution_count": 55,
      "outputs": []
    },
    {
      "cell_type": "code",
      "metadata": {
        "id": "Q0KH3m-Uxp8c",
        "colab": {
          "base_uri": "https://localhost:8080/",
          "height": 283
        },
        "outputId": "ea4b5977-bb07-4356-eb3e-a0adcc870606"
      },
      "source": [
        "#Q20. What does the number  (n-1)//bs + 1 refer to? \n",
        "#A20: n is the number of rows diveded by the batch size (to do batch to time)\n",
        "\n",
        "for epoch in range(epochs):\n",
        "    for i in range((n-1)//bs + 1): # for each batch in the current epoch\n",
        "#       pdb.set_trace()\n",
        "        start_i = i*bs\n",
        "        end_i = start_i+bs\n",
        "\n",
        "        xb = x_train[start_i:end_i]\n",
        "        yb = y_train[start_i:end_i]\n",
        "\n",
        "\n",
        "        ybHat = model(xb)\n",
        "        #h = ybHat.register_hook( lambda grad: print (grad) )\n",
        "\n",
        "        loss = loss_func( ybHat, yb.long())        \n",
        "\n",
        "        #ybHat.grad\n",
        "        loss.backward() # When you call loss.backward(), all it does is compute gradient of loss \n",
        "                        # w.r.t all the parameters in loss that have requires_grad = True and store them in parameter.grad attribute for every parameter\n",
        "\n",
        "        #ybHat.grad                \n",
        "        #The following performs what Pytorch function optimizer.step() does:\n",
        "        # It updates all the weight and bias parameters based on the gradients of loss with respect to the weight and bias parameter \n",
        "        with torch.no_grad():\n",
        "            for l in model.layers:\n",
        "                if hasattr(l, 'weight'):\n",
        "                    l.weight -= l.weight.grad * lr\n",
        "                    l.bias   -= l.bias.grad   * lr\n",
        "\n",
        "                    #\n",
        "                    # loss.backward() computes the gradient of loss w.r.t. graph LEAVES.\n",
        "                    #  This function accumulates gradients in the leaves - you might need to zero\n",
        "                    # we don't care about gradients from the previous batch.\n",
        "                    # Not zeroing grads would lead to gradient accumulation across batches\n",
        "                    l.weight.grad.zero_()\n",
        "                    l.bias.grad.zero_()\n",
        "\n",
        "       #Q21:  print the loss and the accuracy after training the net using the validation dataset.\n",
        "       #      Explain how the loss and accuracy change as each batch is used  for training the network model.\n",
        "       #      Try to convey detailed and specific information about the progress of training the neural net.\n",
        "       #      Observe the printed data carefully\n",
        "       #A21:we can notice the relation of \n",
        "        #accuracy vs number of batch trainings. The taccuracy  values show a \n",
        "        #steady improvement as the number of batches goes up. \n",
        "    \n",
        "       #Q22. Explain why you would use validation dataset to check the progress of learning of your network.\n",
        "        #A22:The model is going to train with the Train set (80% of the \n",
        "#data), while the validation set (20% of data) is not going to be shown to the model. After the \n",
        "#training is done we can use the validation set data to know if we're overfitting, that is, to know \n",
        "#whether our model can correctly classify only the images it used to train or if it can also classify \n",
        "#images it has never seen before.    \n",
        "        \n",
        "        yHatValid = model(x_valid)\n",
        "        lossValid = loss_func( yHatValid, y_valid.long() )        \n",
        "\n",
        "        \n",
        "        print('epoch={0}, batch ={1}:'.format(epoch, i) )  \n",
        "        print('  lossValid=', lossValid )\n",
        "        print('  accuracyValid = ', accuracy( yHatValid, y_valid) )\n",
        "\n",
        "    #Q23. Afer each epoch, print the loss and the accuracy of the network by using the training dataset. \n",
        "    #     Explain the result. Be attentive to the result. \n",
        "      \n",
        "\n",
        "    yHatTrain = model(x_train)\n",
        "    lossTrain = loss_func( yHatTrain, y_train.long() )        \n",
        "\n",
        "    print('*******************************************************')    \n",
        "    print('epoch={0}:', epoch )  \n",
        "    print('  lossTrain=', lossTrain)\n",
        "    print('  accuracyTrain = ', accuracy( yHatTrain, y_train) )\n",
        "\n",
        "    #Q24. Afer each epoch, print the loss and the accuracy of the network by using the validatio  dataset. \n",
        "    #     Explain the result. Be attentive to the result.   \n",
        "\n",
        "    yHatValid = model(x_valid)\n",
        "    lossValid = loss_func( yHatValid, y_valid.long() )        \n",
        "\n",
        "    print('*******************************************************')    \n",
        "    print('epoch={0}:', epoch )  \n",
        "    print('  lossValid ', lossValid)\n",
        "    print('  accuracyValid = ', accuracy( yHatValid, y_valid) )\n",
        "        "
      ],
      "execution_count": 56,
      "outputs": [
        {
          "output_type": "error",
          "ename": "TypeError",
          "evalue": "ignored",
          "traceback": [
            "\u001b[0;31m---------------------------------------------------------------------------\u001b[0m",
            "\u001b[0;31mTypeError\u001b[0m                                 Traceback (most recent call last)",
            "\u001b[0;32m<ipython-input-56-7813b643e416>\u001b[0m in \u001b[0;36m<module>\u001b[0;34m()\u001b[0m\n\u001b[1;32m      2\u001b[0m \u001b[0;31m#A20:\u001b[0m\u001b[0;34m\u001b[0m\u001b[0;34m\u001b[0m\u001b[0;34m\u001b[0m\u001b[0m\n\u001b[1;32m      3\u001b[0m \u001b[0;34m\u001b[0m\u001b[0m\n\u001b[0;32m----> 4\u001b[0;31m \u001b[0;32mfor\u001b[0m \u001b[0mepoch\u001b[0m \u001b[0;32min\u001b[0m \u001b[0mrange\u001b[0m\u001b[0;34m(\u001b[0m\u001b[0mepochs\u001b[0m\u001b[0;34m)\u001b[0m\u001b[0;34m:\u001b[0m\u001b[0;34m\u001b[0m\u001b[0;34m\u001b[0m\u001b[0m\n\u001b[0m\u001b[1;32m      5\u001b[0m     \u001b[0;32mfor\u001b[0m \u001b[0mi\u001b[0m \u001b[0;32min\u001b[0m \u001b[0mrange\u001b[0m\u001b[0;34m(\u001b[0m\u001b[0;34m(\u001b[0m\u001b[0mn\u001b[0m\u001b[0;34m-\u001b[0m\u001b[0;36m1\u001b[0m\u001b[0;34m)\u001b[0m\u001b[0;34m//\u001b[0m\u001b[0mbs\u001b[0m \u001b[0;34m+\u001b[0m \u001b[0;36m1\u001b[0m\u001b[0;34m)\u001b[0m\u001b[0;34m:\u001b[0m \u001b[0;31m# for each batch in the current epoch\u001b[0m\u001b[0;34m\u001b[0m\u001b[0;34m\u001b[0m\u001b[0m\n\u001b[1;32m      6\u001b[0m \u001b[0;31m#       pdb.set_trace()\u001b[0m\u001b[0;34m\u001b[0m\u001b[0;34m\u001b[0m\u001b[0;34m\u001b[0m\u001b[0m\n",
            "\u001b[0;31mTypeError\u001b[0m: range() missing 1 required positional arguments: \"end\""
          ]
        }
      ]
    },
    {
      "cell_type": "markdown",
      "metadata": {
        "id": "98nX1aGLyXJP"
      },
      "source": [
        ""
      ]
    },
    {
      "cell_type": "code",
      "metadata": {
        "id": "I0fC9kbvxp8g",
        "colab": {
          "base_uri": "https://localhost:8080/"
        },
        "outputId": "8cd813d0-b5cb-4df3-97c0-bf7ae1529cfb"
      },
      "source": [
        "loss_func(model(xb), yb.long()), accuracy(model(xb), yb)"
      ],
      "execution_count": null,
      "outputs": [
        {
          "output_type": "execute_result",
          "data": {
            "text/plain": [
              "(tensor(0.0979, grad_fn=<NllLossBackward>), tensor(0.9375))"
            ]
          },
          "metadata": {
            "tags": []
          },
          "execution_count": 48
        }
      ]
    },
    {
      "cell_type": "markdown",
      "metadata": {
        "id": "n70culC-xp8h"
      },
      "source": [
        "## Using parameters and optim"
      ]
    },
    {
      "cell_type": "markdown",
      "metadata": {
        "id": "Ztmln-E0xp8h"
      },
      "source": [
        "### Parameters"
      ]
    },
    {
      "cell_type": "markdown",
      "metadata": {
        "id": "3JMWX2-fxp8i"
      },
      "source": [
        "Use `nn.Module.__setattr__` and move relu to functional:"
      ]
    },
    {
      "cell_type": "markdown",
      "metadata": {
        "id": "2qu-R0Ljxp8j"
      },
      "source": [
        "[Jump_to lesson 9 video](https://course.fast.ai/videos/?lesson=9&t=2818)"
      ]
    },
    {
      "cell_type": "code",
      "metadata": {
        "id": "lw5k0KJRxp8j"
      },
      "source": [
        "class Model(nn.Module):\n",
        "    def __init__(self, n_in, nh, n_out):\n",
        "        super().__init__()\n",
        "        self.l1 = nn.Linear(n_in,nh)\n",
        "        self.l2 = nn.Linear(nh,n_out)\n",
        "        \n",
        "    def __call__(self, x): return self.l2(F.relu(self.l1(x)))"
      ],
      "execution_count": null,
      "outputs": []
    },
    {
      "cell_type": "code",
      "metadata": {
        "id": "lq8zwnBlxp8k"
      },
      "source": [
        "model = Model(m, nh, 10)"
      ],
      "execution_count": null,
      "outputs": []
    },
    {
      "cell_type": "code",
      "metadata": {
        "id": "yFsAG7KCxp8k",
        "colab": {
          "base_uri": "https://localhost:8080/"
        },
        "outputId": "56949b22-3eae-4ec0-8a23-e2f754e7fa66"
      },
      "source": [
        "for name,l in model.named_children(): print(f\"{name}: {l}\")"
      ],
      "execution_count": null,
      "outputs": [
        {
          "output_type": "stream",
          "text": [
            "l1: Linear(in_features=784, out_features=50, bias=True)\n",
            "l2: Linear(in_features=50, out_features=10, bias=True)\n"
          ],
          "name": "stdout"
        }
      ]
    },
    {
      "cell_type": "code",
      "metadata": {
        "id": "QQAcSLAVxp8l",
        "colab": {
          "base_uri": "https://localhost:8080/"
        },
        "outputId": "3607efe6-16e9-4fb8-e118-a6d7db48cb32"
      },
      "source": [
        "model"
      ],
      "execution_count": null,
      "outputs": [
        {
          "output_type": "execute_result",
          "data": {
            "text/plain": [
              "Model(\n",
              "  (l1): Linear(in_features=784, out_features=50, bias=True)\n",
              "  (l2): Linear(in_features=50, out_features=10, bias=True)\n",
              ")"
            ]
          },
          "metadata": {
            "tags": []
          },
          "execution_count": 52
        }
      ]
    },
    {
      "cell_type": "code",
      "metadata": {
        "id": "O77Ds-LRxp8m",
        "colab": {
          "base_uri": "https://localhost:8080/"
        },
        "outputId": "8dd994eb-d95f-44f3-9adb-24ec6f4bb3d1"
      },
      "source": [
        "model.l1"
      ],
      "execution_count": null,
      "outputs": [
        {
          "output_type": "execute_result",
          "data": {
            "text/plain": [
              "Linear(in_features=784, out_features=50, bias=True)"
            ]
          },
          "metadata": {
            "tags": []
          },
          "execution_count": 53
        }
      ]
    },
    {
      "cell_type": "code",
      "metadata": {
        "id": "SUDx09pkxp8m"
      },
      "source": [
        "def fit():\n",
        "    for epoch in range(epochs):\n",
        "        for i in range((n-1)//bs + 1):\n",
        "            start_i = i*bs\n",
        "            end_i = start_i+bs\n",
        "            xb = x_train[start_i:end_i]\n",
        "            yb = y_train[start_i:end_i]\n",
        "            loss = loss_func(model(xb), yb.long())\n",
        "\n",
        "            loss.backward()\n",
        "            with torch.no_grad():\n",
        "                for p in model.parameters(): p -= p.grad * lr\n",
        "                model.zero_grad()"
      ],
      "execution_count": null,
      "outputs": []
    },
    {
      "cell_type": "code",
      "metadata": {
        "id": "zkjGdktlxp8o",
        "colab": {
          "base_uri": "https://localhost:8080/"
        },
        "outputId": "e98cf04b-c832-4d83-b86f-630125c2084a"
      },
      "source": [
        "fit()\n",
        "loss_func(model(xb), yb.long()), accuracy(model(xb), yb)"
      ],
      "execution_count": null,
      "outputs": [
        {
          "output_type": "execute_result",
          "data": {
            "text/plain": [
              "(tensor(0.0097, grad_fn=<NllLossBackward>), tensor(1.))"
            ]
          },
          "metadata": {
            "tags": []
          },
          "execution_count": 55
        }
      ]
    },
    {
      "cell_type": "markdown",
      "metadata": {
        "id": "-wQ0CkLmxp8p"
      },
      "source": [
        "Behind the scenes, PyTorch overrides the `__setattr__` function in `nn.Module` so that the submodules you define are properly registered as parameters of the model."
      ]
    },
    {
      "cell_type": "code",
      "metadata": {
        "id": "nfLTjkNJxp8p"
      },
      "source": [
        "class DummyModule():\n",
        "    def __init__(self, n_in, nh, n_out):\n",
        "        self._modules = {}\n",
        "        self.l1 = nn.Linear(n_in,nh)\n",
        "        self.l2 = nn.Linear(nh,n_out)\n",
        "        \n",
        "    def __setattr__(self,k,v):\n",
        "        if not k.startswith(\"_\"): self._modules[k] = v\n",
        "        super().__setattr__(k,v)\n",
        "        \n",
        "    def __repr__(self): return f'{self._modules}'\n",
        "    \n",
        "    def parameters(self):\n",
        "        for l in self._modules.values():\n",
        "            for p in l.parameters(): yield p"
      ],
      "execution_count": null,
      "outputs": []
    },
    {
      "cell_type": "code",
      "metadata": {
        "id": "BxdtM1ilxp8q",
        "colab": {
          "base_uri": "https://localhost:8080/"
        },
        "outputId": "40d56eb6-6822-436c-c011-bd7ae14336d3"
      },
      "source": [
        "mdl = DummyModule(m,nh,10)\n",
        "mdl"
      ],
      "execution_count": null,
      "outputs": [
        {
          "output_type": "execute_result",
          "data": {
            "text/plain": [
              "{'l1': Linear(in_features=784, out_features=50, bias=True), 'l2': Linear(in_features=50, out_features=10, bias=True)}"
            ]
          },
          "metadata": {
            "tags": []
          },
          "execution_count": 57
        }
      ]
    },
    {
      "cell_type": "code",
      "metadata": {
        "id": "asWZtQT7xp8r",
        "colab": {
          "base_uri": "https://localhost:8080/"
        },
        "outputId": "ba4de7ed-d661-41a1-c769-f9dbade23efa"
      },
      "source": [
        "[o.shape for o in mdl.parameters()]"
      ],
      "execution_count": null,
      "outputs": [
        {
          "output_type": "execute_result",
          "data": {
            "text/plain": [
              "[torch.Size([50, 784]),\n",
              " torch.Size([50]),\n",
              " torch.Size([10, 50]),\n",
              " torch.Size([10])]"
            ]
          },
          "metadata": {
            "tags": []
          },
          "execution_count": 58
        }
      ]
    },
    {
      "cell_type": "markdown",
      "metadata": {
        "id": "PJzROcD-xp8r"
      },
      "source": [
        "### Registering modules"
      ]
    },
    {
      "cell_type": "markdown",
      "metadata": {
        "id": "Gi6Bj3Egxp8s"
      },
      "source": [
        "We can use the original `layers` approach, but we have to register the modules."
      ]
    },
    {
      "cell_type": "markdown",
      "metadata": {
        "id": "SCDxRdQexp8s"
      },
      "source": [
        "[Jump_to lesson 9 video](https://course.fast.ai/videos/?lesson=9&t=2997)"
      ]
    },
    {
      "cell_type": "code",
      "metadata": {
        "id": "8ax355bwxp8t"
      },
      "source": [
        "layers = [nn.Linear(m,nh), nn.ReLU(), nn.Linear(nh,10)]"
      ],
      "execution_count": null,
      "outputs": []
    },
    {
      "cell_type": "code",
      "metadata": {
        "id": "0FVOwYH8xp8t"
      },
      "source": [
        "class Model(nn.Module):\n",
        "    def __init__(self, layers):\n",
        "        super().__init__()\n",
        "        self.layers = layers\n",
        "        for i,l in enumerate(self.layers): self.add_module(f'layer_{i}', l)\n",
        "        \n",
        "    def __call__(self, x):\n",
        "        for l in self.layers: x = l(x)\n",
        "        return x"
      ],
      "execution_count": null,
      "outputs": []
    },
    {
      "cell_type": "code",
      "metadata": {
        "id": "x5hq-X7Vxp8u"
      },
      "source": [
        "model = Model(layers)"
      ],
      "execution_count": null,
      "outputs": []
    },
    {
      "cell_type": "code",
      "metadata": {
        "id": "lqYP2MXlxp8u",
        "colab": {
          "base_uri": "https://localhost:8080/"
        },
        "outputId": "8148eec4-6e20-4ff3-8949-04c92b463be5"
      },
      "source": [
        "model"
      ],
      "execution_count": null,
      "outputs": [
        {
          "output_type": "execute_result",
          "data": {
            "text/plain": [
              "Model(\n",
              "  (layer_0): Linear(in_features=784, out_features=50, bias=True)\n",
              "  (layer_1): ReLU()\n",
              "  (layer_2): Linear(in_features=50, out_features=10, bias=True)\n",
              ")"
            ]
          },
          "metadata": {
            "tags": []
          },
          "execution_count": 62
        }
      ]
    },
    {
      "cell_type": "markdown",
      "metadata": {
        "id": "diwEDyzJxp8v"
      },
      "source": [
        "### nn.ModuleList"
      ]
    },
    {
      "cell_type": "markdown",
      "metadata": {
        "id": "yUVBUAqqxp8v"
      },
      "source": [
        "`nn.ModuleList` does this for us."
      ]
    },
    {
      "cell_type": "markdown",
      "metadata": {
        "id": "w39ws0evxp8w"
      },
      "source": [
        "[Jump_to lesson 9 video](https://course.fast.ai/videos/?lesson=9&t=3173)"
      ]
    },
    {
      "cell_type": "code",
      "metadata": {
        "id": "YNrrTzq6xp8w"
      },
      "source": [
        "class SequentialModel(nn.Module):\n",
        "    def __init__(self, layers):\n",
        "        super().__init__()\n",
        "        self.layers = nn.ModuleList(layers)\n",
        "        \n",
        "    def __call__(self, x):\n",
        "        for l in self.layers: x = l(x)\n",
        "        return x"
      ],
      "execution_count": null,
      "outputs": []
    },
    {
      "cell_type": "code",
      "metadata": {
        "id": "m59ypeCdxp8x"
      },
      "source": [
        "model = SequentialModel(layers)"
      ],
      "execution_count": null,
      "outputs": []
    },
    {
      "cell_type": "code",
      "metadata": {
        "id": "SVSNzdUmxp8x",
        "colab": {
          "base_uri": "https://localhost:8080/"
        },
        "outputId": "fd6d8b69-bbf4-40a8-c02e-54b28a92cd6e"
      },
      "source": [
        "model"
      ],
      "execution_count": null,
      "outputs": [
        {
          "output_type": "execute_result",
          "data": {
            "text/plain": [
              "SequentialModel(\n",
              "  (layers): ModuleList(\n",
              "    (0): Linear(in_features=784, out_features=50, bias=True)\n",
              "    (1): ReLU()\n",
              "    (2): Linear(in_features=50, out_features=10, bias=True)\n",
              "  )\n",
              ")"
            ]
          },
          "metadata": {
            "tags": []
          },
          "execution_count": 65
        }
      ]
    },
    {
      "cell_type": "code",
      "metadata": {
        "id": "QheaMa-6xp8y",
        "colab": {
          "base_uri": "https://localhost:8080/"
        },
        "outputId": "394de92e-5802-4616-9845-97c940736af1"
      },
      "source": [
        "fit()\n",
        "loss_func(model(xb), yb.long()), accuracy(model(xb), yb)"
      ],
      "execution_count": null,
      "outputs": [
        {
          "output_type": "execute_result",
          "data": {
            "text/plain": [
              "(tensor(0.0318, grad_fn=<NllLossBackward>), tensor(1.))"
            ]
          },
          "metadata": {
            "tags": []
          },
          "execution_count": 66
        }
      ]
    },
    {
      "cell_type": "markdown",
      "metadata": {
        "id": "yk8EQfB6xp8y"
      },
      "source": [
        "### nn.Sequential"
      ]
    },
    {
      "cell_type": "markdown",
      "metadata": {
        "id": "twIiTxJAxp8y"
      },
      "source": [
        "`nn.Sequential` is a convenient class which does the same as the above:"
      ]
    },
    {
      "cell_type": "markdown",
      "metadata": {
        "id": "eWOOJnAXxp8y"
      },
      "source": [
        "[Jump_to lesson 9 video](https://course.fast.ai/videos/?lesson=9&t=3199)"
      ]
    },
    {
      "cell_type": "code",
      "metadata": {
        "id": "YVIaRdsPxp8z"
      },
      "source": [
        "model = nn.Sequential(nn.Linear(m,nh), nn.ReLU(), nn.Linear(nh,10))"
      ],
      "execution_count": null,
      "outputs": []
    },
    {
      "cell_type": "code",
      "metadata": {
        "id": "V_079mLyxp8z",
        "colab": {
          "base_uri": "https://localhost:8080/"
        },
        "outputId": "3afc0d73-3d2e-4fb1-e601-c8dcbdff0bfb"
      },
      "source": [
        "fit()\n",
        "loss_func(model(xb), yb.long()), accuracy(model(xb), yb)"
      ],
      "execution_count": null,
      "outputs": [
        {
          "output_type": "execute_result",
          "data": {
            "text/plain": [
              "(tensor(0.0522, grad_fn=<NllLossBackward>), tensor(1.))"
            ]
          },
          "metadata": {
            "tags": []
          },
          "execution_count": 68
        }
      ]
    },
    {
      "cell_type": "code",
      "metadata": {
        "id": "fX3SUZc5xp8z"
      },
      "source": [
        "nn.Sequential??"
      ],
      "execution_count": null,
      "outputs": []
    },
    {
      "cell_type": "code",
      "metadata": {
        "id": "s1EvUMznxp81",
        "colab": {
          "base_uri": "https://localhost:8080/"
        },
        "outputId": "bc2353bd-57a8-4ba3-84fb-95360c0575ce"
      },
      "source": [
        "model"
      ],
      "execution_count": null,
      "outputs": [
        {
          "output_type": "execute_result",
          "data": {
            "text/plain": [
              "Sequential(\n",
              "  (0): Linear(in_features=784, out_features=50, bias=True)\n",
              "  (1): ReLU()\n",
              "  (2): Linear(in_features=50, out_features=10, bias=True)\n",
              ")"
            ]
          },
          "metadata": {
            "tags": []
          },
          "execution_count": 70
        }
      ]
    },
    {
      "cell_type": "markdown",
      "metadata": {
        "id": "1o20CTI0xp82"
      },
      "source": [
        "### optim"
      ]
    },
    {
      "cell_type": "markdown",
      "metadata": {
        "id": "_8edAASgxp82"
      },
      "source": [
        "Let's replace our previous manually coded optimization step:\n",
        "\n",
        "```python\n",
        "with torch.no_grad():\n",
        "    for p in model.parameters(): p -= p.grad * lr\n",
        "    model.zero_grad()\n",
        "```\n",
        "\n",
        "and instead use just:\n",
        "\n",
        "```python\n",
        "opt.step()\n",
        "opt.zero_grad()\n",
        "```"
      ]
    },
    {
      "cell_type": "markdown",
      "metadata": {
        "id": "lV7oQXBxxp83"
      },
      "source": [
        "[Jump_to lesson 9 video](https://course.fast.ai/videos/?lesson=9&t=3278)"
      ]
    },
    {
      "cell_type": "code",
      "metadata": {
        "id": "rz8BYVQkxp84"
      },
      "source": [
        "class Optimizer():\n",
        "    def __init__(self, params, lr=0.5): self.params,self.lr=list(params),lr\n",
        "        \n",
        "    def step(self):\n",
        "        with torch.no_grad():\n",
        "            for p in self.params: p -= p.grad * lr\n",
        "\n",
        "    def zero_grad(self):\n",
        "        for p in self.params: p.grad.data.zero_()"
      ],
      "execution_count": null,
      "outputs": []
    },
    {
      "cell_type": "code",
      "metadata": {
        "id": "Rr97GcPPxp84"
      },
      "source": [
        "model = nn.Sequential(nn.Linear(m,nh), nn.ReLU(), nn.Linear(nh,10))"
      ],
      "execution_count": null,
      "outputs": []
    },
    {
      "cell_type": "code",
      "metadata": {
        "id": "lh_YE0ogxp84"
      },
      "source": [
        "opt = Optimizer(model.parameters())"
      ],
      "execution_count": null,
      "outputs": []
    },
    {
      "cell_type": "code",
      "metadata": {
        "id": "UOZPZ1rsxp85"
      },
      "source": [
        "for epoch in range(epochs):\n",
        "    for i in range((n-1)//bs + 1):\n",
        "        start_i = i*bs\n",
        "        end_i = start_i+bs\n",
        "        xb = x_train[start_i:end_i]\n",
        "        yb = y_train[start_i:end_i]\n",
        "        pred = model(xb)\n",
        "        loss = loss_func(pred, yb.long())\n",
        "\n",
        "        loss.backward()\n",
        "        opt.step()\n",
        "        opt.zero_grad()"
      ],
      "execution_count": null,
      "outputs": []
    },
    {
      "cell_type": "code",
      "metadata": {
        "id": "1K8AuK0yxp85",
        "colab": {
          "base_uri": "https://localhost:8080/"
        },
        "outputId": "5486e4ff-e6d2-48d8-fcb7-0221c66b98fa"
      },
      "source": [
        "loss,acc = loss_func(model(xb), yb.long()), accuracy(model(xb), yb)\n",
        "loss,acc"
      ],
      "execution_count": null,
      "outputs": [
        {
          "output_type": "execute_result",
          "data": {
            "text/plain": [
              "(tensor(0.0091, grad_fn=<NllLossBackward>), tensor(1.))"
            ]
          },
          "metadata": {
            "tags": []
          },
          "execution_count": 75
        }
      ]
    },
    {
      "cell_type": "markdown",
      "metadata": {
        "id": "vtEnqOylxp86"
      },
      "source": [
        "PyTorch already provides this exact functionality in `optim.SGD` (it also handles stuff like momentum, which we'll look at later - except we'll be doing it in a more flexible way!)"
      ]
    },
    {
      "cell_type": "code",
      "metadata": {
        "id": "1EbDEWXsxp87"
      },
      "source": [
        "#export\n",
        "from torch import optim"
      ],
      "execution_count": null,
      "outputs": []
    },
    {
      "cell_type": "code",
      "metadata": {
        "id": "DVc-OgiExp87"
      },
      "source": [
        "optim.SGD.step??"
      ],
      "execution_count": null,
      "outputs": []
    },
    {
      "cell_type": "code",
      "metadata": {
        "id": "wJyAMVzbxp88"
      },
      "source": [
        "def get_model():\n",
        "    model = nn.Sequential(nn.Linear(m,nh), nn.ReLU(), nn.Linear(nh,10))\n",
        "    return model, optim.SGD(model.parameters(), lr=lr)"
      ],
      "execution_count": null,
      "outputs": []
    },
    {
      "cell_type": "code",
      "metadata": {
        "id": "fu_n5Z2zxp89",
        "colab": {
          "base_uri": "https://localhost:8080/"
        },
        "outputId": "647cfcd2-e327-412e-f4f6-21373479b771"
      },
      "source": [
        "model,opt = get_model()\n",
        "loss_func(model(xb), yb.long())"
      ],
      "execution_count": null,
      "outputs": [
        {
          "output_type": "execute_result",
          "data": {
            "text/plain": [
              "tensor(2.3490, grad_fn=<NllLossBackward>)"
            ]
          },
          "metadata": {
            "tags": []
          },
          "execution_count": 79
        }
      ]
    },
    {
      "cell_type": "code",
      "metadata": {
        "id": "XT0H_e6Vxp8-"
      },
      "source": [
        "for epoch in range(epochs):\n",
        "    for i in range((n-1)//bs + 1):\n",
        "        start_i = i*bs\n",
        "        end_i = start_i+bs\n",
        "        xb = x_train[start_i:end_i]\n",
        "        yb = y_train[start_i:end_i]\n",
        "        pred = model(xb)\n",
        "        loss = loss_func(pred, yb.long())\n",
        "\n",
        "        loss.backward()\n",
        "        opt.step()\n",
        "        opt.zero_grad()"
      ],
      "execution_count": null,
      "outputs": []
    },
    {
      "cell_type": "code",
      "metadata": {
        "id": "Do5mQXdWxp8-",
        "colab": {
          "base_uri": "https://localhost:8080/"
        },
        "outputId": "1b67c1be-aac4-44b2-fc06-c3ca97a47774"
      },
      "source": [
        "loss,acc = loss_func(model(xb), yb.long()), accuracy(model(xb), yb)\n",
        "loss,acc"
      ],
      "execution_count": null,
      "outputs": [
        {
          "output_type": "execute_result",
          "data": {
            "text/plain": [
              "(tensor(0.0048, grad_fn=<NllLossBackward>), tensor(1.))"
            ]
          },
          "metadata": {
            "tags": []
          },
          "execution_count": 81
        }
      ]
    },
    {
      "cell_type": "markdown",
      "metadata": {
        "id": "UVaK2RCHxp8_"
      },
      "source": [
        "Randomized tests can be very useful."
      ]
    },
    {
      "cell_type": "markdown",
      "metadata": {
        "id": "TSDu_zpXxp8_"
      },
      "source": [
        "[Jump_to lesson 9 video](https://course.fast.ai/videos/?lesson=9&t=3442)"
      ]
    },
    {
      "cell_type": "code",
      "metadata": {
        "id": "3GQE3EvMxp9A"
      },
      "source": [
        "assert acc>0.7"
      ],
      "execution_count": null,
      "outputs": []
    },
    {
      "cell_type": "markdown",
      "metadata": {
        "id": "1PWzGE8Rxp9A"
      },
      "source": [
        "## Dataset and DataLoader"
      ]
    },
    {
      "cell_type": "markdown",
      "metadata": {
        "id": "nz8ts0aZxp9A"
      },
      "source": [
        "### Dataset"
      ]
    },
    {
      "cell_type": "markdown",
      "metadata": {
        "id": "hhmhOE2xxp9B"
      },
      "source": [
        "It's clunky to iterate through minibatches of x and y values separately:\n",
        "\n",
        "```python\n",
        "    xb = x_train[start_i:end_i]\n",
        "    yb = y_train[start_i:end_i]\n",
        "```\n",
        "\n",
        "Instead, let's do these two steps together, by introducing a `Dataset` class:\n",
        "\n",
        "```python\n",
        "    xb,yb = train_ds[i*bs : i*bs+bs]\n",
        "```"
      ]
    },
    {
      "cell_type": "markdown",
      "metadata": {
        "id": "U-gLw07Fxp9B"
      },
      "source": [
        "[Jump_to lesson 9 video](https://course.fast.ai/videos/?lesson=9&t=3578)"
      ]
    },
    {
      "cell_type": "code",
      "metadata": {
        "id": "QdCJfv5Zxp9B"
      },
      "source": [
        "#export\n",
        "class Dataset():\n",
        "    def __init__(self, x, y): self.x,self.y = x,y\n",
        "    def __len__(self): return len(self.x)\n",
        "    def __getitem__(self, i): return self.x[i],self.y[i]"
      ],
      "execution_count": null,
      "outputs": []
    },
    {
      "cell_type": "code",
      "metadata": {
        "id": "5wzhoIAExp9C"
      },
      "source": [
        "train_ds,valid_ds = Dataset(x_train, y_train),Dataset(x_valid, y_valid)\n",
        "assert len(train_ds)==len(x_train)\n",
        "assert len(valid_ds)==len(x_valid)"
      ],
      "execution_count": null,
      "outputs": []
    },
    {
      "cell_type": "code",
      "metadata": {
        "id": "BxsllyZ8xp9C",
        "colab": {
          "base_uri": "https://localhost:8080/"
        },
        "outputId": "c7e66198-b65c-4bf5-d0bc-186c336644a3"
      },
      "source": [
        "xb,yb = train_ds[0:5]\n",
        "assert xb.shape==(5,28*28)\n",
        "assert yb.shape==(5,)\n",
        "xb,yb"
      ],
      "execution_count": null,
      "outputs": [
        {
          "output_type": "execute_result",
          "data": {
            "text/plain": [
              "(tensor([[0., 0., 0.,  ..., 0., 0., 0.],\n",
              "         [0., 0., 0.,  ..., 0., 0., 0.],\n",
              "         [0., 0., 0.,  ..., 0., 0., 0.],\n",
              "         [0., 0., 0.,  ..., 0., 0., 0.],\n",
              "         [0., 0., 0.,  ..., 0., 0., 0.]]), tensor([5., 0., 4., 1., 9.]))"
            ]
          },
          "metadata": {
            "tags": []
          },
          "execution_count": 85
        }
      ]
    },
    {
      "cell_type": "code",
      "metadata": {
        "id": "PNvAKEUAxp9C"
      },
      "source": [
        "model,opt = get_model()"
      ],
      "execution_count": null,
      "outputs": []
    },
    {
      "cell_type": "code",
      "metadata": {
        "id": "6y3T2ONQxp9D"
      },
      "source": [
        "for epoch in range(epochs):\n",
        "    for i in range((n-1)//bs + 1):\n",
        "        xb,yb = train_ds[i*bs : i*bs+bs]\n",
        "        pred = model(xb)\n",
        "        loss = loss_func(pred, yb.long())\n",
        "\n",
        "        loss.backward()\n",
        "        opt.step()\n",
        "        opt.zero_grad()"
      ],
      "execution_count": null,
      "outputs": []
    },
    {
      "cell_type": "code",
      "metadata": {
        "id": "eiGSBU34xp9D",
        "colab": {
          "base_uri": "https://localhost:8080/"
        },
        "outputId": "c824b5eb-dfbd-443e-aa68-8ff518caf9aa"
      },
      "source": [
        "loss,acc = loss_func(model(xb), yb.long()), accuracy(model(xb), yb)\n",
        "assert acc>0.7\n",
        "loss,acc"
      ],
      "execution_count": null,
      "outputs": [
        {
          "output_type": "execute_result",
          "data": {
            "text/plain": [
              "(tensor(0.0098, grad_fn=<NllLossBackward>), tensor(1.))"
            ]
          },
          "metadata": {
            "tags": []
          },
          "execution_count": 88
        }
      ]
    },
    {
      "cell_type": "markdown",
      "metadata": {
        "id": "0fgmSsJdxp9D"
      },
      "source": [
        "### DataLoader"
      ]
    },
    {
      "cell_type": "markdown",
      "metadata": {
        "id": "QlMsRaK_xp9D"
      },
      "source": [
        "Previously, our loop iterated over batches (xb, yb) like this:\n",
        "\n",
        "```python\n",
        "for i in range((n-1)//bs + 1):\n",
        "    xb,yb = train_ds[i*bs : i*bs+bs]\n",
        "    ...\n",
        "```\n",
        "\n",
        "Let's make our loop much cleaner, using a data loader:\n",
        "\n",
        "```python\n",
        "for xb,yb in train_dl:\n",
        "    ...\n",
        "```"
      ]
    },
    {
      "cell_type": "markdown",
      "metadata": {
        "id": "Ka7lGsJoxp9E"
      },
      "source": [
        "[Jump_to lesson 9 video](https://course.fast.ai/videos/?lesson=9&t=3674)"
      ]
    },
    {
      "cell_type": "code",
      "metadata": {
        "id": "DcOXwOi-xp9F"
      },
      "source": [
        "class DataLoader():\n",
        "    def __init__(self, ds, bs): self.ds,self.bs = ds,bs\n",
        "    def __iter__(self):\n",
        "        for i in range(0, len(self.ds), self.bs): yield self.ds[i:i+self.bs]"
      ],
      "execution_count": null,
      "outputs": []
    },
    {
      "cell_type": "code",
      "metadata": {
        "id": "z1FCkkcdxp9F"
      },
      "source": [
        "train_dl = DataLoader(train_ds, bs)\n",
        "valid_dl = DataLoader(valid_ds, bs)"
      ],
      "execution_count": null,
      "outputs": []
    },
    {
      "cell_type": "code",
      "metadata": {
        "id": "dMXh88dvxp9G"
      },
      "source": [
        "xb,yb = next(iter(valid_dl))\n",
        "assert xb.shape==(bs,28*28)\n",
        "assert yb.shape==(bs,)"
      ],
      "execution_count": null,
      "outputs": []
    },
    {
      "cell_type": "code",
      "metadata": {
        "id": "mWnYMKDhxp9G",
        "colab": {
          "base_uri": "https://localhost:8080/",
          "height": 283
        },
        "outputId": "36a6bc37-1a9d-45e5-84ea-91ea3ca2f72c"
      },
      "source": [
        "plt.imshow(xb[0].view(28,28))\n",
        "yb[0]"
      ],
      "execution_count": null,
      "outputs": [
        {
          "output_type": "execute_result",
          "data": {
            "text/plain": [
              "tensor(3.)"
            ]
          },
          "metadata": {
            "tags": []
          },
          "execution_count": 92
        },
        {
          "output_type": "display_data",
          "data": {
            "image/png": "[encoded data removed]",
            "text/plain": [
              "<Figure size 432x288 with 1 Axes>"
            ]
          },
          "metadata": {
            "tags": [],
            "needs_background": "light"
          }
        }
      ]
    },
    {
      "cell_type": "code",
      "metadata": {
        "id": "mekhrFC3xp9G"
      },
      "source": [
        "model,opt = get_model()"
      ],
      "execution_count": null,
      "outputs": []
    },
    {
      "cell_type": "code",
      "metadata": {
        "id": "jIu_Wvwkxp9H"
      },
      "source": [
        "def fit():\n",
        "    for epoch in range(epochs):\n",
        "        for xb,yb in train_dl:\n",
        "            pred = model(xb)\n",
        "            loss = loss_func(pred, yb.long())\n",
        "            loss.backward()\n",
        "            opt.step()\n",
        "            opt.zero_grad()"
      ],
      "execution_count": null,
      "outputs": []
    },
    {
      "cell_type": "code",
      "metadata": {
        "id": "JIFF7_-xxp9H"
      },
      "source": [
        "fit()"
      ],
      "execution_count": null,
      "outputs": []
    },
    {
      "cell_type": "code",
      "metadata": {
        "id": "RH5KjHAaxp9H",
        "colab": {
          "base_uri": "https://localhost:8080/"
        },
        "outputId": "be1bcbd7-fe53-4bff-f68f-484e17a56168"
      },
      "source": [
        "loss,acc = loss_func(model(xb), yb.long()), accuracy(model(xb), yb)\n",
        "assert acc>0.7\n",
        "loss,acc"
      ],
      "execution_count": null,
      "outputs": [
        {
          "output_type": "execute_result",
          "data": {
            "text/plain": [
              "(tensor(0.0277, grad_fn=<NllLossBackward>), tensor(1.))"
            ]
          },
          "metadata": {
            "tags": []
          },
          "execution_count": 96
        }
      ]
    },
    {
      "cell_type": "markdown",
      "metadata": {
        "id": "-9uDi1fcxp9H"
      },
      "source": [
        "### Random sampling"
      ]
    },
    {
      "cell_type": "markdown",
      "metadata": {
        "id": "JRARDaX9xp9P"
      },
      "source": [
        "We want our training set to be in a random order, and that order should differ each iteration. But the validation set shouldn't be randomized."
      ]
    },
    {
      "cell_type": "markdown",
      "metadata": {
        "id": "MUSSX0iNxp9P"
      },
      "source": [
        "[Jump_to lesson 9 video](https://course.fast.ai/videos/?lesson=9&t=3942)"
      ]
    },
    {
      "cell_type": "code",
      "metadata": {
        "id": "mgUen1XGxp9Q"
      },
      "source": [
        "class Sampler():\n",
        "    def __init__(self, ds, bs, shuffle=False):\n",
        "        self.n,self.bs,self.shuffle = len(ds),bs,shuffle\n",
        "        \n",
        "    def __iter__(self):\n",
        "        self.idxs = torch.randperm(self.n) if self.shuffle else torch.arange(self.n)\n",
        "        for i in range(0, self.n, self.bs): yield self.idxs[i:i+self.bs]"
      ],
      "execution_count": null,
      "outputs": []
    },
    {
      "cell_type": "code",
      "metadata": {
        "id": "nV78WqQbxp9Q"
      },
      "source": [
        "small_ds = Dataset(*train_ds[:10])"
      ],
      "execution_count": null,
      "outputs": []
    },
    {
      "cell_type": "code",
      "metadata": {
        "id": "Y-wrj8hrxp9Q",
        "colab": {
          "base_uri": "https://localhost:8080/"
        },
        "outputId": "16c68025-e171-44dd-e22f-c07442e89e3f"
      },
      "source": [
        "s = Sampler(small_ds,3,False)\n",
        "[o for o in s]"
      ],
      "execution_count": null,
      "outputs": [
        {
          "output_type": "execute_result",
          "data": {
            "text/plain": [
              "[tensor([0, 1, 2]), tensor([3, 4, 5]), tensor([6, 7, 8]), tensor([9])]"
            ]
          },
          "metadata": {
            "tags": []
          },
          "execution_count": 99
        }
      ]
    },
    {
      "cell_type": "code",
      "metadata": {
        "id": "cAyM-UXDxp9R",
        "colab": {
          "base_uri": "https://localhost:8080/"
        },
        "outputId": "e16e8f20-47c9-4e77-877d-50a665aee1c5"
      },
      "source": [
        "s = Sampler(small_ds,3,True)\n",
        "[o for o in s]"
      ],
      "execution_count": null,
      "outputs": [
        {
          "output_type": "execute_result",
          "data": {
            "text/plain": [
              "[tensor([2, 5, 1]), tensor([3, 0, 6]), tensor([7, 8, 4]), tensor([9])]"
            ]
          },
          "metadata": {
            "tags": []
          },
          "execution_count": 100
        }
      ]
    },
    {
      "cell_type": "code",
      "metadata": {
        "id": "Xf0r66xbxp9R"
      },
      "source": [
        "def collate(b):\n",
        "    xs,ys = zip(*b)\n",
        "    return torch.stack(xs),torch.stack(ys)\n",
        "\n",
        "class DataLoader():\n",
        "    def __init__(self, ds, sampler, collate_fn=collate):\n",
        "        self.ds,self.sampler,self.collate_fn = ds,sampler,collate_fn\n",
        "        \n",
        "    def __iter__(self):\n",
        "        for s in self.sampler: yield self.collate_fn([self.ds[i] for i in s])"
      ],
      "execution_count": null,
      "outputs": []
    },
    {
      "cell_type": "code",
      "metadata": {
        "id": "JfhQOgsVxp9S"
      },
      "source": [
        "train_samp = Sampler(train_ds, bs, shuffle=True)\n",
        "valid_samp = Sampler(valid_ds, bs, shuffle=False)"
      ],
      "execution_count": null,
      "outputs": []
    },
    {
      "cell_type": "code",
      "metadata": {
        "id": "GZpHj2oqxp9S"
      },
      "source": [
        "train_dl = DataLoader(train_ds, sampler=train_samp, collate_fn=collate)\n",
        "valid_dl = DataLoader(valid_ds, sampler=valid_samp, collate_fn=collate)"
      ],
      "execution_count": null,
      "outputs": []
    },
    {
      "cell_type": "code",
      "metadata": {
        "id": "qG_iithdxp9S",
        "colab": {
          "base_uri": "https://localhost:8080/",
          "height": 283
        },
        "outputId": "2ca0cbc3-b121-4a71-8ede-aa4b3a085f4c"
      },
      "source": [
        "xb,yb = next(iter(valid_dl))\n",
        "plt.imshow(xb[0].view(28,28))\n",
        "yb[0]"
      ],
      "execution_count": null,
      "outputs": [
        {
          "output_type": "execute_result",
          "data": {
            "text/plain": [
              "tensor(3.)"
            ]
          },
          "metadata": {
            "tags": []
          },
          "execution_count": 104
        },
        {
          "output_type": "display_data",
          "data": {
            "image/png": "[encoded data removed]",
            "text/plain": [
              "<Figure size 432x288 with 1 Axes>"
            ]
          },
          "metadata": {
            "tags": [],
            "needs_background": "light"
          }
        }
      ]
    },
    {
      "cell_type": "code",
      "metadata": {
        "id": "wDtE1Hlgxp9S",
        "colab": {
          "base_uri": "https://localhost:8080/",
          "height": 283
        },
        "outputId": "1afcd8fd-2ba0-4474-bafd-2b4f7400b85e"
      },
      "source": [
        "xb,yb = next(iter(train_dl))\n",
        "plt.imshow(xb[0].view(28,28))\n",
        "yb[0]"
      ],
      "execution_count": null,
      "outputs": [
        {
          "output_type": "execute_result",
          "data": {
            "text/plain": [
              "tensor(4.)"
            ]
          },
          "metadata": {
            "tags": []
          },
          "execution_count": 105
        },
        {
          "output_type": "display_data",
          "data": {
            "image/png": "[encoded data removed]",
            "text/plain": [
              "<Figure size 432x288 with 1 Axes>"
            ]
          },
          "metadata": {
            "tags": [],
            "needs_background": "light"
          }
        }
      ]
    },
    {
      "cell_type": "code",
      "metadata": {
        "id": "fkS0eizexp9T",
        "colab": {
          "base_uri": "https://localhost:8080/",
          "height": 283
        },
        "outputId": "779a6399-14ee-464f-e501-7b00dfcd6816"
      },
      "source": [
        "xb,yb = next(iter(train_dl))\n",
        "plt.imshow(xb[0].view(28,28))\n",
        "yb[0]"
      ],
      "execution_count": null,
      "outputs": [
        {
          "output_type": "execute_result",
          "data": {
            "text/plain": [
              "tensor(9.)"
            ]
          },
          "metadata": {
            "tags": []
          },
          "execution_count": 106
        },
        {
          "output_type": "display_data",
          "data": {
            "image/png": "[encoded data removed]",
            "text/plain": [
              "<Figure size 432x288 with 1 Axes>"
            ]
          },
          "metadata": {
            "tags": [],
            "needs_background": "light"
          }
        }
      ]
    },
    {
      "cell_type": "code",
      "metadata": {
        "id": "pwxmZdIBxp9U",
        "colab": {
          "base_uri": "https://localhost:8080/",
          "height": 413
        },
        "outputId": "c186f148-4b56-4150-99a1-e2bc5b92efcf"
      },
      "source": [
        "model,opt = get_model()\n",
        "fit()\n",
        "\n",
        "loss,acc = loss_func(model(xb), yb), accuracy(model(xb), yb)\n",
        "assert acc>0.7\n",
        "loss,acc"
      ],
      "execution_count": null,
      "outputs": [
        {
          "output_type": "error",
          "ename": "RuntimeError",
          "evalue": "ignored",
          "traceback": [
            "\u001b[0;31m---------------------------------------------------------------------------\u001b[0m",
            "\u001b[0;31mRuntimeError\u001b[0m                              Traceback (most recent call last)",
            "\u001b[0;32m<ipython-input-107-24090b23970e>\u001b[0m in \u001b[0;36m<module>\u001b[0;34m()\u001b[0m\n\u001b[1;32m      2\u001b[0m \u001b[0mfit\u001b[0m\u001b[0;34m(\u001b[0m\u001b[0;34m)\u001b[0m\u001b[0;34m\u001b[0m\u001b[0;34m\u001b[0m\u001b[0m\n\u001b[1;32m      3\u001b[0m \u001b[0;34m\u001b[0m\u001b[0m\n\u001b[0;32m----> 4\u001b[0;31m \u001b[0mloss\u001b[0m\u001b[0;34m,\u001b[0m\u001b[0macc\u001b[0m \u001b[0;34m=\u001b[0m \u001b[0mloss_func\u001b[0m\u001b[0;34m(\u001b[0m\u001b[0mmodel\u001b[0m\u001b[0;34m(\u001b[0m\u001b[0mxb\u001b[0m\u001b[0;34m)\u001b[0m\u001b[0;34m,\u001b[0m \u001b[0myb\u001b[0m\u001b[0;34m)\u001b[0m\u001b[0;34m,\u001b[0m \u001b[0maccuracy\u001b[0m\u001b[0;34m(\u001b[0m\u001b[0mmodel\u001b[0m\u001b[0;34m(\u001b[0m\u001b[0mxb\u001b[0m\u001b[0;34m)\u001b[0m\u001b[0;34m,\u001b[0m \u001b[0myb\u001b[0m\u001b[0;34m)\u001b[0m\u001b[0;34m\u001b[0m\u001b[0;34m\u001b[0m\u001b[0m\n\u001b[0m\u001b[1;32m      5\u001b[0m \u001b[0;32massert\u001b[0m \u001b[0macc\u001b[0m\u001b[0;34m>\u001b[0m\u001b[0;36m0.7\u001b[0m\u001b[0;34m\u001b[0m\u001b[0;34m\u001b[0m\u001b[0m\n\u001b[1;32m      6\u001b[0m \u001b[0mloss\u001b[0m\u001b[0;34m,\u001b[0m\u001b[0macc\u001b[0m\u001b[0;34m\u001b[0m\u001b[0;34m\u001b[0m\u001b[0m\n",
            "\u001b[0;32m/usr/local/lib/python3.7/dist-packages/torch/nn/functional.py\u001b[0m in \u001b[0;36mcross_entropy\u001b[0;34m(input, target, weight, size_average, ignore_index, reduce, reduction)\u001b[0m\n\u001b[1;32m   2691\u001b[0m     \u001b[0;32mif\u001b[0m \u001b[0msize_average\u001b[0m \u001b[0;32mis\u001b[0m \u001b[0;32mnot\u001b[0m \u001b[0;32mNone\u001b[0m \u001b[0;32mor\u001b[0m \u001b[0mreduce\u001b[0m \u001b[0;32mis\u001b[0m \u001b[0;32mnot\u001b[0m \u001b[0;32mNone\u001b[0m\u001b[0;34m:\u001b[0m\u001b[0;34m\u001b[0m\u001b[0;34m\u001b[0m\u001b[0m\n\u001b[1;32m   2692\u001b[0m         \u001b[0mreduction\u001b[0m \u001b[0;34m=\u001b[0m \u001b[0m_Reduction\u001b[0m\u001b[0;34m.\u001b[0m\u001b[0mlegacy_get_string\u001b[0m\u001b[0;34m(\u001b[0m\u001b[0msize_average\u001b[0m\u001b[0;34m,\u001b[0m \u001b[0mreduce\u001b[0m\u001b[0;34m)\u001b[0m\u001b[0;34m\u001b[0m\u001b[0;34m\u001b[0m\u001b[0m\n\u001b[0;32m-> 2693\u001b[0;31m     \u001b[0;32mreturn\u001b[0m \u001b[0mnll_loss\u001b[0m\u001b[0;34m(\u001b[0m\u001b[0mlog_softmax\u001b[0m\u001b[0;34m(\u001b[0m\u001b[0minput\u001b[0m\u001b[0;34m,\u001b[0m \u001b[0;36m1\u001b[0m\u001b[0;34m)\u001b[0m\u001b[0;34m,\u001b[0m \u001b[0mtarget\u001b[0m\u001b[0;34m,\u001b[0m \u001b[0mweight\u001b[0m\u001b[0;34m,\u001b[0m \u001b[0;32mNone\u001b[0m\u001b[0;34m,\u001b[0m \u001b[0mignore_index\u001b[0m\u001b[0;34m,\u001b[0m \u001b[0;32mNone\u001b[0m\u001b[0;34m,\u001b[0m \u001b[0mreduction\u001b[0m\u001b[0;34m)\u001b[0m\u001b[0;34m\u001b[0m\u001b[0;34m\u001b[0m\u001b[0m\n\u001b[0m\u001b[1;32m   2694\u001b[0m \u001b[0;34m\u001b[0m\u001b[0m\n\u001b[1;32m   2695\u001b[0m \u001b[0;34m\u001b[0m\u001b[0m\n",
            "\u001b[0;32m/usr/local/lib/python3.7/dist-packages/torch/nn/functional.py\u001b[0m in \u001b[0;36mnll_loss\u001b[0;34m(input, target, weight, size_average, ignore_index, reduce, reduction)\u001b[0m\n\u001b[1;32m   2386\u001b[0m         )\n\u001b[1;32m   2387\u001b[0m     \u001b[0;32mif\u001b[0m \u001b[0mdim\u001b[0m \u001b[0;34m==\u001b[0m \u001b[0;36m2\u001b[0m\u001b[0;34m:\u001b[0m\u001b[0;34m\u001b[0m\u001b[0;34m\u001b[0m\u001b[0m\n\u001b[0;32m-> 2388\u001b[0;31m         \u001b[0mret\u001b[0m \u001b[0;34m=\u001b[0m \u001b[0mtorch\u001b[0m\u001b[0;34m.\u001b[0m\u001b[0m_C\u001b[0m\u001b[0;34m.\u001b[0m\u001b[0m_nn\u001b[0m\u001b[0;34m.\u001b[0m\u001b[0mnll_loss\u001b[0m\u001b[0;34m(\u001b[0m\u001b[0minput\u001b[0m\u001b[0;34m,\u001b[0m \u001b[0mtarget\u001b[0m\u001b[0;34m,\u001b[0m \u001b[0mweight\u001b[0m\u001b[0;34m,\u001b[0m \u001b[0m_Reduction\u001b[0m\u001b[0;34m.\u001b[0m\u001b[0mget_enum\u001b[0m\u001b[0;34m(\u001b[0m\u001b[0mreduction\u001b[0m\u001b[0;34m)\u001b[0m\u001b[0;34m,\u001b[0m \u001b[0mignore_index\u001b[0m\u001b[0;34m)\u001b[0m\u001b[0;34m\u001b[0m\u001b[0;34m\u001b[0m\u001b[0m\n\u001b[0m\u001b[1;32m   2389\u001b[0m     \u001b[0;32melif\u001b[0m \u001b[0mdim\u001b[0m \u001b[0;34m==\u001b[0m \u001b[0;36m4\u001b[0m\u001b[0;34m:\u001b[0m\u001b[0;34m\u001b[0m\u001b[0;34m\u001b[0m\u001b[0m\n\u001b[1;32m   2390\u001b[0m         \u001b[0mret\u001b[0m \u001b[0;34m=\u001b[0m \u001b[0mtorch\u001b[0m\u001b[0;34m.\u001b[0m\u001b[0m_C\u001b[0m\u001b[0;34m.\u001b[0m\u001b[0m_nn\u001b[0m\u001b[0;34m.\u001b[0m\u001b[0mnll_loss2d\u001b[0m\u001b[0;34m(\u001b[0m\u001b[0minput\u001b[0m\u001b[0;34m,\u001b[0m \u001b[0mtarget\u001b[0m\u001b[0;34m,\u001b[0m \u001b[0mweight\u001b[0m\u001b[0;34m,\u001b[0m \u001b[0m_Reduction\u001b[0m\u001b[0;34m.\u001b[0m\u001b[0mget_enum\u001b[0m\u001b[0;34m(\u001b[0m\u001b[0mreduction\u001b[0m\u001b[0;34m)\u001b[0m\u001b[0;34m,\u001b[0m \u001b[0mignore_index\u001b[0m\u001b[0;34m)\u001b[0m\u001b[0;34m\u001b[0m\u001b[0;34m\u001b[0m\u001b[0m\n",
            "\u001b[0;31mRuntimeError\u001b[0m: expected scalar type Long but found Float"
          ]
        }
      ]
    },
    {
      "cell_type": "markdown",
      "metadata": {
        "id": "BkOcYVz5xp9U"
      },
      "source": [
        "### PyTorch DataLoader"
      ]
    },
    {
      "cell_type": "markdown",
      "metadata": {
        "id": "Ek63kxvpxp9U"
      },
      "source": [
        "[Jump_to lesson 9 video](https://course.fast.ai/videos/?lesson=9&t=4171)"
      ]
    },
    {
      "cell_type": "code",
      "metadata": {
        "id": "8heUT6Qaxp9V"
      },
      "source": [
        "#export\n",
        "from torch.utils.data import DataLoader, SequentialSampler, RandomSampler"
      ],
      "execution_count": null,
      "outputs": []
    },
    {
      "cell_type": "code",
      "metadata": {
        "id": "Mc6PTXcIxp9V"
      },
      "source": [
        "train_dl = DataLoader(train_ds, bs, sampler=RandomSampler(train_ds), collate_fn=collate)\n",
        "valid_dl = DataLoader(valid_ds, bs, sampler=SequentialSampler(valid_ds), collate_fn=collate)"
      ],
      "execution_count": null,
      "outputs": []
    },
    {
      "cell_type": "code",
      "metadata": {
        "id": "URCJObCIxp9V"
      },
      "source": [
        "model,opt = get_model()\n",
        "fit()\n",
        "loss_func(model(xb), yb), accuracy(model(xb), yb)"
      ],
      "execution_count": null,
      "outputs": []
    },
    {
      "cell_type": "markdown",
      "metadata": {
        "id": "RV_tHff0xp9W"
      },
      "source": [
        "PyTorch's defaults work fine for most things however:"
      ]
    },
    {
      "cell_type": "code",
      "metadata": {
        "id": "m1-XnjlYxp9W"
      },
      "source": [
        "train_dl = DataLoader(train_ds, bs, shuffle=True, drop_last=True)\n",
        "valid_dl = DataLoader(valid_ds, bs, shuffle=False)"
      ],
      "execution_count": null,
      "outputs": []
    },
    {
      "cell_type": "code",
      "metadata": {
        "id": "hldX-jfTxp9W"
      },
      "source": [
        "model,opt = get_model()\n",
        "fit()\n",
        "\n",
        "loss,acc = loss_func(model(xb), yb), accuracy(model(xb), yb)\n",
        "assert acc>0.7\n",
        "loss,acc"
      ],
      "execution_count": null,
      "outputs": []
    },
    {
      "cell_type": "markdown",
      "metadata": {
        "id": "4wHMsZhExp9W"
      },
      "source": [
        "Note that PyTorch's `DataLoader`, if you pass `num_workers`, will use multiple threads to call your `Dataset`."
      ]
    },
    {
      "cell_type": "markdown",
      "metadata": {
        "id": "IZdHSkBbxp9X"
      },
      "source": [
        "## Validation"
      ]
    },
    {
      "cell_type": "markdown",
      "metadata": {
        "id": "KzRnuK0dxp9X"
      },
      "source": [
        "You **always** should also have a [validation set](http://www.fast.ai/2017/11/13/validation-sets/), in order to identify if you are overfitting.\n",
        "\n",
        "We will calculate and print the validation loss at the end of each epoch.\n",
        "\n",
        "(Note that we always call `model.train()` before training, and `model.eval()` before inference, because these are used by layers such as `nn.BatchNorm2d` and `nn.Dropout` to ensure appropriate behaviour for these different phases.)"
      ]
    },
    {
      "cell_type": "markdown",
      "metadata": {
        "id": "gG-PcbGPxp9X"
      },
      "source": [
        "[Jump_to lesson 9 video](https://course.fast.ai/videos/?lesson=9&t=4260)"
      ]
    },
    {
      "cell_type": "code",
      "metadata": {
        "id": "gZpIe-Jqxp9X"
      },
      "source": [
        "def fit(epochs, model, loss_func, opt, train_dl, valid_dl):\n",
        "    for epoch in range(epochs):\n",
        "        # Handle batchnorm / dropout\n",
        "        model.train()\n",
        "#         print(model.training)\n",
        "        for xb,yb in train_dl:\n",
        "            loss = loss_func(model(xb), yb.long())\n",
        "            loss.backward()\n",
        "            opt.step()\n",
        "            opt.zero_grad()\n",
        "\n",
        "        model.eval()\n",
        "#         print(model.training)\n",
        "        with torch.no_grad():\n",
        "            tot_loss,tot_acc = 0.,0.\n",
        "            for xb,yb in valid_dl:\n",
        "                pred = model(xb)\n",
        "                tot_loss += loss_func(pred, yb.long())\n",
        "                tot_acc  += accuracy (pred,yb)\n",
        "        nv = len(valid_dl)\n",
        "        print(epoch, tot_loss/nv, tot_acc/nv)\n",
        "    return tot_loss/nv, tot_acc/nv"
      ],
      "execution_count": null,
      "outputs": []
    },
    {
      "cell_type": "markdown",
      "metadata": {
        "id": "ZU-f2jwTxp9Y"
      },
      "source": [
        "*Question*: Are these validation results correct if batch size varies?"
      ]
    },
    {
      "cell_type": "markdown",
      "metadata": {
        "id": "kavB4SYyxp9Y"
      },
      "source": [
        "`get_dls` returns dataloaders for the training and validation sets:"
      ]
    },
    {
      "cell_type": "code",
      "metadata": {
        "id": "Ze8BCcJrxp9Z"
      },
      "source": [
        "#export\n",
        "def get_dls(train_ds, valid_ds, bs, **kwargs):\n",
        "    return (DataLoader(train_ds, batch_size=bs, shuffle=True, **kwargs),\n",
        "            DataLoader(valid_ds, batch_size=bs*2, **kwargs))"
      ],
      "execution_count": null,
      "outputs": []
    },
    {
      "cell_type": "markdown",
      "metadata": {
        "id": "gLfgd85jxp9Z"
      },
      "source": [
        "Now, our whole process of obtaining the data loaders and fitting the model can be run in 3 lines of code:"
      ]
    },
    {
      "cell_type": "code",
      "metadata": {
        "id": "1xdz5p95xp9a"
      },
      "source": [
        "train_dl,valid_dl = get_dls(train_ds, valid_ds, bs)\n",
        "model,opt = get_model()\n",
        "loss,acc = fit(5, model, loss_func, opt, train_dl, valid_dl)"
      ],
      "execution_count": null,
      "outputs": []
    },
    {
      "cell_type": "code",
      "metadata": {
        "id": "TM7lifJHxp9a"
      },
      "source": [
        "assert acc>0.9"
      ],
      "execution_count": null,
      "outputs": []
    },
    {
      "cell_type": "markdown",
      "metadata": {
        "id": "I-fmPWSBxp9b"
      },
      "source": [
        "## Export"
      ]
    },
    {
      "cell_type": "code",
      "metadata": {
        "id": "LWl4Vw_Txp9b"
      },
      "source": [
        "!python notebook2script.py 03_minibatch_training.ipynb"
      ],
      "execution_count": null,
      "outputs": []
    },
    {
      "cell_type": "code",
      "metadata": {
        "id": "OxGTEBHtxp9c"
      },
      "source": [
        ""
      ],
      "execution_count": null,
      "outputs": []
    }
  ]
}