{
  "nbformat": 4,
  "nbformat_minor": 0,
  "metadata": {
    "kernelspec": {
      "display_name": "Python 3",
      "language": "python",
      "name": "python3"
    },
    "colab": {
      "name": "Copy of 02_fully_connected annotaded.ipynb",
      "provenance": [],
      "collapsed_sections": [
        "T7CoEs8B5-Yf",
        "NjABxzup5-Yj",
        "GDFieAnU5-Yl"
      ],
      "include_colab_link": true
    },
    "accelerator": "GPU",
    "widgets": {
      "application/vnd.jupyter.widget-state+json": {
        "bc74105955cf490dadf93bd02b0f43c1": {
          "model_module": "@jupyter-widgets/controls",
          "model_name": "HBoxModel",
          "state": {
            "_view_name": "HBoxView",
            "_dom_classes": [],
            "_model_name": "HBoxModel",
            "_view_module": "@jupyter-widgets/controls",
            "_model_module_version": "1.5.0",
            "_view_count": null,
            "_view_module_version": "1.5.0",
            "box_style": "",
            "layout": "IPY_MODEL_67ca474b1d244e8d823d12635cc3e380",
            "_model_module": "@jupyter-widgets/controls",
            "children": [
              "IPY_MODEL_8a6ba83ccbb44069a9b59a23f9ad4785",
              "IPY_MODEL_2db975735f1e4b1bb0674337233a5b0f"
            ]
          }
        },
        "67ca474b1d244e8d823d12635cc3e380": {
          "model_module": "@jupyter-widgets/base",
          "model_name": "LayoutModel",
          "state": {
            "_view_name": "LayoutView",
            "grid_template_rows": null,
            "right": null,
            "justify_content": null,
            "_view_module": "@jupyter-widgets/base",
            "overflow": null,
            "_model_module_version": "1.2.0",
            "_view_count": null,
            "flex_flow": null,
            "width": null,
            "min_width": null,
            "border": null,
            "align_items": null,
            "bottom": null,
            "_model_module": "@jupyter-widgets/base",
            "top": null,
            "grid_column": null,
            "overflow_y": null,
            "overflow_x": null,
            "grid_auto_flow": null,
            "grid_area": null,
            "grid_template_columns": null,
            "flex": null,
            "_model_name": "LayoutModel",
            "justify_items": null,
            "grid_row": null,
            "max_height": null,
            "align_content": null,
            "visibility": null,
            "align_self": null,
            "height": null,
            "min_height": null,
            "padding": null,
            "grid_auto_rows": null,
            "grid_gap": null,
            "max_width": null,
            "order": null,
            "_view_module_version": "1.2.0",
            "grid_template_areas": null,
            "object_position": null,
            "object_fit": null,
            "grid_auto_columns": null,
            "margin": null,
            "display": null,
            "left": null
          }
        },
        "8a6ba83ccbb44069a9b59a23f9ad4785": {
          "model_module": "@jupyter-widgets/controls",
          "model_name": "FloatProgressModel",
          "state": {
            "_view_name": "ProgressView",
            "style": "IPY_MODEL_c56de81a48da443bb5449e394b8bda4d",
            "_dom_classes": [],
            "description": "",
            "_model_name": "FloatProgressModel",
            "bar_style": "success",
            "max": 9912422,
            "_view_module": "@jupyter-widgets/controls",
            "_model_module_version": "1.5.0",
            "value": 9912422,
            "_view_count": null,
            "_view_module_version": "1.5.0",
            "orientation": "horizontal",
            "min": 0,
            "description_tooltip": null,
            "_model_module": "@jupyter-widgets/controls",
            "layout": "IPY_MODEL_c71298c08a174cdd9c16022e9673a19e"
          }
        },
        "2db975735f1e4b1bb0674337233a5b0f": {
          "model_module": "@jupyter-widgets/controls",
          "model_name": "HTMLModel",
          "state": {
            "_view_name": "HTMLView",
            "style": "IPY_MODEL_ca3bfc61aa35466dbff896c8931e2e30",
            "_dom_classes": [],
            "description": "",
            "_model_name": "HTMLModel",
            "placeholder": "​",
            "_view_module": "@jupyter-widgets/controls",
            "_model_module_version": "1.5.0",
            "value": " 9913344/? [02:12&lt;00:00, 74817.69it/s]",
            "_view_count": null,
            "_view_module_version": "1.5.0",
            "description_tooltip": null,
            "_model_module": "@jupyter-widgets/controls",
            "layout": "IPY_MODEL_4b9a43c2e4bc4115bbf2c0caf885cfe3"
          }
        },
        "c56de81a48da443bb5449e394b8bda4d": {
          "model_module": "@jupyter-widgets/controls",
          "model_name": "ProgressStyleModel",
          "state": {
            "_view_name": "StyleView",
            "_model_name": "ProgressStyleModel",
            "description_width": "initial",
            "_view_module": "@jupyter-widgets/base",
            "_model_module_version": "1.5.0",
            "_view_count": null,
            "_view_module_version": "1.2.0",
            "bar_color": null,
            "_model_module": "@jupyter-widgets/controls"
          }
        },
        "c71298c08a174cdd9c16022e9673a19e": {
          "model_module": "@jupyter-widgets/base",
          "model_name": "LayoutModel",
          "state": {
            "_view_name": "LayoutView",
            "grid_template_rows": null,
            "right": null,
            "justify_content": null,
            "_view_module": "@jupyter-widgets/base",
            "overflow": null,
            "_model_module_version": "1.2.0",
            "_view_count": null,
            "flex_flow": null,
            "width": null,
            "min_width": null,
            "border": null,
            "align_items": null,
            "bottom": null,
            "_model_module": "@jupyter-widgets/base",
            "top": null,
            "grid_column": null,
            "overflow_y": null,
            "overflow_x": null,
            "grid_auto_flow": null,
            "grid_area": null,
            "grid_template_columns": null,
            "flex": null,
            "_model_name": "LayoutModel",
            "justify_items": null,
            "grid_row": null,
            "max_height": null,
            "align_content": null,
            "visibility": null,
            "align_self": null,
            "height": null,
            "min_height": null,
            "padding": null,
            "grid_auto_rows": null,
            "grid_gap": null,
            "max_width": null,
            "order": null,
            "_view_module_version": "1.2.0",
            "grid_template_areas": null,
            "object_position": null,
            "object_fit": null,
            "grid_auto_columns": null,
            "margin": null,
            "display": null,
            "left": null
          }
        },
        "ca3bfc61aa35466dbff896c8931e2e30": {
          "model_module": "@jupyter-widgets/controls",
          "model_name": "DescriptionStyleModel",
          "state": {
            "_view_name": "StyleView",
            "_model_name": "DescriptionStyleModel",
            "description_width": "",
            "_view_module": "@jupyter-widgets/base",
            "_model_module_version": "1.5.0",
            "_view_count": null,
            "_view_module_version": "1.2.0",
            "_model_module": "@jupyter-widgets/controls"
          }
        },
        "4b9a43c2e4bc4115bbf2c0caf885cfe3": {
          "model_module": "@jupyter-widgets/base",
          "model_name": "LayoutModel",
          "state": {
            "_view_name": "LayoutView",
            "grid_template_rows": null,
            "right": null,
            "justify_content": null,
            "_view_module": "@jupyter-widgets/base",
            "overflow": null,
            "_model_module_version": "1.2.0",
            "_view_count": null,
            "flex_flow": null,
            "width": null,
            "min_width": null,
            "border": null,
            "align_items": null,
            "bottom": null,
            "_model_module": "@jupyter-widgets/base",
            "top": null,
            "grid_column": null,
            "overflow_y": null,
            "overflow_x": null,
            "grid_auto_flow": null,
            "grid_area": null,
            "grid_template_columns": null,
            "flex": null,
            "_model_name": "LayoutModel",
            "justify_items": null,
            "grid_row": null,
            "max_height": null,
            "align_content": null,
            "visibility": null,
            "align_self": null,
            "height": null,
            "min_height": null,
            "padding": null,
            "grid_auto_rows": null,
            "grid_gap": null,
            "max_width": null,
            "order": null,
            "_view_module_version": "1.2.0",
            "grid_template_areas": null,
            "object_position": null,
            "object_fit": null,
            "grid_auto_columns": null,
            "margin": null,
            "display": null,
            "left": null
          }
        },
        "94d4218746ce4573bffbff71913aa6ee": {
          "model_module": "@jupyter-widgets/controls",
          "model_name": "HBoxModel",
          "state": {
            "_view_name": "HBoxView",
            "_dom_classes": [],
            "_model_name": "HBoxModel",
            "_view_module": "@jupyter-widgets/controls",
            "_model_module_version": "1.5.0",
            "_view_count": null,
            "_view_module_version": "1.5.0",
            "box_style": "",
            "layout": "IPY_MODEL_2a8a1e1684d4432f83089704ed5f48c1",
            "_model_module": "@jupyter-widgets/controls",
            "children": [
              "IPY_MODEL_5ac649a81c8e43b3bc3ce7cef5598e72",
              "IPY_MODEL_bb38904aff484d94a0e1ebb3adba3c54"
            ]
          }
        },
        "2a8a1e1684d4432f83089704ed5f48c1": {
          "model_module": "@jupyter-widgets/base",
          "model_name": "LayoutModel",
          "state": {
            "_view_name": "LayoutView",
            "grid_template_rows": null,
            "right": null,
            "justify_content": null,
            "_view_module": "@jupyter-widgets/base",
            "overflow": null,
            "_model_module_version": "1.2.0",
            "_view_count": null,
            "flex_flow": null,
            "width": null,
            "min_width": null,
            "border": null,
            "align_items": null,
            "bottom": null,
            "_model_module": "@jupyter-widgets/base",
            "top": null,
            "grid_column": null,
            "overflow_y": null,
            "overflow_x": null,
            "grid_auto_flow": null,
            "grid_area": null,
            "grid_template_columns": null,
            "flex": null,
            "_model_name": "LayoutModel",
            "justify_items": null,
            "grid_row": null,
            "max_height": null,
            "align_content": null,
            "visibility": null,
            "align_self": null,
            "height": null,
            "min_height": null,
            "padding": null,
            "grid_auto_rows": null,
            "grid_gap": null,
            "max_width": null,
            "order": null,
            "_view_module_version": "1.2.0",
            "grid_template_areas": null,
            "object_position": null,
            "object_fit": null,
            "grid_auto_columns": null,
            "margin": null,
            "display": null,
            "left": null
          }
        },
        "5ac649a81c8e43b3bc3ce7cef5598e72": {
          "model_module": "@jupyter-widgets/controls",
          "model_name": "FloatProgressModel",
          "state": {
            "_view_name": "ProgressView",
            "style": "IPY_MODEL_5c5f80b10ecd4068ba82574c9995ad7b",
            "_dom_classes": [],
            "description": "",
            "_model_name": "FloatProgressModel",
            "bar_style": "success",
            "max": 28881,
            "_view_module": "@jupyter-widgets/controls",
            "_model_module_version": "1.5.0",
            "value": 28881,
            "_view_count": null,
            "_view_module_version": "1.5.0",
            "orientation": "horizontal",
            "min": 0,
            "description_tooltip": null,
            "_model_module": "@jupyter-widgets/controls",
            "layout": "IPY_MODEL_966538575b1c42258baeb0305e20d3d4"
          }
        },
        "bb38904aff484d94a0e1ebb3adba3c54": {
          "model_module": "@jupyter-widgets/controls",
          "model_name": "HTMLModel",
          "state": {
            "_view_name": "HTMLView",
            "style": "IPY_MODEL_fb9f102f98544383baf1d307b9051516",
            "_dom_classes": [],
            "description": "",
            "_model_name": "HTMLModel",
            "placeholder": "​",
            "_view_module": "@jupyter-widgets/controls",
            "_model_module_version": "1.5.0",
            "value": " 29696/? [02:08&lt;00:00, 231.20it/s]",
            "_view_count": null,
            "_view_module_version": "1.5.0",
            "description_tooltip": null,
            "_model_module": "@jupyter-widgets/controls",
            "layout": "IPY_MODEL_97d7ca84482d4b9ab1536335801a5c30"
          }
        },
        "5c5f80b10ecd4068ba82574c9995ad7b": {
          "model_module": "@jupyter-widgets/controls",
          "model_name": "ProgressStyleModel",
          "state": {
            "_view_name": "StyleView",
            "_model_name": "ProgressStyleModel",
            "description_width": "initial",
            "_view_module": "@jupyter-widgets/base",
            "_model_module_version": "1.5.0",
            "_view_count": null,
            "_view_module_version": "1.2.0",
            "bar_color": null,
            "_model_module": "@jupyter-widgets/controls"
          }
        },
        "966538575b1c42258baeb0305e20d3d4": {
          "model_module": "@jupyter-widgets/base",
          "model_name": "LayoutModel",
          "state": {
            "_view_name": "LayoutView",
            "grid_template_rows": null,
            "right": null,
            "justify_content": null,
            "_view_module": "@jupyter-widgets/base",
            "overflow": null,
            "_model_module_version": "1.2.0",
            "_view_count": null,
            "flex_flow": null,
            "width": null,
            "min_width": null,
            "border": null,
            "align_items": null,
            "bottom": null,
            "_model_module": "@jupyter-widgets/base",
            "top": null,
            "grid_column": null,
            "overflow_y": null,
            "overflow_x": null,
            "grid_auto_flow": null,
            "grid_area": null,
            "grid_template_columns": null,
            "flex": null,
            "_model_name": "LayoutModel",
            "justify_items": null,
            "grid_row": null,
            "max_height": null,
            "align_content": null,
            "visibility": null,
            "align_self": null,
            "height": null,
            "min_height": null,
            "padding": null,
            "grid_auto_rows": null,
            "grid_gap": null,
            "max_width": null,
            "order": null,
            "_view_module_version": "1.2.0",
            "grid_template_areas": null,
            "object_position": null,
            "object_fit": null,
            "grid_auto_columns": null,
            "margin": null,
            "display": null,
            "left": null
          }
        },
        "fb9f102f98544383baf1d307b9051516": {
          "model_module": "@jupyter-widgets/controls",
          "model_name": "DescriptionStyleModel",
          "state": {
            "_view_name": "StyleView",
            "_model_name": "DescriptionStyleModel",
            "description_width": "",
            "_view_module": "@jupyter-widgets/base",
            "_model_module_version": "1.5.0",
            "_view_count": null,
            "_view_module_version": "1.2.0",
            "_model_module": "@jupyter-widgets/controls"
          }
        },
        "97d7ca84482d4b9ab1536335801a5c30": {
          "model_module": "@jupyter-widgets/base",
          "model_name": "LayoutModel",
          "state": {
            "_view_name": "LayoutView",
            "grid_template_rows": null,
            "right": null,
            "justify_content": null,
            "_view_module": "@jupyter-widgets/base",
            "overflow": null,
            "_model_module_version": "1.2.0",
            "_view_count": null,
            "flex_flow": null,
            "width": null,
            "min_width": null,
            "border": null,
            "align_items": null,
            "bottom": null,
            "_model_module": "@jupyter-widgets/base",
            "top": null,
            "grid_column": null,
            "overflow_y": null,
            "overflow_x": null,
            "grid_auto_flow": null,
            "grid_area": null,
            "grid_template_columns": null,
            "flex": null,
            "_model_name": "LayoutModel",
            "justify_items": null,
            "grid_row": null,
            "max_height": null,
            "align_content": null,
            "visibility": null,
            "align_self": null,
            "height": null,
            "min_height": null,
            "padding": null,
            "grid_auto_rows": null,
            "grid_gap": null,
            "max_width": null,
            "order": null,
            "_view_module_version": "1.2.0",
            "grid_template_areas": null,
            "object_position": null,
            "object_fit": null,
            "grid_auto_columns": null,
            "margin": null,
            "display": null,
            "left": null
          }
        },
        "be56e0e295994f038cbfa3a2af497290": {
          "model_module": "@jupyter-widgets/controls",
          "model_name": "HBoxModel",
          "state": {
            "_view_name": "HBoxView",
            "_dom_classes": [],
            "_model_name": "HBoxModel",
            "_view_module": "@jupyter-widgets/controls",
            "_model_module_version": "1.5.0",
            "_view_count": null,
            "_view_module_version": "1.5.0",
            "box_style": "",
            "layout": "IPY_MODEL_7da69244a9b74021aea939faf595e701",
            "_model_module": "@jupyter-widgets/controls",
            "children": [
              "IPY_MODEL_4e16da23193a4427b1a2985bd74cc8f5",
              "IPY_MODEL_991adbd2d1d54d08ac49f07b85da96f5"
            ]
          }
        },
        "7da69244a9b74021aea939faf595e701": {
          "model_module": "@jupyter-widgets/base",
          "model_name": "LayoutModel",
          "state": {
            "_view_name": "LayoutView",
            "grid_template_rows": null,
            "right": null,
            "justify_content": null,
            "_view_module": "@jupyter-widgets/base",
            "overflow": null,
            "_model_module_version": "1.2.0",
            "_view_count": null,
            "flex_flow": null,
            "width": null,
            "min_width": null,
            "border": null,
            "align_items": null,
            "bottom": null,
            "_model_module": "@jupyter-widgets/base",
            "top": null,
            "grid_column": null,
            "overflow_y": null,
            "overflow_x": null,
            "grid_auto_flow": null,
            "grid_area": null,
            "grid_template_columns": null,
            "flex": null,
            "_model_name": "LayoutModel",
            "justify_items": null,
            "grid_row": null,
            "max_height": null,
            "align_content": null,
            "visibility": null,
            "align_self": null,
            "height": null,
            "min_height": null,
            "padding": null,
            "grid_auto_rows": null,
            "grid_gap": null,
            "max_width": null,
            "order": null,
            "_view_module_version": "1.2.0",
            "grid_template_areas": null,
            "object_position": null,
            "object_fit": null,
            "grid_auto_columns": null,
            "margin": null,
            "display": null,
            "left": null
          }
        },
        "4e16da23193a4427b1a2985bd74cc8f5": {
          "model_module": "@jupyter-widgets/controls",
          "model_name": "FloatProgressModel",
          "state": {
            "_view_name": "ProgressView",
            "style": "IPY_MODEL_c4d505fce1e34297b4825ad66ee93e83",
            "_dom_classes": [],
            "description": "",
            "_model_name": "FloatProgressModel",
            "bar_style": "success",
            "max": 1648877,
            "_view_module": "@jupyter-widgets/controls",
            "_model_module_version": "1.5.0",
            "value": 1648877,
            "_view_count": null,
            "_view_module_version": "1.5.0",
            "orientation": "horizontal",
            "min": 0,
            "description_tooltip": null,
            "_model_module": "@jupyter-widgets/controls",
            "layout": "IPY_MODEL_c75f288416804378ab3e170723879f12"
          }
        },
        "991adbd2d1d54d08ac49f07b85da96f5": {
          "model_module": "@jupyter-widgets/controls",
          "model_name": "HTMLModel",
          "state": {
            "_view_name": "HTMLView",
            "style": "IPY_MODEL_aad3014284ae4529baae49121d83a7a2",
            "_dom_classes": [],
            "description": "",
            "_model_name": "HTMLModel",
            "placeholder": "​",
            "_view_module": "@jupyter-widgets/controls",
            "_model_module_version": "1.5.0",
            "value": " 1649664/? [00:09&lt;00:00, 178312.48it/s]",
            "_view_count": null,
            "_view_module_version": "1.5.0",
            "description_tooltip": null,
            "_model_module": "@jupyter-widgets/controls",
            "layout": "IPY_MODEL_6ebcbcd58a954f749a81007b69a1ef17"
          }
        },
        "c4d505fce1e34297b4825ad66ee93e83": {
          "model_module": "@jupyter-widgets/controls",
          "model_name": "ProgressStyleModel",
          "state": {
            "_view_name": "StyleView",
            "_model_name": "ProgressStyleModel",
            "description_width": "initial",
            "_view_module": "@jupyter-widgets/base",
            "_model_module_version": "1.5.0",
            "_view_count": null,
            "_view_module_version": "1.2.0",
            "bar_color": null,
            "_model_module": "@jupyter-widgets/controls"
          }
        },
        "c75f288416804378ab3e170723879f12": {
          "model_module": "@jupyter-widgets/base",
          "model_name": "LayoutModel",
          "state": {
            "_view_name": "LayoutView",
            "grid_template_rows": null,
            "right": null,
            "justify_content": null,
            "_view_module": "@jupyter-widgets/base",
            "overflow": null,
            "_model_module_version": "1.2.0",
            "_view_count": null,
            "flex_flow": null,
            "width": null,
            "min_width": null,
            "border": null,
            "align_items": null,
            "bottom": null,
            "_model_module": "@jupyter-widgets/base",
            "top": null,
            "grid_column": null,
            "overflow_y": null,
            "overflow_x": null,
            "grid_auto_flow": null,
            "grid_area": null,
            "grid_template_columns": null,
            "flex": null,
            "_model_name": "LayoutModel",
            "justify_items": null,
            "grid_row": null,
            "max_height": null,
            "align_content": null,
            "visibility": null,
            "align_self": null,
            "height": null,
            "min_height": null,
            "padding": null,
            "grid_auto_rows": null,
            "grid_gap": null,
            "max_width": null,
            "order": null,
            "_view_module_version": "1.2.0",
            "grid_template_areas": null,
            "object_position": null,
            "object_fit": null,
            "grid_auto_columns": null,
            "margin": null,
            "display": null,
            "left": null
          }
        },
        "aad3014284ae4529baae49121d83a7a2": {
          "model_module": "@jupyter-widgets/controls",
          "model_name": "DescriptionStyleModel",
          "state": {
            "_view_name": "StyleView",
            "_model_name": "DescriptionStyleModel",
            "description_width": "",
            "_view_module": "@jupyter-widgets/base",
            "_model_module_version": "1.5.0",
            "_view_count": null,
            "_view_module_version": "1.2.0",
            "_model_module": "@jupyter-widgets/controls"
          }
        },
        "6ebcbcd58a954f749a81007b69a1ef17": {
          "model_module": "@jupyter-widgets/base",
          "model_name": "LayoutModel",
          "state": {
            "_view_name": "LayoutView",
            "grid_template_rows": null,
            "right": null,
            "justify_content": null,
            "_view_module": "@jupyter-widgets/base",
            "overflow": null,
            "_model_module_version": "1.2.0",
            "_view_count": null,
            "flex_flow": null,
            "width": null,
            "min_width": null,
            "border": null,
            "align_items": null,
            "bottom": null,
            "_model_module": "@jupyter-widgets/base",
            "top": null,
            "grid_column": null,
            "overflow_y": null,
            "overflow_x": null,
            "grid_auto_flow": null,
            "grid_area": null,
            "grid_template_columns": null,
            "flex": null,
            "_model_name": "LayoutModel",
            "justify_items": null,
            "grid_row": null,
            "max_height": null,
            "align_content": null,
            "visibility": null,
            "align_self": null,
            "height": null,
            "min_height": null,
            "padding": null,
            "grid_auto_rows": null,
            "grid_gap": null,
            "max_width": null,
            "order": null,
            "_view_module_version": "1.2.0",
            "grid_template_areas": null,
            "object_position": null,
            "object_fit": null,
            "grid_auto_columns": null,
            "margin": null,
            "display": null,
            "left": null
          }
        },
        "6dd5fc9833e54fcfb6ac63f8f01084a9": {
          "model_module": "@jupyter-widgets/controls",
          "model_name": "HBoxModel",
          "state": {
            "_view_name": "HBoxView",
            "_dom_classes": [],
            "_model_name": "HBoxModel",
            "_view_module": "@jupyter-widgets/controls",
            "_model_module_version": "1.5.0",
            "_view_count": null,
            "_view_module_version": "1.5.0",
            "box_style": "",
            "layout": "IPY_MODEL_f9cebd27b67d4213b1115c7df8ca81ed",
            "_model_module": "@jupyter-widgets/controls",
            "children": [
              "IPY_MODEL_7bd4786fbeaf411cab527e9bac30bd02",
              "IPY_MODEL_f3ec6c6dcac24938bc2ff33d9917e5db"
            ]
          }
        },
        "f9cebd27b67d4213b1115c7df8ca81ed": {
          "model_module": "@jupyter-widgets/base",
          "model_name": "LayoutModel",
          "state": {
            "_view_name": "LayoutView",
            "grid_template_rows": null,
            "right": null,
            "justify_content": null,
            "_view_module": "@jupyter-widgets/base",
            "overflow": null,
            "_model_module_version": "1.2.0",
            "_view_count": null,
            "flex_flow": null,
            "width": null,
            "min_width": null,
            "border": null,
            "align_items": null,
            "bottom": null,
            "_model_module": "@jupyter-widgets/base",
            "top": null,
            "grid_column": null,
            "overflow_y": null,
            "overflow_x": null,
            "grid_auto_flow": null,
            "grid_area": null,
            "grid_template_columns": null,
            "flex": null,
            "_model_name": "LayoutModel",
            "justify_items": null,
            "grid_row": null,
            "max_height": null,
            "align_content": null,
            "visibility": null,
            "align_self": null,
            "height": null,
            "min_height": null,
            "padding": null,
            "grid_auto_rows": null,
            "grid_gap": null,
            "max_width": null,
            "order": null,
            "_view_module_version": "1.2.0",
            "grid_template_areas": null,
            "object_position": null,
            "object_fit": null,
            "grid_auto_columns": null,
            "margin": null,
            "display": null,
            "left": null
          }
        },
        "7bd4786fbeaf411cab527e9bac30bd02": {
          "model_module": "@jupyter-widgets/controls",
          "model_name": "FloatProgressModel",
          "state": {
            "_view_name": "ProgressView",
            "style": "IPY_MODEL_1815b813ca8a4e2eaa464d742f292209",
            "_dom_classes": [],
            "description": "",
            "_model_name": "FloatProgressModel",
            "bar_style": "success",
            "max": 4542,
            "_view_module": "@jupyter-widgets/controls",
            "_model_module_version": "1.5.0",
            "value": 4542,
            "_view_count": null,
            "_view_module_version": "1.5.0",
            "orientation": "horizontal",
            "min": 0,
            "description_tooltip": null,
            "_model_module": "@jupyter-widgets/controls",
            "layout": "IPY_MODEL_a3a475bbfef248ac9617b74bd2678c27"
          }
        },
        "f3ec6c6dcac24938bc2ff33d9917e5db": {
          "model_module": "@jupyter-widgets/controls",
          "model_name": "HTMLModel",
          "state": {
            "_view_name": "HTMLView",
            "style": "IPY_MODEL_d7557e245bc7486681e4a0f7fba58a15",
            "_dom_classes": [],
            "description": "",
            "_model_name": "HTMLModel",
            "placeholder": "​",
            "_view_module": "@jupyter-widgets/controls",
            "_model_module_version": "1.5.0",
            "value": " 5120/? [00:06&lt;00:00, 799.82it/s]",
            "_view_count": null,
            "_view_module_version": "1.5.0",
            "description_tooltip": null,
            "_model_module": "@jupyter-widgets/controls",
            "layout": "IPY_MODEL_d84e74d2afb748199569dca337685ebb"
          }
        },
        "1815b813ca8a4e2eaa464d742f292209": {
          "model_module": "@jupyter-widgets/controls",
          "model_name": "ProgressStyleModel",
          "state": {
            "_view_name": "StyleView",
            "_model_name": "ProgressStyleModel",
            "description_width": "initial",
            "_view_module": "@jupyter-widgets/base",
            "_model_module_version": "1.5.0",
            "_view_count": null,
            "_view_module_version": "1.2.0",
            "bar_color": null,
            "_model_module": "@jupyter-widgets/controls"
          }
        },
        "a3a475bbfef248ac9617b74bd2678c27": {
          "model_module": "@jupyter-widgets/base",
          "model_name": "LayoutModel",
          "state": {
            "_view_name": "LayoutView",
            "grid_template_rows": null,
            "right": null,
            "justify_content": null,
            "_view_module": "@jupyter-widgets/base",
            "overflow": null,
            "_model_module_version": "1.2.0",
            "_view_count": null,
            "flex_flow": null,
            "width": null,
            "min_width": null,
            "border": null,
            "align_items": null,
            "bottom": null,
            "_model_module": "@jupyter-widgets/base",
            "top": null,
            "grid_column": null,
            "overflow_y": null,
            "overflow_x": null,
            "grid_auto_flow": null,
            "grid_area": null,
            "grid_template_columns": null,
            "flex": null,
            "_model_name": "LayoutModel",
            "justify_items": null,
            "grid_row": null,
            "max_height": null,
            "align_content": null,
            "visibility": null,
            "align_self": null,
            "height": null,
            "min_height": null,
            "padding": null,
            "grid_auto_rows": null,
            "grid_gap": null,
            "max_width": null,
            "order": null,
            "_view_module_version": "1.2.0",
            "grid_template_areas": null,
            "object_position": null,
            "object_fit": null,
            "grid_auto_columns": null,
            "margin": null,
            "display": null,
            "left": null
          }
        },
        "d7557e245bc7486681e4a0f7fba58a15": {
          "model_module": "@jupyter-widgets/controls",
          "model_name": "DescriptionStyleModel",
          "state": {
            "_view_name": "StyleView",
            "_model_name": "DescriptionStyleModel",
            "description_width": "",
            "_view_module": "@jupyter-widgets/base",
            "_model_module_version": "1.5.0",
            "_view_count": null,
            "_view_module_version": "1.2.0",
            "_model_module": "@jupyter-widgets/controls"
          }
        },
        "d84e74d2afb748199569dca337685ebb": {
          "model_module": "@jupyter-widgets/base",
          "model_name": "LayoutModel",
          "state": {
            "_view_name": "LayoutView",
            "grid_template_rows": null,
            "right": null,
            "justify_content": null,
            "_view_module": "@jupyter-widgets/base",
            "overflow": null,
            "_model_module_version": "1.2.0",
            "_view_count": null,
            "flex_flow": null,
            "width": null,
            "min_width": null,
            "border": null,
            "align_items": null,
            "bottom": null,
            "_model_module": "@jupyter-widgets/base",
            "top": null,
            "grid_column": null,
            "overflow_y": null,
            "overflow_x": null,
            "grid_auto_flow": null,
            "grid_area": null,
            "grid_template_columns": null,
            "flex": null,
            "_model_name": "LayoutModel",
            "justify_items": null,
            "grid_row": null,
            "max_height": null,
            "align_content": null,
            "visibility": null,
            "align_self": null,
            "height": null,
            "min_height": null,
            "padding": null,
            "grid_auto_rows": null,
            "grid_gap": null,
            "max_width": null,
            "order": null,
            "_view_module_version": "1.2.0",
            "grid_template_areas": null,
            "object_position": null,
            "object_fit": null,
            "grid_auto_columns": null,
            "margin": null,
            "display": null,
            "left": null
          }
        }
      }
    }
  },
  "cells": [
    {
      "cell_type": "markdown",
      "metadata": {
        "id": "view-in-github",
        "colab_type": "text"
      },
      "source": [
        "<a href=\"https://colab.research.google.com/github/vvrebellion/20191204_VITTORIA_ML/blob/main/Copy_of_02_fully_connected_annotaded.ipynb\" target=\"_parent\"><img src=\"https://colab.research.google.com/assets/colab-badge.svg\" alt=\"Open In Colab\"/></a>"
      ]
    },
    {
      "cell_type": "code",
      "metadata": {
        "id": "b6hNunCF5-Xt"
      },
      "source": [
        "%load_ext autoreload\n",
        "%autoreload 2\n",
        "\n",
        "%matplotlib inline"
      ],
      "execution_count": 1,
      "outputs": []
    },
    {
      "cell_type": "code",
      "metadata": {
        "id": "vgTY2qeJ93x2"
      },
      "source": [
        "import numpy as np"
      ],
      "execution_count": 2,
      "outputs": []
    },
    {
      "cell_type": "code",
      "metadata": {
        "colab": {
          "base_uri": "https://localhost:8080/"
        },
        "id": "CMSTsOm36Ake",
        "outputId": "8c5ee1cb-8447-4fae-8fd3-faf6860d16df"
      },
      "source": [
        "  from google.colab import drive\n",
        "  drive.mount('/content/gdrive')"
      ],
      "execution_count": 3,
      "outputs": [
        {
          "output_type": "stream",
          "text": [
            "Mounted at /content/gdrive\n"
          ],
          "name": "stdout"
        }
      ]
    },
    {
      "cell_type": "markdown",
      "metadata": {
        "id": "Vzh-eI8g5-Xy"
      },
      "source": [
        "## The forward and backward passes"
      ]
    },
    {
      "cell_type": "code",
      "metadata": {
        "id": "z8zzwU5P6QPd"
      },
      "source": [
        "import sys\n",
        "sys.path.append('/content/gdrive/MyDrive/fastai-v3/course-v3/nbs/dl2')\n"
      ],
      "execution_count": 5,
      "outputs": []
    },
    {
      "cell_type": "code",
      "metadata": {
        "colab": {
          "base_uri": "https://localhost:8080/"
        },
        "id": "EOHZ_3Ls7MSg",
        "outputId": "9761f9e9-1cdd-4002-ad2e-c88395bb105a"
      },
      "source": [
        "sys.path"
      ],
      "execution_count": 7,
      "outputs": [
        {
          "output_type": "execute_result",
          "data": {
            "text/plain": [
              "['',\n",
              " '/content',\n",
              " '/env/python',\n",
              " '/usr/lib/python37.zip',\n",
              " '/usr/lib/python3.7',\n",
              " '/usr/lib/python3.7/lib-dynload',\n",
              " '/usr/local/lib/python3.7/dist-packages',\n",
              " '/usr/lib/python3/dist-packages',\n",
              " '/usr/local/lib/python3.7/dist-packages/IPython/extensions',\n",
              " '/root/.ipython',\n",
              " '/content/gdrive/MyDrive/ColabNotebooks/fastaiPart2/course-v3/nbs/dl2',\n",
              " '/content/gdrive/MyDrive/fastai-v3/course-v3/nbs/dl2']"
            ]
          },
          "metadata": {
            "tags": []
          },
          "execution_count": 7
        }
      ]
    },
    {
      "cell_type": "markdown",
      "metadata": {
        "id": "Mm9wPIu45-Xz"
      },
      "source": [
        "[Jump_to lesson 8 video](https://course.fast.ai/videos/?lesson=8&t=4960)"
      ]
    },
    {
      "cell_type": "code",
      "metadata": {
        "id": "z7T-i77P5-Xz"
      },
      "source": [
        "#export\n",
        "from exp.nb_01 import *\n",
        "\n",
        "\n",
        "\n",
        "def get_data():\n",
        "    import os\n",
        "    import torchvision.datasets as datasets\n",
        "    \n",
        "    datasets.MNIST.resources = [\n",
        "        ('https://ossci-datasets.s3.amazonaws.com/mnist/train-images-idx3-ubyte.gz', 'f68b3c2dcbeaaa9fbdd348bbdeb94873'),\n",
        "        ('https://ossci-datasets.s3.amazonaws.com/mnist/train-labels-idx1-ubyte.gz', 'd53e105ee54ea40749a09fcbcd1e9432'),\n",
        "        ('https://ossci-datasets.s3.amazonaws.com/mnist/t10k-images-idx3-ubyte.gz', '9fb629c4189551a2d022fa330f9573f3'),\n",
        "        ('https://ossci-datasets.s3.amazonaws.com/mnist/t10k-labels-idx1-ubyte.gz', 'ec29112dd5afa0611ce80d1b7f02629c')\n",
        "    ]\n",
        "    \n",
        "    root = '../data'\n",
        "    if not os.path.exists(root):\n",
        "        os.mkdir(root)\n",
        "    train_set = datasets.MNIST(root=root, train=True, download=True)\n",
        "    test_set = datasets.MNIST(root=root, train=False, download=True)\n",
        "    X_train, X_valid = train_set.data.split([50000, 10000])\n",
        "    Y_train, Y_valid = train_set.targets.split([50000, 10000])\n",
        "    \n",
        "    return (X_train.view(50000, -1) / 256.0), Y_train.float(), (X_valid.view(10000, -1))/ 256.0, Y_valid.float()\n",
        "\n",
        "#x_train,y_train,x_valid,y_valid = get_data()\n",
        "\n",
        "\n",
        "#def get_data():\n",
        "#    path = datasets.download_data(MNIST_URL, ext='.gz')\n",
        "#    with gzip.open(path, 'rb') as f:\n",
        "#        ((x_train, y_train), (x_valid, y_valid), _) = pickle.load(f, encoding='latin-1')\n",
        "#    return map(tensor, (x_train,y_train,x_valid,y_valid))\n",
        "\n",
        "def normalize(x, m, s): return (x-m)/s"
      ],
      "execution_count": 8,
      "outputs": []
    },
    {
      "cell_type": "markdown",
      "metadata": {
        "id": "SYm5W0QcGiQZ"
      },
      "source": [
        "In the following, I will add mathematical description for the python statements that define the model and the gradients of the loss function with respect to the parameters (weights) of the neural net studied in this notebook. \n",
        "\n",
        "Please review what you studied in linear algebra or college math. This mathematical description of the neural net is an application of your basic knowledge of linear algebra.\n",
        "Without the basic knowledge of linear algebra, that is, the\n",
        "language of vectors, matrices, transformations, it is not possible to follow this course successfully. You need to spend time to review or study it. I provided good references in the cybercampus site. \n",
        "\n",
        "Note that sometimes, I will use variables different from the original notebook, for clarification and for the match with the mathematical description of the network. \n",
        "\n",
        "It is really important to be able to understand the mathematical description of the network for \"machine learning from foundations\". Much of this mathematical description will be the subject matter of the mid-term exam."
      ]
    },
    {
      "cell_type": "code",
      "metadata": {
        "id": "NfmPbWZZ5-X0",
        "colab": {
          "base_uri": "https://localhost:8080/",
          "height": 437,
          "referenced_widgets": [
            "bc74105955cf490dadf93bd02b0f43c1",
            "67ca474b1d244e8d823d12635cc3e380",
            "8a6ba83ccbb44069a9b59a23f9ad4785",
            "2db975735f1e4b1bb0674337233a5b0f",
            "c56de81a48da443bb5449e394b8bda4d",
            "c71298c08a174cdd9c16022e9673a19e",
            "ca3bfc61aa35466dbff896c8931e2e30",
            "4b9a43c2e4bc4115bbf2c0caf885cfe3",
            "94d4218746ce4573bffbff71913aa6ee",
            "2a8a1e1684d4432f83089704ed5f48c1",
            "5ac649a81c8e43b3bc3ce7cef5598e72",
            "bb38904aff484d94a0e1ebb3adba3c54",
            "5c5f80b10ecd4068ba82574c9995ad7b",
            "966538575b1c42258baeb0305e20d3d4",
            "fb9f102f98544383baf1d307b9051516",
            "97d7ca84482d4b9ab1536335801a5c30",
            "be56e0e295994f038cbfa3a2af497290",
            "7da69244a9b74021aea939faf595e701",
            "4e16da23193a4427b1a2985bd74cc8f5",
            "991adbd2d1d54d08ac49f07b85da96f5",
            "c4d505fce1e34297b4825ad66ee93e83",
            "c75f288416804378ab3e170723879f12",
            "aad3014284ae4529baae49121d83a7a2",
            "6ebcbcd58a954f749a81007b69a1ef17",
            "6dd5fc9833e54fcfb6ac63f8f01084a9",
            "f9cebd27b67d4213b1115c7df8ca81ed",
            "7bd4786fbeaf411cab527e9bac30bd02",
            "f3ec6c6dcac24938bc2ff33d9917e5db",
            "1815b813ca8a4e2eaa464d742f292209",
            "a3a475bbfef248ac9617b74bd2678c27",
            "d7557e245bc7486681e4a0f7fba58a15",
            "d84e74d2afb748199569dca337685ebb"
          ]
        },
        "outputId": "36451055-d154-4d00-bf53-e1230f6823c1"
      },
      "source": [
        "## load the data\n",
        "X_train,Y_train,X_valid,Y_valid = get_data()"
      ],
      "execution_count": 10,
      "outputs": [
        {
          "output_type": "stream",
          "text": [
            "Downloading https://ossci-datasets.s3.amazonaws.com/mnist/train-images-idx3-ubyte.gz to ../data/MNIST/raw/train-images-idx3-ubyte.gz\n"
          ],
          "name": "stdout"
        },
        {
          "output_type": "display_data",
          "data": {
            "application/vnd.jupyter.widget-view+json": {
              "model_id": "bc74105955cf490dadf93bd02b0f43c1",
              "version_minor": 0,
              "version_major": 2
            },
            "text/plain": [
              "HBox(children=(FloatProgress(value=0.0, max=9912422.0), HTML(value='')))"
            ]
          },
          "metadata": {
            "tags": []
          }
        },
        {
          "output_type": "stream",
          "text": [
            "\n",
            "Extracting ../data/MNIST/raw/train-images-idx3-ubyte.gz to ../data/MNIST/raw\n",
            "Downloading https://ossci-datasets.s3.amazonaws.com/mnist/train-labels-idx1-ubyte.gz to ../data/MNIST/raw/train-labels-idx1-ubyte.gz\n"
          ],
          "name": "stdout"
        },
        {
          "output_type": "display_data",
          "data": {
            "application/vnd.jupyter.widget-view+json": {
              "model_id": "94d4218746ce4573bffbff71913aa6ee",
              "version_minor": 0,
              "version_major": 2
            },
            "text/plain": [
              "HBox(children=(FloatProgress(value=0.0, max=28881.0), HTML(value='')))"
            ]
          },
          "metadata": {
            "tags": []
          }
        },
        {
          "output_type": "stream",
          "text": [
            "\n",
            "Extracting ../data/MNIST/raw/train-labels-idx1-ubyte.gz to ../data/MNIST/raw\n",
            "Downloading https://ossci-datasets.s3.amazonaws.com/mnist/t10k-images-idx3-ubyte.gz to ../data/MNIST/raw/t10k-images-idx3-ubyte.gz\n"
          ],
          "name": "stdout"
        },
        {
          "output_type": "display_data",
          "data": {
            "application/vnd.jupyter.widget-view+json": {
              "model_id": "be56e0e295994f038cbfa3a2af497290",
              "version_minor": 0,
              "version_major": 2
            },
            "text/plain": [
              "HBox(children=(FloatProgress(value=0.0, max=1648877.0), HTML(value='')))"
            ]
          },
          "metadata": {
            "tags": []
          }
        },
        {
          "output_type": "stream",
          "text": [
            "\n",
            "Extracting ../data/MNIST/raw/t10k-images-idx3-ubyte.gz to ../data/MNIST/raw\n",
            "Downloading https://ossci-datasets.s3.amazonaws.com/mnist/t10k-labels-idx1-ubyte.gz to ../data/MNIST/raw/t10k-labels-idx1-ubyte.gz\n"
          ],
          "name": "stdout"
        },
        {
          "output_type": "display_data",
          "data": {
            "application/vnd.jupyter.widget-view+json": {
              "model_id": "6dd5fc9833e54fcfb6ac63f8f01084a9",
              "version_minor": 0,
              "version_major": 2
            },
            "text/plain": [
              "HBox(children=(FloatProgress(value=0.0, max=4542.0), HTML(value='')))"
            ]
          },
          "metadata": {
            "tags": []
          }
        },
        {
          "output_type": "stream",
          "text": [
            "\n",
            "Extracting ../data/MNIST/raw/t10k-labels-idx1-ubyte.gz to ../data/MNIST/raw\n",
            "Processing...\n",
            "Done!\n"
          ],
          "name": "stdout"
        },
        {
          "output_type": "stream",
          "text": [
            "/usr/local/lib/python3.7/dist-packages/torchvision/datasets/mnist.py:479: UserWarning: The given NumPy array is not writeable, and PyTorch does not support non-writeable tensors. This means you can write to the underlying (supposedly non-writeable) NumPy array using the tensor. You may want to copy the array to protect its data or make it writeable before converting it to a tensor. This type of warning will be suppressed for the rest of this program. (Triggered internally at  /pytorch/torch/csrc/utils/tensor_numpy.cpp:143.)\n",
            "  return torch.from_numpy(parsed.astype(m[2], copy=False)).view(*s)\n"
          ],
          "name": "stderr"
        }
      ]
    },
    {
      "cell_type": "code",
      "metadata": {
        "colab": {
          "base_uri": "https://localhost:8080/"
        },
        "id": "ik0tdaD_8-Ij",
        "outputId": "f62fb41b-5840-4475-af8d-16835bef01c3"
      },
      "source": [
        "len(X_train)"
      ],
      "execution_count": 11,
      "outputs": [
        {
          "output_type": "execute_result",
          "data": {
            "text/plain": [
              "50000"
            ]
          },
          "metadata": {
            "tags": []
          },
          "execution_count": 11
        }
      ]
    },
    {
      "cell_type": "code",
      "metadata": {
        "id": "8uUZyVF_wGvn",
        "colab": {
          "base_uri": "https://localhost:8080/"
        },
        "outputId": "d10b1275-5fb0-4528-90d1-b5cce0ca520b"
      },
      "source": [
        "Y_valid.shape"
      ],
      "execution_count": 12,
      "outputs": [
        {
          "output_type": "execute_result",
          "data": {
            "text/plain": [
              "torch.Size([10000])"
            ]
          },
          "metadata": {
            "tags": []
          },
          "execution_count": 12
        }
      ]
    },
    {
      "cell_type": "markdown",
      "metadata": {
        "id": "3vNHIGAOH0VS"
      },
      "source": [
        "X_train is a set of input vectors to the neural net, represented as a matrix: \n",
        "\n",
        "X_train =  \\\\\n",
        "$X = \\begin{bmatrix}\n",
        "  x^{(1)}  \\\\ \\vdots \\\\ x^{(m)} \n",
        "   \\end{bmatrix}\n",
        " =  \n",
        "\\begin{bmatrix} \n",
        " x_{1}^{(1)} & \\cdots  & x_{n^{[0]}}^{(1)} \\\\ \n",
        " \\vdots          & \\cdots & \\vdots \\\\ \n",
        " x_{1}^{(m)} & \\cdots &  x_{n^{[0]}}^{(m)}\n",
        "  \\end{bmatrix}\n",
        "  $\n",
        "\n",
        " Here, the index in the parenthesis superfix 1 in $x^{(1)}$ means that input vector $x^{(1)}$ is from  from data sample 1.  The suffix 1 in $x_{1}^{(1)}$ means that $x_{1}^{(1)}$  is the first element of vector $x^{(1)}$. $m$ is the number of samples in the dataset:  $m=50,000$. $n^{[0]}$ is the size of the input vector on the 0th layer:  $n^{[0]}=784$. In the notebook, $n^{[0]}$ is written as $n0$.\n",
        "\n",
        "  In summary, note that the input to the neural net for training is represented as a matrix x_train. In this representation, the rows of the matrix x_train refer to samples. Some software and papers represent X so that the columns of x_train refer to samples as follows:\n",
        "\n",
        "  X_train \\\\\n",
        "$X = \\begin{bmatrix}\n",
        "  x^{(1)}   \\cdots  x^{(m)} \n",
        "   \\end{bmatrix}\n",
        " = \n",
        "\\begin{bmatrix} \n",
        " x_{1}^{(1)} & \\cdots  & x_{1}^{(m)} \\\\ \n",
        " \\vdots          & \\cdots & \\vdots \\\\ \n",
        " x_{n^{[0]}}^{(1)} & \\cdots &  x_{n^{[0]}}^{(m)}\n",
        "  \\end{bmatrix}\n",
        "  $"
      ]
    },
    {
      "cell_type": "code",
      "metadata": {
        "colab": {
          "base_uri": "https://localhost:8080/"
        },
        "id": "1XGPCf8T9UjJ",
        "outputId": "b429ee78-f612-43a1-a26d-9ed61e77a9b8"
      },
      "source": [
        "X_train[0].shape"
      ],
      "execution_count": 13,
      "outputs": [
        {
          "output_type": "execute_result",
          "data": {
            "text/plain": [
              "torch.Size([784])"
            ]
          },
          "metadata": {
            "tags": []
          },
          "execution_count": 13
        }
      ]
    },
    {
      "cell_type": "markdown",
      "metadata": {
        "id": "VbILlqfJG7Er"
      },
      "source": [
        " The number of nodes in  the input layer =  the size of the 0th layer =  the size of the input vector, x,  = 784 = 28 * 28 = x_train[0].shape.  In the mathematical description of the network, I will use $n^{[0]}$ to refer to the size of the 0th layer: $n^{[0]}$ = 784."
      ]
    },
    {
      "cell_type": "code",
      "metadata": {
        "colab": {
          "base_uri": "https://localhost:8080/"
        },
        "id": "xaZzISo_5-X1",
        "outputId": "320a1bd8-3a5b-4f53-e3dd-36674bb100a9"
      },
      "source": [
        "# calculate the mean and standard deviation\n",
        "\n",
        "train_mean,train_std = X_train.mean(),X_train.std()\n",
        "print(\"original mean and std:\", train_mean,train_std)"
      ],
      "execution_count": 14,
      "outputs": [
        {
          "output_type": "stream",
          "text": [
            "original mean and std: tensor(0.1304) tensor(0.3073)\n"
          ],
          "name": "stdout"
        }
      ]
    },
    {
      "cell_type": "markdown",
      "metadata": {
        "id": "I4Gu7BF3Chu8"
      },
      "source": [
        "In this notebook, we construct a fully connected (FC) neural net with two layers, one hidden layer and the output layer. The input layer, considered the 0th layer, is not counted in the number of layers. \n",
        "\n",
        "The number of nodes in the hidden layer = the size of the hidden layer = 50. The number of nodes in  the input layer =  the size of the 0th layer =  the size of the input vector, x,  = 784 = 28 * 28. The number of nodes in the output layer = the size of the output layer = 1. In the mathematical description of the network, I will use $n^{[0]}$, $n^{[1]}$, $n^{[2]}$ to refer to the size of the 0th layer, the 1st layer, and the second layer, respectively. Hence we have:\n",
        "\n",
        "$n^{[0]}$ = 784, = $n^{[1]}$ = 50, $n^{[2]}$ =1.\n",
        "\n",
        "In the notebook, $n^{[0]}$, $n^{[1]}$, $n^{[2]}$ will be written as n0, n1, n2, respectively. "
      ]
    },
    {
      "cell_type": "code",
      "metadata": {
        "id": "S3nmN8UL5-X3"
      },
      "source": [
        "# normalize the values\n",
        "X_train = normalize(X_train, train_mean, train_std)\n",
        "# NB: Use training, not validation mean for validation set\n",
        "X_valid = normalize(X_valid, train_mean, train_std)"
      ],
      "execution_count": 16,
      "outputs": []
    },
    {
      "cell_type": "markdown",
      "metadata": {
        "id": "E15O7K_26Uno"
      },
      "source": [
        "**Normalization:**\n",
        "Normalizing dataset just means that mean of dataset will be 0 and standard deviation will be 1. \n",
        "\n",
        "So we need to calculate mean and deviation.\n",
        "\n",
        "Why? To calculate the the relative difference between the input data, in order to classify it. \n",
        "\n",
        "Before normalization, we can not talk about devation.\n",
        "\n",
        "Input data is digits, output categories.\n",
        "\n",
        "We need to compare the data.\n",
        "\n",
        "Absolute values of rgb data have nothing to do with classifying the input into categories.\n",
        "\n",
        "All that matters is to train the neural net to perceive the patterns and the distinguishing them. **The relative difference is important. **\n",
        "\n",
        "Normalized input data conveys the difference between the input data, which could be implicit in raw data.\n",
        "\n",
        "If you compute the mean, then u can locate the data regarding the mean and calculate deviation.\n",
        "\n",
        "What is important is the distribution of the input data set (correletion of data).\n",
        "\n",
        "To get this, we find the mean and how each data is deviated from the men. This is a typical way to find out the way how data is distributed. If we normalize the data, it contains the information about the "
      ]
    },
    {
      "cell_type": "code",
      "metadata": {
        "colab": {
          "base_uri": "https://localhost:8080/"
        },
        "id": "nCCqEllW5-X3",
        "outputId": "42a6c263-062e-4a41-de93-f970a09cfa49"
      },
      "source": [
        "train_mean,train_std = X_train.mean(),X_train.std()\n",
        "print(\"normalized mean and std:\", train_mean, train_std)"
      ],
      "execution_count": 17,
      "outputs": [
        {
          "output_type": "stream",
          "text": [
            "normalized mean and std: tensor(3.8966e-08) tensor(1.)\n"
          ],
          "name": "stdout"
        }
      ]
    },
    {
      "cell_type": "code",
      "metadata": {
        "id": "6xBjabxA5-X4"
      },
      "source": [
        "# check to ensure that mean is near zero\n",
        "def test_near_zero(a,tol=1e-3): assert a.abs()<tol, f\"Near zero: {a}\""
      ],
      "execution_count": 19,
      "outputs": []
    },
    {
      "cell_type": "code",
      "metadata": {
        "id": "vS8_j4lZ5-X4"
      },
      "source": [
        "# check to ensure that std is near zero\n",
        "test_near_zero(X_train.mean())\n",
        "test_near_zero(1-X_train.std())"
      ],
      "execution_count": 20,
      "outputs": []
    },
    {
      "cell_type": "markdown",
      "metadata": {
        "id": "N-awerTWNc63"
      },
      "source": [
        "m is the number of samples in the dataset. "
      ]
    },
    {
      "cell_type": "code",
      "metadata": {
        "colab": {
          "base_uri": "https://localhost:8080/"
        },
        "id": "d_Dz6Z6YOQF9",
        "outputId": "9d7c4cc0-bc7c-410c-c18f-a75e0044916f"
      },
      "source": [
        "X_train.shape"
      ],
      "execution_count": 21,
      "outputs": [
        {
          "output_type": "execute_result",
          "data": {
            "text/plain": [
              "torch.Size([50000, 784])"
            ]
          },
          "metadata": {
            "tags": []
          },
          "execution_count": 21
        }
      ]
    },
    {
      "cell_type": "markdown",
      "metadata": {
        "id": "S7xUOv0n9RqX"
      },
      "source": [
        "Take a look at the training data\n",
        "\n",
        "Note the size of the training set\n",
        "\n"
      ]
    },
    {
      "cell_type": "code",
      "metadata": {
        "colab": {
          "base_uri": "https://localhost:8080/"
        },
        "id": "pzgYF69T5-X5",
        "outputId": "b07c99e3-d285-413f-baf8-6d771170f130"
      },
      "source": [
        "m, n0 = X_train.shape\n",
        "c = Y_train.max()+1\n",
        "m,n0,c,Y_train.max()"
      ],
      "execution_count": 23,
      "outputs": [
        {
          "output_type": "execute_result",
          "data": {
            "text/plain": [
              "(50000, 784, tensor(10.), tensor(9.))"
            ]
          },
          "metadata": {
            "tags": []
          },
          "execution_count": 23
        }
      ]
    },
    {
      "cell_type": "markdown",
      "metadata": {
        "id": "vagz-GZe5-X5"
      },
      "source": [
        "## Foundations version"
      ]
    },
    {
      "cell_type": "markdown",
      "metadata": {
        "id": "pfeJZz_45-X5"
      },
      "source": [
        "### Basic architecture"
      ]
    },
    {
      "cell_type": "markdown",
      "metadata": {
        "id": "4kqnGdFs5-X6"
      },
      "source": [
        "[Jump_to lesson 8 video](https://course.fast.ai/videos/?lesson=8&t=5128)"
      ]
    },
    {
      "cell_type": "markdown",
      "metadata": {
        "id": "j7b_92__9e17"
      },
      "source": [
        ""
      ]
    },
    {
      "cell_type": "code",
      "metadata": {
        "id": "WzFgW_Wi5-X6"
      },
      "source": [
        ""
      ],
      "execution_count": 24,
      "outputs": []
    },
    {
      "cell_type": "markdown",
      "metadata": {
        "id": "4_NV4eLQ5-X6"
      },
      "source": [
        "[Tinker practice](https://course.fast.ai/videos/?lesson=8&t=5255)"
      ]
    },
    {
      "cell_type": "markdown",
      "metadata": {
        "id": "W968ePvjRSoQ"
      },
      "source": [
        "\n"
      ]
    },
    {
      "cell_type": "markdown",
      "metadata": {
        "id": "sYJAHMZ5aciZ"
      },
      "source": [
        " \n",
        "The definition of the first layer:\n",
        "\n",
        "The weighted sum  (the first part of the node/neuron):\n",
        "\n",
        "Note that matrices are written in capital letters.\n",
        "\n",
        "$Z^{[1]}\n",
        "=  X W^{[1]} + b^{[1]}$\n",
        "\n",
        "$ z^{[1](s)}\n",
        "=  x^{(s)} W^{[1]} + b^{[1]}, s=1,m = 50000$\n",
        "\n",
        " \n",
        " $\\begin{bmatrix} \n",
        " z^{[1](1)}  \\\\ \n",
        " \\vdots     \\\\ \n",
        " z^{[1](m)}  \n",
        " \\end{bmatrix}\n",
        " $  =\n",
        "$\\begin{bmatrix} \n",
        " z_{1}^{[1](1)} & \\cdots  & z_{n^{[1]}}^{[1](1)} \\\\ \n",
        " \\vdots          & \\cdots & \\vdots \\\\ \n",
        " z_{1}^{[1](m)} & \\cdots &  z_{n^{[1]}}^{[1](m)} \n",
        " \\end{bmatrix}\n",
        " $ \\\\\n",
        "\n",
        " \n",
        " = \n",
        "$\\begin{bmatrix} \n",
        " x_{1}^{(1)} & \\cdots  & x_{n^{[0]}}^{(1)} \\\\ \n",
        " \\vdots       & \\cdots & \\vdots \\\\ \n",
        " x_{1}^{(m)} & \\cdots &  x_{n^{[0]}}^{(m)} \n",
        " \\end{bmatrix}\n",
        " $\n",
        " $ \n",
        "\\begin{bmatrix} \n",
        " w_{11}^{[2]} & \\cdots  & w_{1n^{[1]}}^{[2]} \\\\ \n",
        " \\vdots          & \\cdots & \\vdots \\\\ \n",
        " w_{n^{[0]}1}^{[2]} & \\cdots &  w_{n^{[0]}n^{[1]}}^{[2]} \\end{bmatrix} \n",
        " $ \\\\\n",
        "\n",
        " +\n",
        " $ \n",
        "  \\begin{bmatrix} \n",
        "   b_{1}^{[2]}  & \\cdots &  b_{n^{[1]}}^{[2]} \n",
        "  \\end{bmatrix} \n",
        " $ \n",
        "\n",
        "=\n",
        "$\\begin{bmatrix} \n",
        " x^{(1)} \\cdot  w_{\\bullet 1}^{[2]} & \\cdots  & x^{(1)} \\cdot w_{\\bullet n^{[1]}}^{[2]} \\\\ \n",
        " \\vdots       & \\cdots & \\vdots \\\\ \n",
        " x^{(m)} \\cdot  w_{\\bullet 1}^{[2]}  & \\cdots & \n",
        " x^{(m)} \\cdot w_{\\bullet n^{[1]}}^{[2]} \n",
        " \\end{bmatrix}\n",
        " $\n",
        " \\\\\n",
        "\n",
        " +\n",
        " $ \n",
        "  \\begin{bmatrix} \n",
        "   b_{1}^{[2]}  & \\cdots &  b_{n^{[1]}}^{[2]} \n",
        "  \\end{bmatrix} \n",
        " $ \n",
        "\n",
        "The activation (the second part of the node/neuron):\n",
        "\n",
        "$ \n",
        " A^{[1]}\n",
        " =  g( Z^{[1]}) = g(X W^{[1]} + b^{[1]}) $\n",
        "\n",
        "  $ \n",
        " \\begin{bmatrix} \n",
        " a^{[1](1)} \\\\ \n",
        " \\vdots  \\\\ \n",
        " a^{[1](m)}  \n",
        " \\end{bmatrix}\n",
        "=\\begin{bmatrix} \n",
        " a_{1}^{[1](1)} & \\cdots  & a_{n^{[1]}}^{[1](1)} \\\\ \n",
        " \\vdots       & \\cdots & \\vdots \\\\ \n",
        " a_{1}^{[1](m)} & \\cdots &  a_{n^{[1]}}^{[1](m)} \n",
        " \\end{bmatrix}\n",
        "=\\begin{bmatrix} \n",
        "g(z_{1}^{[1](1)}) & \\cdots  & g(z_{n^{[1]}}^{[1](1)}) \\\\ \n",
        " \\vdots       & \\cdots & \\vdots \\\\ \n",
        " g(z_{1}^{[1](m)}) & \\cdots &  g(z_{n^{[1]}}^{[1](m)})  \\end{bmatrix} \n",
        " =\\begin{bmatrix} \n",
        "g(z^{[1](1)})  \\\\ \n",
        " \\vdots     \\\\ \n",
        " g(z^{[1](m)})  \\end{bmatrix} \n",
        "$\n",
        "\n",
        "In our network, $g = relu$\n",
        "\n",
        "\n",
        "Here,  the index in the square superfix 2 in $z^{[1](1)}$ means that the variable $z^{[1](1)}$ lives on the 1st  layer of the network. \n",
        " The index in the parenthesis superfix 1 in $z^{[1](1)}$ means that the variable $z^{[1](1)}$ is computed from data sample 1.  The suffix 1 in \n",
        "  $z_{1}^{[1](1)}$ means that $z_{1}^{[1](1)}$  is the first element of vector $z^{[1](1)}$.  $n^{[i]}$ is the number of the nodes (units or neurons) on the $i$-th layer. The 0th layer of the network refers to the input layer. \n",
        "\n",
        " "
      ]
    },
    {
      "cell_type": "markdown",
      "metadata": {
        "id": "77kObYlhC3U1"
      },
      "source": [
        "The definition of the 2nd layer.\n",
        "\n",
        " \n",
        "\n",
        "$ Z^{[2]}\n",
        "=  A^{[1]} W^{[2]} + b^{[2]}$\n",
        "\n",
        "$ z^{[2](s)}\n",
        "=  a^{[1](s)} W^{[2]} + b^{[2]}, s=1,m = 50000$\n",
        "\n",
        "\n",
        "$\\begin{bmatrix} \n",
        " z_{1}^{[2](1)} & \\cdots  & z_{n^{[2]}}^{[2](1)} \\\\ \n",
        " \\vdots          & \\cdots & \\vdots \\\\ \n",
        " z_{1}^{[2](m)} & \\cdots &  z_{n^{[2]}}^{[2](m)} \n",
        " \\end{bmatrix}\n",
        " $ \\\\\n",
        "\n",
        " = \n",
        "$\\begin{bmatrix} \n",
        " a_{1}^{(1)} & \\cdots  & a_{n^{[1]}}^{(1)} \\\\ \n",
        " \\vdots       & \\cdots & \\vdots \\\\ \n",
        " a_{1}^{(m)} & \\cdots &  a_{n^{[1]}}^{(m)} \n",
        " \\end{bmatrix}\n",
        " $\n",
        " $ \n",
        "\\begin{bmatrix} \n",
        " w_{11}^{[2]} & \\cdots  & w_{1n^{[2]}}^{[2]} \\\\ \n",
        " \\vdots          & \\cdots & \\vdots \\\\ \n",
        " w_{n^{[1]}1}^{[2]} & \\cdots &  w_{n^{[1]}n^{[2]}}^{[2]} \\end{bmatrix} \n",
        " $ \\\\\n",
        "\n",
        " +\n",
        " $ \n",
        "  \\begin{bmatrix} \n",
        "   b_{1}^{[2]}  & \\cdots &  b_{n^{[2]}}^{[2]} \n",
        "  \\end{bmatrix} \n",
        " $ \n",
        "\n",
        "\n",
        "\n",
        "\n",
        " Here, the index in the square superfix 2 in $z^{[2](1)}$ means that the variable $z^{[2](1)}$ lives on the 2nd layer of the network. \n",
        " The index in the parenthesis superfix 1 in $z^{[2](1)}$ means that the variable $z^{[2](1)}$ is computed from data sample 1.  The suffix 1 in $z_{1}^{[2](1)}$ means that $z_{1}^{[2](1)}$  is the first element of vector $z^{[2](1)}$. \n",
        " \n",
        " \n",
        " \n",
        "In this notebook, the size of the second layer (the output layer), $n^{[2]}$ is 1. \n",
        "There is only one node on the second layer, hence only one element in the output vector $z^{[2](i)}$ on the 2nd layer in our example neural net. \n",
        "So we have:\n",
        "\n",
        "\n",
        "$\\begin{bmatrix} \n",
        " z_{1}^{[2](1)} \\\\ \n",
        " \\vdots      \\\\ \n",
        " z_{1}^{[2](m)}  \n",
        " \\end{bmatrix}\n",
        " $ \\\\\n",
        " = \n",
        "$\\begin{bmatrix} \n",
        " a_{1}^{[1](1)} & \\cdots  & a_{n^{[1]}}^{[1](1)} \\\\ \n",
        " \\vdots       & \\cdots & \\vdots \\\\ \n",
        " a_{1}^{(m)} & \\cdots &  a_{n^{[1]}}^{[1](m)} \n",
        " \\end{bmatrix}\n",
        " $\n",
        " $ \n",
        "\\begin{bmatrix} \n",
        " w_{11}^{[2]}  \\\\ \n",
        " \\vdots    \\\\ \n",
        " w_{n^{[1]}1}^{[2]} \n",
        "  \\end{bmatrix} \n",
        " $ \\\\\n",
        " +\n",
        " $ \n",
        "  \\begin{bmatrix} \n",
        "   b_{1}^{[2]}   \n",
        "  \\end{bmatrix} \n",
        " $ \\\\\n",
        " \n",
        "In general, there are more than one elements in the output vector."
      ]
    },
    {
      "cell_type": "markdown",
      "metadata": {
        "id": "WObdO6AgT19v"
      },
      "source": [
        "In the above, the description of the 1st layer\n",
        "\n",
        "$ z^{[1](s)}\n",
        "=  x^{(s)} W^{[1]} + b^{[1]}$ \n",
        "\n",
        "assumes that input vector $x^{{s)}$ is written a row vector.\n",
        "In this case, the vectors in all the layers are considered as row vectors. \n",
        "\n",
        "Other people often write it as a column vector as follows:\n",
        "\n",
        "\n",
        "  x_train \\\\\n",
        "$= \\begin{bmatrix}\n",
        "  x^{(1)}   \\cdots  x^{(m)} \n",
        "   \\end{bmatrix}\n",
        " = \n",
        "\\begin{bmatrix} \n",
        " x_{1}^{(1)} & \\cdots  & x_{1}^{(m)} \\\\ \n",
        " \\vdots          & \\cdots & \\vdots \\\\ \n",
        " x_{n^{[0]}}^{(1)} & \\cdots &  x_{n^{[0]}}^{(m)}\n",
        "  \\end{bmatrix}\n",
        "  $\n",
        "\n",
        "  In this case, the description of the 1st layer is written as:\n",
        "\n",
        "  $ z^{[1](s)}\n",
        "=  W^{[1]} x^{(s)}  + b^{[1]}$ \n",
        "\n",
        "Also, the vectors on the other layers are considered as column vectors. The conversion from one description to another can obtained by transposing the equation:\n",
        "\n",
        "$ {z^{[1](s)}}^{T}\n",
        "=  ( x^{(s)} W^{[1]} ) ^{T} + {b^{[1]}}^{T}\n",
        "= {W^{[1]}}^{T}  {x^{(s)}}^{T} + { b^{[1]}}^{T}\n",
        "$ "
      ]
    },
    {
      "cell_type": "markdown",
      "metadata": {
        "id": "F6_hSGCpa2ep"
      },
      "source": [
        ""
      ]
    },
    {
      "cell_type": "markdown",
      "metadata": {
        "id": "86MGtdAGg_M3"
      },
      "source": [
        "To train the neural net means to determine the values of the weights $W^{[1]}, W^{[2]}$ and biases $b^{[1]}, b^{[2]}$, so that the loss function L ($W^{[1]}, W^{[2]}$,  $b^{[1]}, b^{[2]}$) is minimized. To do so, we need to initialize them to random numbers chosen appropriately, as follows:\n",
        "\n",
        "Note that in the noteboo, $W^{[1]}, W^{[2]}, b^{[1]}, b^{[2]}, A ^{[1]} $ are written as W1, W2, b1, b2, A1."
      ]
    },
    {
      "cell_type": "markdown",
      "metadata": {
        "id": "7yRB_-kt-t3s"
      },
      "source": [
        ""
      ]
    },
    {
      "cell_type": "code",
      "metadata": {
        "id": "ZerWKiIu-UFU"
      },
      "source": [
        "# our linear layer definition\n",
        "def lin(X, W, b): return X@W + b"
      ],
      "execution_count": 32,
      "outputs": []
    },
    {
      "cell_type": "markdown",
      "metadata": {
        "id": "yOrRuOej-s8s"
      },
      "source": [
        "Our first model will have 50 hidden units. It will also have two hidden layers:\n",
        "\n",
        "1. first layer (w1): will be size of input_shape x hidden units\n",
        "2. second layer (w2): will be size of hidden units"
      ]
    },
    {
      "cell_type": "code",
      "metadata": {
        "id": "WIWxdxj0-fKL"
      },
      "source": [
        "# num hidden\n",
        "# number of hidden units\n",
        "n1 = 50"
      ],
      "execution_count": 25,
      "outputs": []
    },
    {
      "cell_type": "code",
      "metadata": {
        "id": "8Xzlvhy25-X7"
      },
      "source": [
        "# initialize our weights and bias\n",
        "# simplified kaiming init / he init\n",
        "W1 = torch.randn(n0,n1)/math.sqrt(n0) # n0 is the size of the input vector x, n1 is the number of nodes in the 1st layer\n",
        "b1 = torch.zeros(n1)\n",
        "\n",
        "\n",
        "W2 = torch.randn(n1,1)/math.sqrt(n1) # 1 is the number of nodes in the second layer (the output layer)\n",
        "b2 = torch.zeros(1)"
      ],
      "execution_count": 27,
      "outputs": []
    },
    {
      "cell_type": "markdown",
      "metadata": {
        "id": "JRasc874OFkF"
      },
      "source": [
        "Why is it important to initialize the data?\n",
        "\n",
        "In order to make sure the mean and devation are correct, you need to initialize the wights\n",
        "\n",
        "Problems related to initialization\n",
        "\n",
        "Graidents becomes to large and it explodes\n",
        "gradients too small it will not be update (vanish)"
      ]
    },
    {
      "cell_type": "markdown",
      "metadata": {
        "id": "efz05Bs__DaQ"
      },
      "source": [
        "**Question:** what is the following line of code supposed to do? And why doesn't it work?"
      ]
    },
    {
      "cell_type": "code",
      "metadata": {
        "id": "e-jtQUbI5-X8",
        "colab": {
          "base_uri": "https://localhost:8080/",
          "height": 300
        },
        "outputId": "7b13438f-b8e9-48dd-c131-eef07ee70703"
      },
      "source": [
        "test_near_zero(W1.mean())\n",
        "test_near_zero(W1.std()-1/math.sqrt(m))"
      ],
      "execution_count": 28,
      "outputs": [
        {
          "output_type": "error",
          "ename": "AssertionError",
          "evalue": "ignored",
          "traceback": [
            "\u001b[0;31m---------------------------------------------------------------------------\u001b[0m",
            "\u001b[0;31mAssertionError\u001b[0m                            Traceback (most recent call last)",
            "\u001b[0;32m<ipython-input-28-07902b9a5759>\u001b[0m in \u001b[0;36m<module>\u001b[0;34m()\u001b[0m\n\u001b[1;32m      1\u001b[0m \u001b[0mtest_near_zero\u001b[0m\u001b[0;34m(\u001b[0m\u001b[0mW1\u001b[0m\u001b[0;34m.\u001b[0m\u001b[0mmean\u001b[0m\u001b[0;34m(\u001b[0m\u001b[0;34m)\u001b[0m\u001b[0;34m)\u001b[0m\u001b[0;34m\u001b[0m\u001b[0;34m\u001b[0m\u001b[0m\n\u001b[0;32m----> 2\u001b[0;31m \u001b[0mtest_near_zero\u001b[0m\u001b[0;34m(\u001b[0m\u001b[0mW1\u001b[0m\u001b[0;34m.\u001b[0m\u001b[0mstd\u001b[0m\u001b[0;34m(\u001b[0m\u001b[0;34m)\u001b[0m\u001b[0;34m-\u001b[0m\u001b[0;36m1\u001b[0m\u001b[0;34m/\u001b[0m\u001b[0mmath\u001b[0m\u001b[0;34m.\u001b[0m\u001b[0msqrt\u001b[0m\u001b[0;34m(\u001b[0m\u001b[0mm\u001b[0m\u001b[0;34m)\u001b[0m\u001b[0;34m)\u001b[0m\u001b[0;34m\u001b[0m\u001b[0;34m\u001b[0m\u001b[0m\n\u001b[0m",
            "\u001b[0;32m<ipython-input-19-a20bbf373502>\u001b[0m in \u001b[0;36mtest_near_zero\u001b[0;34m(a, tol)\u001b[0m\n\u001b[1;32m      1\u001b[0m \u001b[0;31m# check to ensure that mean is near zero\u001b[0m\u001b[0;34m\u001b[0m\u001b[0;34m\u001b[0m\u001b[0;34m\u001b[0m\u001b[0m\n\u001b[0;32m----> 2\u001b[0;31m \u001b[0;32mdef\u001b[0m \u001b[0mtest_near_zero\u001b[0m\u001b[0;34m(\u001b[0m\u001b[0ma\u001b[0m\u001b[0;34m,\u001b[0m\u001b[0mtol\u001b[0m\u001b[0;34m=\u001b[0m\u001b[0;36m1e-3\u001b[0m\u001b[0;34m)\u001b[0m\u001b[0;34m:\u001b[0m \u001b[0;32massert\u001b[0m \u001b[0ma\u001b[0m\u001b[0;34m.\u001b[0m\u001b[0mabs\u001b[0m\u001b[0;34m(\u001b[0m\u001b[0;34m)\u001b[0m\u001b[0;34m<\u001b[0m\u001b[0mtol\u001b[0m\u001b[0;34m,\u001b[0m \u001b[0;34mf\"Near zero: {a}\"\u001b[0m\u001b[0;34m\u001b[0m\u001b[0;34m\u001b[0m\u001b[0m\n\u001b[0m",
            "\u001b[0;31mAssertionError\u001b[0m: Near zero: 0.031186439096927643"
          ]
        }
      ]
    },
    {
      "cell_type": "code",
      "metadata": {
        "colab": {
          "base_uri": "https://localhost:8080/"
        },
        "id": "rBjo8r7O5-X9",
        "outputId": "1b2e0ea9-cc11-4d55-c8d6-ee326424342a"
      },
      "source": [
        "# This should be ~ (0,1) (mean,std)...\n",
        "X_valid.mean(),X_valid.std()"
      ],
      "execution_count": 29,
      "outputs": [
        {
          "output_type": "execute_result",
          "data": {
            "text/plain": [
              "(tensor(-0.0059), tensor(0.9924))"
            ]
          },
          "metadata": {
            "tags": []
          },
          "execution_count": 29
        }
      ]
    },
    {
      "cell_type": "markdown",
      "metadata": {
        "id": "AdRkWPzg_nMD"
      },
      "source": [
        "###getting normalized weights\n",
        "\n",
        "If we want our weights to similiarily be between 0 and 1. We will divide by these various factors so that the output should also have a mean 0 and standard deviation 1. this is typically done with kaiming normal, but we are approximating it by dividing by sqrt\n",
        "\n"
      ]
    },
    {
      "cell_type": "markdown",
      "metadata": {
        "id": "c8dIv9H2k3Iy"
      },
      "source": [
        "Function lin() is used to compute\n",
        "\n",
        " $ Z^{[2]}\n",
        "=  A^{[1]} W^{[2]} + b^{[2]}$ and $ Z^{[1]}\n",
        "=  X W^{[1]} + b^{[1]}$ "
      ]
    },
    {
      "cell_type": "markdown",
      "metadata": {
        "id": "5pnLmI_p_iLC"
      },
      "source": [
        ""
      ]
    },
    {
      "cell_type": "code",
      "metadata": {
        "id": "u-faJxX55-X_",
        "colab": {
          "base_uri": "https://localhost:8080/"
        },
        "outputId": "ad123c9a-47b4-4380-ce5d-54ce3603efab"
      },
      "source": [
        "Z1 = lin(X_valid, W1, b1)\n",
        "#t = lin(x_valid, w1, b1)\n",
        "print(Z1.mean(), Z1.std())\n"
      ],
      "execution_count": 34,
      "outputs": [
        {
          "output_type": "stream",
          "text": [
            "tensor(0.0048) tensor(0.9941)\n"
          ],
          "name": "stdout"
        }
      ]
    },
    {
      "cell_type": "code",
      "metadata": {
        "colab": {
          "base_uri": "https://localhost:8080/"
        },
        "id": "p4LwFw7dY3eF",
        "outputId": "e1029440-b19b-425e-8cae-661aec6e54d1"
      },
      "source": [
        "X_valid.shape"
      ],
      "execution_count": 31,
      "outputs": [
        {
          "output_type": "execute_result",
          "data": {
            "text/plain": [
              "torch.Size([10000, 784])"
            ]
          },
          "metadata": {
            "tags": []
          },
          "execution_count": 31
        }
      ]
    },
    {
      "cell_type": "code",
      "metadata": {
        "colab": {
          "base_uri": "https://localhost:8080/"
        },
        "id": "Uj2llJ7b5-X_",
        "outputId": "6ab31c9b-f459-41c1-a30c-744ef34661e9"
      },
      "source": [
        "#...so should this, because we used kaiming init, which is designed to do this\n",
        "Z1.mean(),Z1.std()"
      ],
      "execution_count": 35,
      "outputs": [
        {
          "output_type": "execute_result",
          "data": {
            "text/plain": [
              "(tensor(0.0048), tensor(0.9941))"
            ]
          },
          "metadata": {
            "tags": []
          },
          "execution_count": 35
        }
      ]
    },
    {
      "cell_type": "markdown",
      "metadata": {
        "id": "Wkmuu_IQAjvb"
      },
      "source": [
        "Initialization weights matters. Example: Large network was trained with very specific weight initialization https://arxiv.org/abs/1901.09321 5. It turns out even in one-cycle training, those first iterations are very important. "
      ]
    },
    {
      "cell_type": "code",
      "metadata": {
        "id": "8yANZFMz5-YB"
      },
      "source": [
        "def relu(Z):\n",
        "    #Will return itself, unless its below 0\n",
        "    #then will return 0\n",
        "    return Z.clamp_min(0.)"
      ],
      "execution_count": 39,
      "outputs": []
    },
    {
      "cell_type": "markdown",
      "metadata": {
        "id": "4BTuHlgxA7Uo"
      },
      "source": [
        "**Check for mean 0 std 1**\n",
        "\n",
        "This will not be true, because all negative values will be changed 0, so the mean will not be zero and the std will vary as well"
      ]
    },
    {
      "cell_type": "code",
      "metadata": {
        "id": "Fk5_q7ld5-YC",
        "colab": {
          "base_uri": "https://localhost:8080/"
        },
        "outputId": "3d302a62-2161-4f82-e09b-1b8513ba1475"
      },
      "source": [
        "Z1 = lin(X_valid, W1, b1)\n",
        "A1 = relu( Z1 )\n",
        "print(Z1.mean(), Z1.std())"
      ],
      "execution_count": 42,
      "outputs": [
        {
          "output_type": "stream",
          "text": [
            "tensor(0.0048) tensor(0.9941)\n"
          ],
          "name": "stdout"
        }
      ]
    },
    {
      "cell_type": "code",
      "metadata": {
        "colab": {
          "base_uri": "https://localhost:8080/"
        },
        "id": "Iv7GQ0c45-YC",
        "outputId": "d0452a79-6e5a-4fb5-b505-865e9cdd6c28"
      },
      "source": [
        "#...actually it really should be this!\n",
        "A1.mean(),A1.std()"
      ],
      "execution_count": 43,
      "outputs": [
        {
          "output_type": "execute_result",
          "data": {
            "text/plain": [
              "(tensor(0.3943), tensor(0.5616))"
            ]
          },
          "metadata": {
            "tags": []
          },
          "execution_count": 43
        }
      ]
    },
    {
      "cell_type": "markdown",
      "metadata": {
        "id": "E7wps4h_Oi_0"
      },
      "source": [
        "kaming was good but it does not work with relu.\n",
        "\n",
        "So we need another initialization that can work with relu"
      ]
    },
    {
      "cell_type": "markdown",
      "metadata": {
        "id": "-tGq6Sta5-YD"
      },
      "source": [
        "From pytorch docs: `a: the negative slope of the rectifier used after this layer (0 for ReLU by default)`\n",
        "\n",
        "$$\\text{std} = \\sqrt{\\frac{2}{(1 + a^2) \\times \\text{fan_in}}}$$\n",
        "\n",
        "This was introduced in the paper that described the Imagenet-winning approach from *He et al*: [Delving Deep into Rectifiers](https://arxiv.org/abs/1502.01852), which was also the first paper that claimed \"super-human performance\" on Imagenet (and, most importantly, it introduced resnets!)"
      ]
    },
    {
      "cell_type": "markdown",
      "metadata": {
        "id": "5pqJ9i9m5-YD"
      },
      "source": [
        "[Jump_to lesson 8 video](https://course.fast.ai/videos/?lesson=8&t=5128)"
      ]
    },
    {
      "cell_type": "code",
      "metadata": {
        "id": "09FOdeFH5-YD"
      },
      "source": [
        "# kaiming init / he init for relu\n",
        "W1 = torch.randn(n0,n1)*math.sqrt(2/n0)"
      ],
      "execution_count": 44,
      "outputs": []
    },
    {
      "cell_type": "code",
      "metadata": {
        "colab": {
          "base_uri": "https://localhost:8080/"
        },
        "id": "-ePZ4wD15-YE",
        "outputId": "f52228d3-38b8-4cc4-a560-53f1e8fc4cd6"
      },
      "source": [
        "W1.mean(),W1.std()"
      ],
      "execution_count": 45,
      "outputs": [
        {
          "output_type": "execute_result",
          "data": {
            "text/plain": [
              "(tensor(-0.0002), tensor(0.0506))"
            ]
          },
          "metadata": {
            "tags": []
          },
          "execution_count": 45
        }
      ]
    },
    {
      "cell_type": "markdown",
      "metadata": {
        "id": "UBXcyFVmBjKV"
      },
      "source": [
        "and now the result is much closer to mean 0, std 1"
      ]
    },
    {
      "cell_type": "code",
      "metadata": {
        "colab": {
          "base_uri": "https://localhost:8080/"
        },
        "id": "bJdmqNag5-YE",
        "outputId": "2c8c7c89-c6f7-43e5-d695-f6c6475fa065"
      },
      "source": [
        "Z1 = lin(X_valid, W1, b1)\n",
        "A1 = relu( Z1)\n",
        "A1.mean(),A1.std()"
      ],
      "execution_count": 46,
      "outputs": [
        {
          "output_type": "execute_result",
          "data": {
            "text/plain": [
              "(tensor(0.5527), tensor(0.7920))"
            ]
          },
          "metadata": {
            "tags": []
          },
          "execution_count": 46
        }
      ]
    },
    {
      "cell_type": "code",
      "metadata": {
        "id": "r40vq9I3B0S8"
      },
      "source": [
        ""
      ],
      "execution_count": null,
      "outputs": []
    },
    {
      "cell_type": "markdown",
      "metadata": {
        "id": "AoJRdVN9B2Cc"
      },
      "source": [
        "Forward pass is a matrix multiply and backward pass is a matrix multiply with a transpose. \n",
        "**Q:** What is a transpose??\n",
        "\n",
        "And they finally recommend sqrt(2 over activations). Now that we understand how to normalize weights and how to calculate the kaiming normal, lets use the pytorch version of it\n",
        "\n"
      ]
    },
    {
      "cell_type": "code",
      "metadata": {
        "id": "EfgvpQu0B1rd"
      },
      "source": [
        ""
      ],
      "execution_count": null,
      "outputs": []
    },
    {
      "cell_type": "code",
      "metadata": {
        "id": "r8O1NjrC5-YF"
      },
      "source": [
        "#export\n",
        "from torch.nn import init"
      ],
      "execution_count": 48,
      "outputs": []
    },
    {
      "cell_type": "code",
      "metadata": {
        "id": "OjXu4Gq05-YF"
      },
      "source": [
        "W1 = torch.zeros(n0,n1)\n",
        "init.kaiming_normal_(W1, mode='fan_out')\n",
        "A1 = relu(lin(X_valid, W1, b1))"
      ],
      "execution_count": 49,
      "outputs": []
    },
    {
      "cell_type": "markdown",
      "metadata": {
        "id": "zosKDfKaCUQW"
      },
      "source": [
        "**What are Fan in and Fan out**\n",
        "\n",
        "mode: either 'fan_in' (default) or 'fan_out'. Choosing `fan_in`\n",
        "        preserves the magnitude of the variance of the weights in the\n",
        "        forward pass. Choosing `fan_out` preserves the magnitudes in the\n",
        "        backwards pass.\n"
      ]
    },
    {
      "cell_type": "markdown",
      "metadata": {
        "id": "BWsmR_UqCnh7"
      },
      "source": [
        "So why are we doing fan_out? Are you dividing by row(m) or by row(nh). BEcause our weight shape is 784 x 50. pytorch actually does the reverse (50 x 784). How does this work?"
      ]
    },
    {
      "cell_type": "code",
      "metadata": {
        "id": "C8Thp0YVo3as",
        "colab": {
          "base_uri": "https://localhost:8080/"
        },
        "outputId": "0c79f8d4-6c09-4469-8317-9e08c3d7ba5d"
      },
      "source": [
        "\n",
        "W1.shape"
      ],
      "execution_count": 50,
      "outputs": [
        {
          "output_type": "execute_result",
          "data": {
            "text/plain": [
              "torch.Size([784, 50])"
            ]
          },
          "metadata": {
            "tags": []
          },
          "execution_count": 50
        }
      ]
    },
    {
      "cell_type": "code",
      "metadata": {
        "id": "mhCoytJqpK5i",
        "colab": {
          "base_uri": "https://localhost:8080/"
        },
        "outputId": "33b90153-7f4b-42b4-eb0d-b000f8a74cbf"
      },
      "source": [
        "W1.t().shape"
      ],
      "execution_count": 51,
      "outputs": [
        {
          "output_type": "execute_result",
          "data": {
            "text/plain": [
              "torch.Size([50, 784])"
            ]
          },
          "metadata": {
            "tags": []
          },
          "execution_count": 51
        }
      ]
    },
    {
      "cell_type": "code",
      "metadata": {
        "id": "5jETx2oR5-YF"
      },
      "source": [
        "init.kaiming_normal_??"
      ],
      "execution_count": 52,
      "outputs": []
    },
    {
      "cell_type": "code",
      "metadata": {
        "colab": {
          "base_uri": "https://localhost:8080/"
        },
        "id": "nJDqDh6l5-YF",
        "outputId": "1721a9f2-5519-4a35-c86f-07f41a072950"
      },
      "source": [
        "W1.mean(),W1.std()"
      ],
      "execution_count": 53,
      "outputs": [
        {
          "output_type": "execute_result",
          "data": {
            "text/plain": [
              "(tensor(-0.0003), tensor(0.0506))"
            ]
          },
          "metadata": {
            "tags": []
          },
          "execution_count": 53
        }
      ]
    },
    {
      "cell_type": "code",
      "metadata": {
        "colab": {
          "base_uri": "https://localhost:8080/"
        },
        "id": "WqoOHNXn5-YG",
        "outputId": "0681d678-e751-48ff-d07e-dd97b9a0c1ce"
      },
      "source": [
        "A1.mean(),A1.std()"
      ],
      "execution_count": 54,
      "outputs": [
        {
          "output_type": "execute_result",
          "data": {
            "text/plain": [
              "(tensor(0.4987), tensor(0.7637))"
            ]
          },
          "metadata": {
            "tags": []
          },
          "execution_count": 54
        }
      ]
    },
    {
      "cell_type": "code",
      "metadata": {
        "colab": {
          "base_uri": "https://localhost:8080/"
        },
        "id": "Wv7oXXVO5-YG",
        "outputId": "160aa5f6-4410-4d53-beba-5a7c7954c14f"
      },
      "source": [
        "W1.shape"
      ],
      "execution_count": 55,
      "outputs": [
        {
          "output_type": "execute_result",
          "data": {
            "text/plain": [
              "torch.Size([784, 50])"
            ]
          },
          "metadata": {
            "tags": []
          },
          "execution_count": 55
        }
      ]
    },
    {
      "cell_type": "code",
      "metadata": {
        "id": "J0Tg2Uq15-YG"
      },
      "source": [
        "import torch.nn"
      ],
      "execution_count": 56,
      "outputs": []
    },
    {
      "cell_type": "code",
      "metadata": {
        "id": "XzfYmlPYpfx_",
        "colab": {
          "base_uri": "https://localhost:8080/"
        },
        "outputId": "9230d06b-c35a-4421-a550-6e6c0538def9"
      },
      "source": [
        "X_valid[0].shape"
      ],
      "execution_count": 57,
      "outputs": [
        {
          "output_type": "execute_result",
          "data": {
            "text/plain": [
              "torch.Size([784])"
            ]
          },
          "metadata": {
            "tags": []
          },
          "execution_count": 57
        }
      ]
    },
    {
      "cell_type": "code",
      "metadata": {
        "colab": {
          "base_uri": "https://localhost:8080/"
        },
        "id": "oRgE733i5-YH",
        "outputId": "ff89566e-add8-4f42-a85d-26253d7fefae"
      },
      "source": [
        "torch.nn.Linear(n0,n1).weight.shape"
      ],
      "execution_count": 58,
      "outputs": [
        {
          "output_type": "execute_result",
          "data": {
            "text/plain": [
              "torch.Size([50, 784])"
            ]
          },
          "metadata": {
            "tags": []
          },
          "execution_count": 58
        }
      ]
    },
    {
      "cell_type": "code",
      "metadata": {
        "id": "m9_aH0It5-YH"
      },
      "source": [
        "torch.nn.Linear.forward??"
      ],
      "execution_count": 59,
      "outputs": []
    },
    {
      "cell_type": "markdown",
      "metadata": {
        "id": "9g8ouHYEDBaH"
      },
      "source": [
        "In pytorch F always refers to torch.nn.functional\n",
        "\n"
      ]
    },
    {
      "cell_type": "code",
      "metadata": {
        "id": "Zcg7OoG8C7XG"
      },
      "source": [
        ""
      ],
      "execution_count": null,
      "outputs": []
    },
    {
      "cell_type": "code",
      "metadata": {
        "id": "vjHq6PoH5-YH"
      },
      "source": [
        "torch.nn.functional.linear??"
      ],
      "execution_count": null,
      "outputs": []
    },
    {
      "cell_type": "markdown",
      "metadata": {
        "id": "bRCyMnt7DHyD"
      },
      "source": [
        "We see in the doc string that we do the transpose with the following phrase weight.t() and that’s why the dimensions are flipped"
      ]
    },
    {
      "cell_type": "code",
      "metadata": {
        "id": "0VsxXtMp5-YI"
      },
      "source": [
        "torch.nn.Conv2d??"
      ],
      "execution_count": null,
      "outputs": []
    },
    {
      "cell_type": "markdown",
      "metadata": {
        "id": "gvPHeEJsDPTw"
      },
      "source": [
        "Turns out that all the code is passed to another class\n",
        "\n",
        "So if we dig to the next level of the library..."
      ]
    },
    {
      "cell_type": "code",
      "metadata": {
        "id": "EDFhDvI-5-YI"
      },
      "source": [
        "torch.nn.modules.conv._ConvNd.reset_parameters??"
      ],
      "execution_count": null,
      "outputs": []
    },
    {
      "cell_type": "markdown",
      "metadata": {
        "id": "Nyy57WZ2Dfl8"
      },
      "source": [
        "it is divided by math.sqrt(5) which turns out not to perform very well."
      ]
    },
    {
      "cell_type": "markdown",
      "metadata": {
        "id": "LHU3E79OFKBl"
      },
      "source": [
        "**Back to activation functions**\n",
        "now we see that the mean is zero and the standard deviation is close to 1"
      ]
    },
    {
      "cell_type": "code",
      "metadata": {
        "id": "RDZaD2dA5-YI"
      },
      "source": [
        "# what if...?\n",
        "def relu(Z): return Z.clamp_min(0.) - 0.5"
      ],
      "execution_count": null,
      "outputs": []
    },
    {
      "cell_type": "markdown",
      "metadata": {
        "id": "aaAuL8hpDSD6"
      },
      "source": [
        "for i in range(10):"
      ]
    },
    {
      "cell_type": "code",
      "metadata": {
        "colab": {
          "base_uri": "https://localhost:8080/"
        },
        "id": "3jNw_L-B5-YI",
        "outputId": "0e36850f-8d05-42c9-d5d9-7f846412e4dc"
      },
      "source": [
        "for i in range(10):\n",
        "  # kaiming init / he init for relu\n",
        "  W1 = torch.randn(n0,n1)*math.sqrt(2./n0 )\n",
        "  A1 = relu(lin(X_valid, W1, b1))\n",
        "  print(A1.mean(),A1.std(),\"|\")"
      ],
      "execution_count": 63,
      "outputs": [
        {
          "output_type": "stream",
          "text": [
            "tensor(0.6066) tensor(0.8523) |\n",
            "tensor(0.4796) tensor(0.7373) |\n",
            "tensor(0.6100) tensor(0.8608) |\n",
            "tensor(0.6230) tensor(0.8815) |\n",
            "tensor(0.6020) tensor(0.8579) |\n",
            "tensor(0.5539) tensor(0.8236) |\n",
            "tensor(0.5733) tensor(0.8081) |\n",
            "tensor(0.6223) tensor(0.8430) |\n",
            "tensor(0.4730) tensor(0.7334) |\n",
            "tensor(0.6617) tensor(0.9113) |\n"
          ],
          "name": "stdout"
        }
      ]
    },
    {
      "cell_type": "markdown",
      "metadata": {
        "id": "4pyieqksF5v-"
      },
      "source": [
        "###Our first model:"
      ]
    },
    {
      "cell_type": "markdown",
      "metadata": {
        "id": "7IJ5e9X-xT2a"
      },
      "source": [
        "function model(X) computes the output of the neural net Z2 such that\n",
        "\n",
        " $ Z^{[2]}\n",
        "=  A^{[1]} W^{[2]} + b^{[2]}$\n",
        "\n",
        "$ Z^{[1]}\n",
        "=  X W^{[1]} + b^{[1]}$ "
      ]
    },
    {
      "cell_type": "code",
      "metadata": {
        "id": "NhvenibH5-YJ"
      },
      "source": [
        "def model(X):\n",
        "    Z1 = lin(X, W1, b1)\n",
        "    #print (\"Z1=\", Z1)\n",
        "    A1= relu(Z1)\n",
        "    #print (\"A1 = \", A1)\n",
        "    Z2= lin(A1, W2, b2)\n",
        "    #print (\"Z2 = \", Z2)\n",
        "    return Z2"
      ],
      "execution_count": 68,
      "outputs": []
    },
    {
      "cell_type": "code",
      "metadata": {
        "id": "DU5VFUTBG8uU"
      },
      "source": [
        " Z2=model(X_valid[:2])"
      ],
      "execution_count": 69,
      "outputs": []
    },
    {
      "cell_type": "code",
      "metadata": {
        "id": "C1c1X6Wu5-YJ",
        "colab": {
          "base_uri": "https://localhost:8080/"
        },
        "outputId": "0189c3d8-166b-43a8-e090-262c316ce8f4"
      },
      "source": [
        "# timing it on the validation set\n",
        "%timeit -n 10 _=model(X_valid[0])"
      ],
      "execution_count": 70,
      "outputs": [
        {
          "output_type": "stream",
          "text": [
            "10 loops, best of 5: 33.7 µs per loop\n"
          ],
          "name": "stdout"
        }
      ]
    },
    {
      "cell_type": "code",
      "metadata": {
        "id": "O9SoPoSl5-YJ"
      },
      "source": [
        "assert model(X_valid).shape==torch.Size([X_valid.shape[0],1])"
      ],
      "execution_count": 71,
      "outputs": []
    },
    {
      "cell_type": "markdown",
      "metadata": {
        "id": "bids1gldOvKA"
      },
      "source": [
        "each node has 2 parts: matmul: linear function relu:non-linear function or sigmoid\n",
        "\n",
        "neuronet is one way to work a non linear function\n",
        "\n",
        "in a way that it can be trained\n",
        "\n",
        "the trick of neuronets is to create a nonlinear function that can be trained"
      ]
    },
    {
      "cell_type": "markdown",
      "metadata": {
        "id": "LlyflLbC5-YK"
      },
      "source": [
        "### Loss function: MSE"
      ]
    },
    {
      "cell_type": "markdown",
      "metadata": {
        "id": "QMKbmGY_5-YK"
      },
      "source": [
        "[Jump_to lesson 8 video](https://course.fast.ai/videos/?lesson=8&t=6372)"
      ]
    },
    {
      "cell_type": "markdown",
      "metadata": {
        "id": "0BQsZ2xW5-YK"
      },
      "source": [
        "We need `squeeze()` to get rid of that trailing (,1), in order to use `mse`. (Of course, `mse` is not a suitable loss function for multi-class classification; we'll use a better loss function soon. We'll use `mse` for now to keep things simple.)"
      ]
    },
    {
      "cell_type": "markdown",
      "metadata": {
        "id": "2SoqHuMr9Xgq"
      },
      "source": [
        "\n",
        " "
      ]
    },
    {
      "cell_type": "markdown",
      "metadata": {
        "id": "bOEHIG5gLe7D"
      },
      "source": [
        ""
      ]
    },
    {
      "cell_type": "markdown",
      "metadata": {
        "id": "FcQxM1bBK4SZ"
      },
      "source": [
        ""
      ]
    },
    {
      "cell_type": "markdown",
      "metadata": {
        "id": "bRf_q9JzNngt"
      },
      "source": [
        "The loss function $L$:\n",
        "\n",
        "\n",
        " $L = \\frac{1}{m}\\sum_{s=1}^{m}(z^{[2](s)} - y^{(s)}) \n",
        " \\cdot(z^{[2](s)} - y^{(s)}) \n",
        "$ \\\\\n",
        "\n",
        " $ z^{[2](s)}\n",
        "=  a^{[1](s)} W^{[2]} + b^{[2]}$\n",
        "\n",
        "$ a^{[1](s)} = g( z^{[1](s)} )$\n",
        "\n",
        " $ z^{[1](s)}\n",
        "=  x^{(s)} W^{[1]} + b^{[1]}$\n",
        "\n",
        "\n",
        "Here, $Y\\_train$\n",
        "$ \n",
        "= \\begin{bmatrix}\n",
        " y^{(1)} \\\\\n",
        "  \\vdots \\\\\n",
        "   y^{(m)}\n",
        "\\end{bmatrix}\n",
        "$\n",
        "\n",
        "\n",
        "Now to train the neural net, we need to compute the following gradient matrices of $L$:\n",
        "\n",
        " $\\frac{\\partial L}{\\partial W^{[2]}} = \\left[  \\frac{\\partial L}{\\partial w_{ij}^{[2]}} \\right]$ \\\\\n",
        " $\\frac{\\partial L}{\\partial b^{[2]}} = \\left[ \\frac{\\partial L}{\\partial b_{i}^{[2]}} \\right]$ \\\\\n",
        " $\\frac{\\partial L}{\\partial W^{[1]}} = \\left[   \\frac{\\partial L}{\\partial w_{ij}^{[1]}} \\right]$ \n",
        " \\\\\n",
        " $\\frac{\\partial L}{\\partial b^{[1]}} = \\left[ \\frac{\\partial L}{\\partial b_{i}^{[1]}} \\right]$\n",
        " \n",
        "\n",
        "\n",
        "\n"
      ]
    },
    {
      "cell_type": "markdown",
      "metadata": {
        "id": "OnRnvwOFMd5O"
      },
      "source": [
        "\n",
        "\n",
        " \n",
        "\n",
        "$\\frac{\\partial L}{\\partial W^{[2]}}\n",
        " = \\left[    \\frac{\\partial L}{ \\partial w_{ij}^{[2]} } \\right]$\n",
        "\n",
        "$  \\frac{\\partial L}{ \\partial w_{ij}^{[2]} }\n",
        " = \\frac{1}{m}\\sum_{s=1}^{2m}\n",
        " \\frac{\\partial L} {\\partial z^{[2](s)}}\n",
        " \\frac{\\partial z^{[2](s)} }{\\partial w_{ij}^{[2]} }\n",
        " $\n",
        "\n",
        " $\n",
        "   \\frac{\\partial L}{\\partial z^{[2](s)} } =2*(z^{[2](s)} - y^{(s)})\n",
        " $ \n",
        "\n",
        "$\\frac{\\partial L} {\\partial z^{[2](s)}}\\frac{\\partial z^{[2](s)} }{\\partial w_{ij}^{[2]} }\n",
        "=  \\sum_{k=1}^{n^{[2]}} \\frac{\\partial L}{\\partial z_{k}^{[2](s)} } \\frac{\\partial  z_{k}^{[2](s)}  }{\\partial w_{ij}^{[2]} } \\\\\n",
        "= \n",
        "\\sum_{k=1}^{n^{[2]}} \\frac{\\partial L}{\\partial z_{k}^{[2](s)} } \\frac{ \\partial   \\sum_{l=1}^{n^{[1]}} a_{l} ^{[1](s)} w_{lk}^{[2]}  }{\\partial w_{ij}^{[2]} }\n",
        "= \\sum_{k=1}^{n^{[2]}} \\frac{\\partial L}{\\partial z_{k}^{[2](s)} } \\frac{   \\sum_{l=1}^{n^{[1]}} a_{l} ^{[1](s)} \\partial w_{lk}^{[2]}  }{\\partial w_{ij}^{[2]} }\n",
        "=  \\frac{\\partial L}{\\partial z_{j}^{[2](s)} } \\frac{    a_{i} ^{[1](s)} \\partial w_{ij}^{[2]}  }{\\partial w_{ij}^{[2]} }\n",
        "=  \\frac{\\partial L}{\\partial z_{j}^{[2](s)} } a_{i}^{[1](s)}\n",
        "$\n",
        "\n",
        "$\\frac{\\partial L}{\\partial W^{[2]}}\n",
        " = \\left[    \\frac{\\partial L}{ \\partial w_{ij}^{[2]} } \\right] \n",
        "= \\left[ \\frac{1}{m}\\sum_{s=1}^{m} a_{i}^{[1](s)} \\frac{\\partial L}{\\partial z_{j}^{[2](s)} } \\right] \\\\\n",
        "= \\frac{1}{m}\\sum_{s=1}^{m} \\left[  a_{i}^{[1](s)} \\frac{\\partial L}{\\partial z_{j}^{[2](s)} } \\right]\n",
        "= \\frac{1}{m}\\sum_{s=1}^{m}  a^{[1](s)^{T}} \\frac{\\partial L}{\\partial z^{[2](s)} }$\n"
      ]
    },
    {
      "cell_type": "markdown",
      "metadata": {
        "id": "A4zu7A1nWnji"
      },
      "source": [
        "$\\frac{\\partial L}{\\partial b^{[2]}}\n",
        "  = \\frac{\\partial L}{\\partial Z^{[2]}} \\frac{\\partial Z^{[2]}}{\\partial b^{[2]}} \\\\\n",
        "  =\\frac{1}{m}\\sum_{s=1}^{m} \n",
        "   \\frac{\\partial L^{(s)}} {\\partial z^{[2](s)}}\n",
        "   \\frac{\\partial z^{[2](s)}}{\\partial b^{[2]}}\n",
        "   =\\frac{1}{m}\\sum_{s=1}^{m} \n",
        "   \\frac{\\partial L^{(s)}} {\\partial z^{[2](s)}}\n",
        "   $\n",
        " \n",
        " \n"
      ]
    },
    {
      "cell_type": "markdown",
      "metadata": {
        "id": "6z60uMeDv5GR"
      },
      "source": [
        ""
      ]
    },
    {
      "cell_type": "markdown",
      "metadata": {
        "id": "34KVl_8bbr8k"
      },
      "source": [
        "\n",
        " $L = \\frac{1}{m}\\sum_{s=1}^{m}(z^{[2](s)} - y^{(s)}) \n",
        " \\cdot(z^{[2](s)} - y^{(s)}) \n",
        "$ \n",
        "\n",
        "$\\frac{\\partial L}{\\partial W^{[1]}}\n",
        " = \\left[    \\frac{\\partial L}{ \\partial w_{ij}^{[1]} } \\right]$\n",
        "\n",
        "$  \\frac{\\partial L}{ \\partial w_{ij}^{[1]} }\n",
        " = \\frac{1}{m}\\sum_{s=1}^{m}\n",
        " \\frac{\\partial L} {\\partial z^{[1](s)}}\n",
        " \\frac{\\partial z^{[1](s)} }{\\partial w_{ij}^{[1]} } \\\\\n",
        " $\n",
        "\n",
        "\n",
        "\n",
        "$\\frac{\\partial L} {\\partial z^{[1](s)}}\n",
        " = \\frac{\\partial L}{\\partial a^{[1](s)}}\n",
        " \\frac{\\partial a^{[1](s)}} {\\partial z^{[1](s)}}\n",
        " = \\frac{\\partial L} {\\partial z^{[2](s)}}\n",
        " \\frac{\\partial z^{[2](s)}} {\\partial a^{[1](s)}}\n",
        " \\frac{\\partial a^{[1](s)}} {\\partial z^{[1](s)}}\n",
        "$\n",
        "\n",
        "\n",
        "$\n",
        "   \\frac{\\partial L}{\\partial z^{[2](s)} } =2*(z^{[2](s)} - y^{(s)})\n",
        " $ \n",
        "\n",
        " $ z^{[2](s)}\n",
        "=  a^{[1](s)} W^{[2]} + b^{[2]}$\n",
        "\n",
        "$ a^{[1](s)} = g( z^{[1](s)} )$\n",
        "\n",
        " $ z^{[1](s)}\n",
        "=  x^{(s)} W^{[1]} + b^{[1]}$\n",
        "\n",
        "$\n",
        " \\frac{\\partial z^{[2](s)}} {\\partial a^{[1](s)}}\n",
        " =  {W^{[2]}}^{T}\n",
        " $\n",
        "\n",
        "$ \\frac{\\partial a^{[1](s)}}{\\partial z^{[1](s)}}\n",
        " =\\frac{\\partial relu(z^{[1](s)} ) } {\\partial z^{[1](s)}} \n",
        " = diag( sgn ( relu'(z^{[1](s)} ) ) )\n",
        " $\n",
        "\n",
        "Here, \n",
        "\n",
        "$ sgn( x) = 1$  if $x > 0$, $0$ otherwise. \n",
        "\n",
        "$\\frac{\\partial L} {\\partial z^{[1](s)}}\n",
        " =\\frac{\\partial L}{\\partial a^{[1](s)}}\n",
        " \\frac{\\partial a^{[1](s)}} {\\partial z^{[1](s)}}\n",
        " = \n",
        " (\\frac{\\partial L} {\\partial z^{[2](s)}}\n",
        " \\frac{\\partial z^{[2](s)}} {\\partial a^{[1](s)}} )\n",
        " \\frac{\\partial a^{[1](s)}} {\\partial z^{[1](s)}} \\\\\n",
        " = ( 2*(z^{[2](s)} - y^{(s)})  {W^{[2]}}^{T} ) \\odot \n",
        " sgn(  relu'( z^{[1](s)} ) )  \n",
        "$\n",
        "\n",
        "$\\frac{\\partial L} {\\partial z^{[1](s)}}\\frac{\\partial z^{[1](s)} }{\\partial w_{ij}^{[1]} }\n",
        "=  \\sum_{k=1}^{n^{[1]}} \\frac{\\partial L}{\\partial z_{k}^{[1](s)} } \\frac{\\partial  z_{k}^{[1](s)}  }{\\partial w_{ij}^{[1]} } \\\\\n",
        "= \n",
        "\\sum_{k=1}^{n^{[1]}} \\frac{\\partial L^{(s)}}{\\partial z_{k}^{[1](s)} } \\frac{ \\partial   \\sum_{l=1}^{n^{[1]}} x_{l} ^{(s)} w_{lk}^{[1]}  }{\\partial w_{ij}^{[1]} }\n",
        "= \\sum_{k=1}^{n^{[1]}} \\frac{\\partial L}{\\partial z_{k}^{[1](s)} } \\frac{   \\sum_{l=1}^{n^{[1]}} x_{l} ^{(s)} \\partial w_{lk}^{[1]}  }{\\partial w_{ij}^{[1]} } \\\\\n",
        "=  \\frac{\\partial L}{\\partial z_{j}^{[1](s)} } \\frac{    x_{i} ^{(s)} \\partial w_{ij}^{[1]}  }{\\partial w_{ij}^{[1]} }\n",
        "=  \\frac{\\partial L}{\\partial z_{j}^{[1](s)} } x_{i}^{(s)}\n",
        "$\n",
        "\n",
        "$\\frac{\\partial L}{\\partial W^{[1]}}\n",
        " = \\left[    \\frac{\\partial L}{ \\partial w_{ij}^{[1]} } \\right] \n",
        "= \\left[ \\frac{1}{m}\\sum_{s=1}^{m} x_{i}^{(s)} \\frac{\\partial L}{\\partial z_{j}^{[1](s)} } \\right] \\\\\n",
        "= \\frac{1}{m}\\sum_{s=1}^{m} \\left[  x_{i}^{(s)} \\frac{\\partial L}{\\partial z_{j}^{[1](s)} } \\right]\n",
        "= \\frac{1}{m}\\sum_{s=1}^{m}  x^{(s)^{T}} \\frac{\\partial L}{\\partial z^{[1](s)} }\n",
        "$\n"
      ]
    },
    {
      "cell_type": "markdown",
      "metadata": {
        "id": "6g3pESYSbrU0"
      },
      "source": [
        "$\\frac{\\partial L}{\\partial b^{[1]}}\n",
        "  = \\frac{1}{m}\\frac{\\partial L}{\\partial b^{[1]}}  \n",
        "  =\\frac{1}{m}\\sum_{s=1}^{m} \n",
        "   \\frac{\\partial L} {\\partial z^{[1](s)}}\n",
        "   \\frac{\\partial z^{[1](s)}}{\\partial b^{[1]}} \\\\\n",
        "  =\\frac{1}{m}\\sum_{s=1}^{m} \n",
        "   \\frac{\\partial L} {\\partial z^{[2](s)}}\n",
        "    \\frac{\\partial z^{[2](s)}} {\\partial a^{[1](s)}}    \n",
        "    \\frac{\\partial a^{[1](s)}} {\\partial z^{[1](s)}} I \\\\\n",
        "    =\\frac{1}{m}\\sum_{s=1}^{m} \n",
        "   \\frac{\\partial L} {\\partial z^{[2](s)}}\n",
        "    {W^{[2]}}^{T}  \n",
        "    diag( \\frac{\\partial relu} {\\partial z^{[1](s)}} )\\\\\n",
        "     =\\frac{1}{m}\\sum_{s=1}^{m} \n",
        "   \\frac{\\partial L} {\\partial z^{[2](s)}}\n",
        "    {W^{[2]}}^{T} \\odot  \\frac{\\partial relu} {\\partial z^{[1](s)}} \n",
        "   $\n",
        "     "
      ]
    },
    {
      "cell_type": "markdown",
      "metadata": {
        "id": "MvvFiiM6H3DI"
      },
      "source": [
        "\n",
        " "
      ]
    },
    {
      "cell_type": "markdown",
      "metadata": {
        "id": "jjkKEwU1Hsci"
      },
      "source": [
        "\n",
        " "
      ]
    },
    {
      "cell_type": "markdown",
      "metadata": {
        "id": "fQGc9Mb0Hyij"
      },
      "source": [
        ""
      ]
    },
    {
      "cell_type": "markdown",
      "metadata": {
        "id": "lX8wDzNtt7vB"
      },
      "source": [
        " mse() function computes and returns the value of the loss function L:\n",
        " \n",
        " $L (Z2, Y)  = \\frac{1}{m}\\sum_{s=1}^{m}(z^{[2](s)} - y^{(s)}) \n",
        " \\cdot(z^{[2](s)} - y^{(s)}) \\\\\n",
        "$ \n"
      ]
    },
    {
      "cell_type": "code",
      "metadata": {
        "id": "eOU_T3Lc5-YL"
      },
      "source": [
        "#export\n",
        "def mse(Z2, Y_train):\n",
        "    # we want to drop the last dimension\n",
        "    return (Z2.squeeze(-1) - Y_train).pow(2).mean()"
      ],
      "execution_count": 72,
      "outputs": []
    },
    {
      "cell_type": "code",
      "metadata": {
        "id": "HkGRdw8y5-YL"
      },
      "source": [
        "# converting to float (from tensors)\n",
        "Y_train,Y_valid = Y_train.float(),Y_valid.float()"
      ],
      "execution_count": 74,
      "outputs": []
    },
    {
      "cell_type": "code",
      "metadata": {
        "id": "hakvToYZ5-YL",
        "colab": {
          "base_uri": "https://localhost:8080/"
        },
        "outputId": "86050ad3-96cc-445f-9972-222db277d53f"
      },
      "source": [
        "# make our predictions\n",
        "Z2 = model(X_train)\n",
        "print(Z2.shape)"
      ],
      "execution_count": 75,
      "outputs": [
        {
          "output_type": "stream",
          "text": [
            "torch.Size([50000, 1])\n"
          ],
          "name": "stdout"
        }
      ]
    },
    {
      "cell_type": "code",
      "metadata": {
        "id": "kjWh0D-pdEfR",
        "colab": {
          "base_uri": "https://localhost:8080/"
        },
        "outputId": "247cc039-481c-4a6e-89c1-fdabc433fdea"
      },
      "source": [
        "# check our mse\n",
        "print(mse(Z2, Y_train))"
      ],
      "execution_count": 77,
      "outputs": [
        {
          "output_type": "stream",
          "text": [
            "tensor(32.4952)\n"
          ],
          "name": "stdout"
        }
      ]
    },
    {
      "cell_type": "code",
      "metadata": {
        "id": "YYhDKsRZHEck"
      },
      "source": [
        ""
      ],
      "execution_count": null,
      "outputs": []
    },
    {
      "cell_type": "code",
      "metadata": {
        "id": "RV1dQvJm5-YM",
        "colab": {
          "base_uri": "https://localhost:8080/"
        },
        "outputId": "fbf14bc8-34a9-4827-df60-11880f1ecd50"
      },
      "source": [
        "loss = mse(Z2, Y_train)\n",
        "loss"
      ],
      "execution_count": 79,
      "outputs": [
        {
          "output_type": "execute_result",
          "data": {
            "text/plain": [
              "tensor(32.4952)"
            ]
          },
          "metadata": {
            "tags": []
          },
          "execution_count": 79
        }
      ]
    },
    {
      "cell_type": "markdown",
      "metadata": {
        "id": "9G-jJnb45-YM"
      },
      "source": [
        "### Gradients and backward pass"
      ]
    },
    {
      "cell_type": "markdown",
      "metadata": {
        "id": "XpgdxO7D5-YM"
      },
      "source": [
        "[Jump_to lesson 8 video](https://course.fast.ai/videos/?lesson=8&t=6493)"
      ]
    },
    {
      "cell_type": "markdown",
      "metadata": {
        "id": "vanPTJUeIbQv"
      },
      "source": [
        "One thing we should learn is the chain rule.\n",
        "\n",
        "When we are working through our functions, the order works like this:\n",
        "\n"
      ]
    },
    {
      "cell_type": "markdown",
      "metadata": {
        "id": "okIIqki9zN0B"
      },
      "source": [
        "$L = \\frac{1}{m}\\sum_{s=1}^{m}(z^{[2](s)} - y^{(s)}) \n",
        " \\cdot(z^{[2](s)} - y^{(s)})$\n",
        "\n",
        " Compute the gradient of $L$ with respect to $Z^{[2]}$:\n",
        "\n",
        "$ \\frac{ \\partial L }{ \\partial Z^{[2]} } \n",
        "= \\begin{bmatrix}\n",
        " \\frac{ \\partial L }{ \\partial z^{[2](1)} } \\\\\n",
        " \\vdots \\\\\n",
        " \\frac{ \\partial L }{ \\partial z^{[2](m)} }\n",
        "\\end{bmatrix}\n",
        "$\n",
        "\n",
        " $\n",
        "   \\frac{\\partial L}{\\partial z^{[2](s)} } =2*(z^{[2](s)} - y^{(s)}) / m\n",
        " $ "
      ]
    },
    {
      "cell_type": "markdown",
      "metadata": {
        "id": "M1QiRxoUJadR"
      },
      "source": [
        "**MSE**"
      ]
    },
    {
      "cell_type": "code",
      "metadata": {
        "id": "eQVon0G75-YN"
      },
      "source": [
        "def mse_grad(Z2, Y_train): \n",
        "    # compute the grad of loss L with respect to Z2 and store it in Z2.g\n",
        "   \n",
        "\n",
        "    #print (inp.g.shape)\n",
        "    # tensor x_train is given a new field that contains its gradient relative y_hat\n",
        "    m = Z2.shape[0] # the number of rows in Z2\n",
        "    Z2.g = 2. * (Z2.squeeze() - Y_train).unsqueeze(-1) / m\n",
        "    "
      ],
      "execution_count": 80,
      "outputs": []
    },
    {
      "cell_type": "markdown",
      "metadata": {
        "id": "w049dquY8d3_"
      },
      "source": [
        "$ \\frac{\\partial a^{[1](s)}}{\\partial z^{[1](s)}}\n",
        " =\\frac{\\partial relu(z^{[1](s)} ) } {\\partial z^{[1](s)}} \n",
        " = diag( sgn ( relu'(z^{[1](s)} ) ) )\n",
        " $\n",
        "\n",
        "Here, \n",
        "\n",
        "$ sgn( x) = 1$  if $x > 0$, $0$ otherwise.\n",
        "\n",
        "Represent the diagonal matrix \n",
        "$diag( sgn ( relu'(z^{[1](s)} ) ) )$ as a vector $sgn ( relu'(z^{[1](s)} ) )$.\n",
        "\n",
        "\n"
      ]
    },
    {
      "cell_type": "markdown",
      "metadata": {
        "id": "XnB77rh8Jhg8"
      },
      "source": [
        "**Relu**\n",
        "\n",
        "With relu, we know the different gradients, which is either 1 for positive values, or 0 for all others. AS a result, we can easily determine what the relu_grad should be, without a lot of math fuss.\n",
        "\n",
        "The following math code reads:"
      ]
    },
    {
      "cell_type": "code",
      "metadata": {
        "id": "L6uuYz5k5-YP"
      },
      "source": [
        "def relu_grad(Z1, A1):\n",
        "    # grad of the activation, relu,  with respect to Z1, and store it in Z1.g\n",
        "    Z1.g = (Z1>0).float() * A1.g"
      ],
      "execution_count": 81,
      "outputs": []
    },
    {
      "cell_type": "markdown",
      "metadata": {
        "id": "KJnS7K7RAbny"
      },
      "source": [
        "Function lin_grad2(A1, Z2, W2, b2) computes three gradients as follows:\n",
        "\n",
        "(1) $\n",
        "\\frac{\\partial L}{\\partial a^{[1](s)}}\n",
        "=(\\frac{\\partial L} {\\partial z^{[2](s)}}\n",
        " \\frac{\\partial z^{[2](s)}} {\\partial a^{[1](s)}} )\n",
        "= ( 2*(z^{[2](s)} - y^{(s)})  {W^{[2]}}^{T} )$\n",
        "\n",
        "It will be used to compute the following gradient later:\n",
        "\n",
        "$\\frac{\\partial L} {\\partial z^{[1](s)}}\n",
        " =\\frac{\\partial L}{\\partial a^{[1](s)}}\n",
        " \\frac{\\partial a^{[1](s)}} {\\partial z^{[1](s)}}\n",
        " = \n",
        " (\\frac{\\partial L} {\\partial z^{[2](s)}}\n",
        " \\frac{\\partial z^{[2](s)}} {\\partial a^{[1](s)}} )\n",
        " \\frac{\\partial a^{[1](s)}} {\\partial z^{[1](s)}} \\\\\n",
        " = ( 2*(z^{[2](s)} - y^{(s)})  {W^{[2]}}^{T} ) \\odot \n",
        " sgn(  relu'( z^{[1](s)} ) )  \n",
        "$\n",
        "\n",
        "(2)\n",
        "$\\frac{\\partial L}{\\partial W^{[2]}}\n",
        " = \\left[    \\frac{\\partial L^{(s)}}{ \\partial w_{ij}^{[2]} } \\right] \n",
        "= \\left[ \\frac{1}{m}\\sum_{s=1}^{m} a_{i}^{[1](s)} \\frac{\\partial L^{(s)}}{\\partial z_{j}^{[2](s)} } \\right] \\\\\n",
        "= \\frac{1}{m}\\sum_{s=1}^{m} \\left[  a_{i}^{[1](s)} \\frac{\\partial L^{(s)}}{\\partial z_{j}^{[2](s)} } \\right]\n",
        "= \\sum_{s=1}^{m}  a^{[1](s)^{T}} \\frac{1}{m}\\frac{\\partial L^{(s)}}{\\partial z^{[2](s)} }$\n",
        "\n",
        "(3)\n",
        "$\\frac{\\partial L}{\\partial b^{[2]}}\n",
        "  = \\frac{\\partial L}{\\partial Z^{[2]}} \\frac{\\partial Z^{[2]}}{\\partial b^{[2]}} \\\\\n",
        "  =\\frac{1}{m}\\sum_{s=1}^{m} \n",
        "   \\frac{\\partial L^{(s)}} {\\partial z^{[2](s)}}\n",
        "   \\frac{\\partial z^{[2](s)}}{\\partial b^{[2]}}\n",
        "   =\\frac{1}{m}\\sum_{s=1}^{m} \n",
        "   \\frac{\\partial L^{(s)}} {\\partial z^{[2](s)}}\n",
        "   $"
      ]
    },
    {
      "cell_type": "markdown",
      "metadata": {
        "id": "dz0Qt2JpKNqF"
      },
      "source": [
        "**Linear Layer**\n",
        "\n",
        "We do the backwards operation and use the transpose\n",
        "\n",
        "**This is backpropogation**\n",
        "\n",
        "We save intermediate calculations, so we don’t have to calculate twice. As a note, loss is not typically something that is needed in calculating forward and back propogation"
      ]
    },
    {
      "cell_type": "code",
      "metadata": {
        "id": "omBAYDnh5-YP"
      },
      "source": [
        "def lin_grad2(A1, Z2, W2, b2):\n",
        "    # grad of L   with respect to A1\n",
        "    A1.g = Z2.g @ W2.t()\n",
        "     # grad of L   with respect to W2\n",
        "    W2.g = (A1.unsqueeze(-1) * Z2.g.unsqueeze(1)).sum(0)\n",
        "    # grad of L   with respect to b2\n",
        "    b2.g = Z2.g.sum(0)"
      ],
      "execution_count": 86,
      "outputs": []
    },
    {
      "cell_type": "code",
      "metadata": {
        "id": "nhil8iIu_3GK"
      },
      "source": [
        "def lin_grad1(X, Z1, W1, b1):\n",
        "    # grad of L with respect to X\n",
        "    X.g = Z1.g @ W1.t()\n",
        "     # grad of L   with respect to W1\n",
        "    W1.g = (X.unsqueeze(-1) * Z1.g.unsqueeze(1)).sum(0)\n",
        "    # grad of L   with respect to b1\n",
        "    b1.g = Z1.g.sum(0)"
      ],
      "execution_count": 87,
      "outputs": []
    },
    {
      "cell_type": "code",
      "metadata": {
        "id": "QubdDuqC5-YP"
      },
      "source": [
        "def forward_and_backward(X_train, Y_train): \n",
        "    # forward pass:\n",
        "    Z1 = X_train @ W1 + b1 # Z1 is a matrix\n",
        "    A1 = relu(Z1)          # A1 is a matrix\n",
        "    Z2 = A1 @ W2 + b2      # Z2 is a matrix\n",
        "\n",
        " \n",
        "    # we don't actually need the loss in backward!\n",
        "    loss = mse(Z2, Y_train) \n",
        "\n",
        "    # backward pass:\n",
        "    # compute the gradient of the loss L with respect to Z2 and store it in Z2.g\n",
        "    mse_grad(Z2, Y_train) \n",
        "\n",
        "    # compute the gradient of Z2 with respect to A1, and store it in A1.g\n",
        "    lin_grad2(A1, Z2, W2, b2) # xf. Z2 = A1 @ W2 + b2\n",
        "    relu_grad(Z1, A1)        # cf. A1 = relu(A1)\n",
        "    lin_grad1(X_train, Z1, W1, b1) #cf. Z1 = X_train @ W1 + b1"
      ],
      "execution_count": 88,
      "outputs": []
    },
    {
      "cell_type": "markdown",
      "metadata": {
        "id": "D2MjOKHzKm__"
      },
      "source": [
        "**Test and compare vs. pytorch version**"
      ]
    },
    {
      "cell_type": "code",
      "metadata": {
        "id": "oEh55i9J5-YQ"
      },
      "source": [
        "forward_and_backward(X_train, Y_train)"
      ],
      "execution_count": 89,
      "outputs": []
    },
    {
      "cell_type": "code",
      "metadata": {
        "id": "I9vfp9Gd5-YQ"
      },
      "source": [
        "# Save for testing against later\n",
        "W1g = W1.g.clone()\n",
        "W2g = W2.g.clone()\n",
        "b1g = b1.g.clone()\n",
        "b2g = b2.g.clone()\n",
        "ig  = X_train.g.clone()"
      ],
      "execution_count": 90,
      "outputs": []
    },
    {
      "cell_type": "markdown",
      "metadata": {
        "id": "7axjYSJd5-YQ"
      },
      "source": [
        "We cheat a little bit and use PyTorch autograd to check our results."
      ]
    },
    {
      "cell_type": "code",
      "metadata": {
        "id": "rflckM445-YR"
      },
      "source": [
        "#Test and compare vs. pytorch version\n",
        "xt2 = X_train.clone().requires_grad_(True)\n",
        "W12 = W1.clone().requires_grad_(True)\n",
        "W22 = W2.clone().requires_grad_(True)\n",
        "b12 = b1.clone().requires_grad_(True)\n",
        "b22 = b2.clone().requires_grad_(True)"
      ],
      "execution_count": 91,
      "outputs": []
    },
    {
      "cell_type": "code",
      "metadata": {
        "id": "xkMyi0E75-YS"
      },
      "source": [
        "def forward(X_train, Y_train):\n",
        "    # forward pass:\n",
        "    Z1 = X_train  @ W12 + b12\n",
        "    A1 = relu(Z1)\n",
        "    Z2 = A1 @ W22 + b22\n",
        "    # we don't actually need the loss in backward!\n",
        "    return mse(Z2, Y_train)"
      ],
      "execution_count": 92,
      "outputs": []
    },
    {
      "cell_type": "code",
      "metadata": {
        "id": "-sW2yU7c5-YS"
      },
      "source": [
        "loss = forward(xt2, Y_train)"
      ],
      "execution_count": 93,
      "outputs": []
    },
    {
      "cell_type": "code",
      "metadata": {
        "id": "jdIyWWhL5-YT"
      },
      "source": [
        "loss.backward()"
      ],
      "execution_count": 94,
      "outputs": []
    },
    {
      "cell_type": "code",
      "metadata": {
        "id": "32fqWKXq5-YT"
      },
      "source": [
        "test_near(W22.grad, W2g)\n",
        "test_near(b22.grad, b2g)\n",
        "test_near(W12.grad, W1g)\n",
        "test_near(b12.grad, b1g)\n",
        "test_near(xt2.grad, ig )"
      ],
      "execution_count": 95,
      "outputs": []
    },
    {
      "cell_type": "markdown",
      "metadata": {
        "id": "UE13DUntLg9e"
      },
      "source": [
        "**Wrapping up**\n",
        "\n",
        "This is a neural network that has all the parts so far, and we’ve written all the pieces"
      ]
    },
    {
      "cell_type": "markdown",
      "metadata": {
        "id": "60sY6g9A5-YT"
      },
      "source": [
        "## Refactor model"
      ]
    },
    {
      "cell_type": "markdown",
      "metadata": {
        "id": "QqwIwiob5-YU"
      },
      "source": [
        "### Layers as classes"
      ]
    },
    {
      "cell_type": "markdown",
      "metadata": {
        "id": "Zx8xOAVaLwLL"
      },
      "source": [
        "This is very similar to the pytorch API. For each of these functions we combine the forward and backward functions in a single class. Relu will have its own forward and backward functions\n",
        "\n",
        "**__call __** treats the class like a function\n",
        "\n"
      ]
    },
    {
      "cell_type": "markdown",
      "metadata": {
        "id": "ujwhx_1x5-YU"
      },
      "source": [
        "[Jump_to lesson 8 video](https://course.fast.ai/videos/?lesson=8&t=7112)"
      ]
    },
    {
      "cell_type": "code",
      "metadata": {
        "id": "5MozUwDh5-YU"
      },
      "source": [
        "class Relu():\n",
        "    def __call__(self, inp):\n",
        "        self.inp = inp\n",
        "        self.out = inp.clamp_min(0.)-0.5\n",
        "        return self.out\n",
        "    \n",
        "    def backward(self): self.inp.g = (self.inp>0).float() * self.out.g"
      ],
      "execution_count": null,
      "outputs": []
    },
    {
      "cell_type": "markdown",
      "metadata": {
        "id": "fkBe_BFnMAEv"
      },
      "source": [
        "As a reminder, in the linear layer Lin we need the gradient of the outputs respect to the weights and outputs respect to the biases"
      ]
    },
    {
      "cell_type": "code",
      "metadata": {
        "id": "qzMZHFNE5-YV"
      },
      "source": [
        "class Lin():\n",
        "    def __init__(self, w, b): self.w,self.b = w,b\n",
        "        \n",
        "    def __call__(self, inp):\n",
        "        self.inp = inp\n",
        "        self.out = inp@self.w + self.b\n",
        "        return self.out\n",
        "    \n",
        "    def backward(self):\n",
        "        self.inp.g = self.out.g @ self.w.t()\n",
        "        # Creating a giant outer product, just to sum it, is inefficient!\n",
        "        self.w.g = (self.inp.unsqueeze(-1) * self.out.g.unsqueeze(1)).sum(0)\n",
        "        self.b.g = self.out.g.sum(0)"
      ],
      "execution_count": null,
      "outputs": []
    },
    {
      "cell_type": "code",
      "metadata": {
        "id": "Dxirmfwb5-YW"
      },
      "source": [
        "class Mse():\n",
        "    def __call__(self, inp, targ):\n",
        "        self.inp = inp\n",
        "        self.targ = targ\n",
        "        self.out = (inp.squeeze() - targ).pow(2).mean()\n",
        "        return self.out\n",
        "    \n",
        "    def backward(self):\n",
        "        self.inp.g = 2. * (self.inp.squeeze() - self.targ).unsqueeze(-1) / self.targ.shape[0]"
      ],
      "execution_count": null,
      "outputs": []
    },
    {
      "cell_type": "markdown",
      "metadata": {
        "id": "aUeXGM1EMGvi"
      },
      "source": [
        "Let’s make our model a class as well. There is no pytorch functions or utils used in this class"
      ]
    },
    {
      "cell_type": "code",
      "metadata": {
        "id": "w1guaMoQ5-YW"
      },
      "source": [
        "class Model():\n",
        "    def __init__(self, w1, b1, w2, b2):\n",
        "        self.layers = [Lin(w1,b1), Relu(), Lin(w2,b2)]\n",
        "        self.loss = Mse()\n",
        "        \n",
        "    def __call__(self, x, targ):\n",
        "        for l in self.layers: x = l(x)\n",
        "        return self.loss(x, targ)\n",
        "    \n",
        "    def backward(self):\n",
        "        self.loss.backward()\n",
        "        for l in reversed(self.layers): l.backward()"
      ],
      "execution_count": null,
      "outputs": []
    },
    {
      "cell_type": "markdown",
      "metadata": {
        "id": "qNa-afynMNol"
      },
      "source": [
        "###Let’s train:"
      ]
    },
    {
      "cell_type": "code",
      "metadata": {
        "id": "MorGG1Qu5-YX"
      },
      "source": [
        "W1.g,b1.g,W2.g,b2.g = [None]*4\n",
        "model = Model(W1, b1, W2, b2)"
      ],
      "execution_count": null,
      "outputs": []
    },
    {
      "cell_type": "code",
      "metadata": {
        "id": "5Ol-P22k5-YX",
        "colab": {
          "base_uri": "https://localhost:8080/"
        },
        "outputId": "7fe3fd35-00ba-44e9-a689-20792162c43c"
      },
      "source": [
        "%time loss = model(X_train, Y_train)"
      ],
      "execution_count": null,
      "outputs": [
        {
          "output_type": "stream",
          "text": [
            "CPU times: user 78.2 ms, sys: 0 ns, total: 78.2 ms\n",
            "Wall time: 78.4 ms\n"
          ],
          "name": "stdout"
        }
      ]
    },
    {
      "cell_type": "code",
      "metadata": {
        "id": "NSbKFUYs5-YY",
        "colab": {
          "base_uri": "https://localhost:8080/"
        },
        "outputId": "348f3666-a782-4a2f-e1e2-c3ae43795d67"
      },
      "source": [
        "%time model.backward()"
      ],
      "execution_count": null,
      "outputs": [
        {
          "output_type": "stream",
          "text": [
            "CPU times: user 2.85 s, sys: 3.19 s, total: 6.04 s\n",
            "Wall time: 6.06 s\n"
          ],
          "name": "stdout"
        }
      ]
    },
    {
      "cell_type": "code",
      "metadata": {
        "id": "V7BfDx_v5-YY"
      },
      "source": [
        "test_near(W2g, W2.g)\n",
        "test_near(b2g, b2.g)\n",
        "test_near(W1g, W1.g)\n",
        "test_near(b1g, b1.g)\n",
        "test_near(ig, X_train.g)"
      ],
      "execution_count": null,
      "outputs": []
    },
    {
      "cell_type": "markdown",
      "metadata": {
        "id": "cmCmOpUo5-YY"
      },
      "source": [
        "### Module.forward()"
      ]
    },
    {
      "cell_type": "markdown",
      "metadata": {
        "id": "iqITZ0HfM9DE"
      },
      "source": [
        "**Designing around a generic class with common functions**\n",
        "\n",
        "let’s try and reduce the amount of duplicate code. This will be designed in a generic module class. Then for each function we will extend the base module for each.\n",
        "\n",
        "Also will speed up the linear layer using einsum instead of the previous array manipulation"
      ]
    },
    {
      "cell_type": "code",
      "metadata": {
        "id": "IcdPHsTz5-YY"
      },
      "source": [
        "class Module():\n",
        "    def __call__(self, *args):\n",
        "        self.args = args\n",
        "        self.out = self.forward(*args)\n",
        "        return self.out\n",
        "    \n",
        "    def forward(self): raise Exception('not implemented')\n",
        "    def backward(self): self.bwd(self.out, *self.args)"
      ],
      "execution_count": null,
      "outputs": []
    },
    {
      "cell_type": "code",
      "metadata": {
        "id": "C1yFJbHU5-YZ"
      },
      "source": [
        "# ============================================\n",
        "# Relu extended from module class\n",
        "# ============================================     \n",
        "class Relu(Module):\n",
        "    def forward(self, inp): return inp.clamp_min(0.)-0.5\n",
        "    def bwd(self, out, inp): inp.g = (inp>0).float() * out.g"
      ],
      "execution_count": null,
      "outputs": []
    },
    {
      "cell_type": "code",
      "metadata": {
        "id": "3XcYzhPO5-Ya"
      },
      "source": [
        "# ============================================\n",
        "# linear layer extended from module class\n",
        "# ============================================\n",
        "class Lin(Module):\n",
        "    def __init__(self, w, b): self.w,self.b = w,b\n",
        "        \n",
        "    def forward(self, inp): return inp@self.w + self.b\n",
        "    \n",
        "    def bwd(self, out, inp):\n",
        "        inp.g = out.g @ self.w.t()\n",
        "        self.w.g = torch.einsum(\"bi,bj->ij\", inp, out.g)\n",
        "        self.b.g = out.g.sum(0)"
      ],
      "execution_count": null,
      "outputs": []
    },
    {
      "cell_type": "code",
      "metadata": {
        "id": "16qFhJ2q5-Ya"
      },
      "source": [
        "# ============================================\n",
        "# MSE extended from module\n",
        "# ============================================\n",
        "class Mse(Module):\n",
        "    def forward (self, inp, targ): return (inp.squeeze() - targ).pow(2).mean()\n",
        "    def bwd(self, out, inp, targ): inp.g = 2*(inp.squeeze()-targ).unsqueeze(-1) / targ.shape[0]"
      ],
      "execution_count": null,
      "outputs": []
    },
    {
      "cell_type": "code",
      "metadata": {
        "id": "KLFSVnB35-Yb"
      },
      "source": [
        "# ============================================\n",
        "# Remake the model\n",
        "# ============================================\n",
        "class Model():\n",
        "    def __init__(self):\n",
        "        self.layers = [Lin(W1,b1), Relu(), Lin(W2,b2)]\n",
        "        self.loss = Mse()\n",
        "        \n",
        "    def __call__(self, x, targ):\n",
        "        for l in self.layers: x = l(x)\n",
        "        return self.loss(x, targ)\n",
        "    \n",
        "    def backward(self):\n",
        "        self.loss.backward()\n",
        "        for l in reversed(self.layers): l.backward()"
      ],
      "execution_count": null,
      "outputs": []
    },
    {
      "cell_type": "markdown",
      "metadata": {
        "id": "cP4eBZ3zNVqm"
      },
      "source": [
        "**Let’s re-time it again**"
      ]
    },
    {
      "cell_type": "code",
      "metadata": {
        "id": "_Ut8ItyX5-Yb"
      },
      "source": [
        "W1.g,b1.g,W2.g,b2.g = [None]*4\n",
        "model = Model()"
      ],
      "execution_count": null,
      "outputs": []
    },
    {
      "cell_type": "code",
      "metadata": {
        "id": "fm9UYns25-Yc",
        "colab": {
          "base_uri": "https://localhost:8080/"
        },
        "outputId": "f38d7ba2-ffe7-4793-c7ca-d22968e6dea8"
      },
      "source": [
        "%time loss = model(X_train, Y_train)"
      ],
      "execution_count": null,
      "outputs": [
        {
          "output_type": "stream",
          "text": [
            "CPU times: user 74.2 ms, sys: 4.71 ms, total: 78.9 ms\n",
            "Wall time: 79 ms\n"
          ],
          "name": "stdout"
        }
      ]
    },
    {
      "cell_type": "code",
      "metadata": {
        "id": "cJg2fbgu5-Yd",
        "colab": {
          "base_uri": "https://localhost:8080/"
        },
        "outputId": "71d16e93-160c-4b84-ffa1-4a9c376d1934"
      },
      "source": [
        "%time model.backward()"
      ],
      "execution_count": null,
      "outputs": [
        {
          "output_type": "stream",
          "text": [
            "CPU times: user 159 ms, sys: 8.04 ms, total: 168 ms\n",
            "Wall time: 172 ms\n"
          ],
          "name": "stdout"
        }
      ]
    },
    {
      "cell_type": "code",
      "metadata": {
        "id": "MMVSU5vX5-Yf"
      },
      "source": [
        "test_near(W2g, W2.g)\n",
        "test_near(b2g, b2.g)\n",
        "test_near(W1g, W1.g)\n",
        "test_near(b1g, b1.g)\n",
        "test_near(ig, X_train.g)"
      ],
      "execution_count": null,
      "outputs": []
    },
    {
      "cell_type": "markdown",
      "metadata": {
        "id": "T7CoEs8B5-Yf"
      },
      "source": [
        "### Without einsum"
      ]
    },
    {
      "cell_type": "markdown",
      "metadata": {
        "id": "9Jkbry0n5-Yg"
      },
      "source": [
        "[Jump_to lesson 8 video](https://course.fast.ai/videos/?lesson=8&t=7484)"
      ]
    },
    {
      "cell_type": "code",
      "metadata": {
        "id": "BRMk9VkP5-Yg"
      },
      "source": [
        "class Lin(Module):\n",
        "    def __init__(self, w, b): self.w,self.b = w,b\n",
        "        \n",
        "    def forward(self, inp): return inp@self.w + self.b\n",
        "    \n",
        "    def bwd(self, out, inp):\n",
        "        inp.g = out.g @ self.w.t()\n",
        "        self.w.g = inp.t() @ out.g\n",
        "        self.b.g = out.g.sum(0)"
      ],
      "execution_count": null,
      "outputs": []
    },
    {
      "cell_type": "code",
      "metadata": {
        "id": "WYeUhw3_5-Yg"
      },
      "source": [
        "W1.g,b1.g,W2.g,b2.g = [None]*4\n",
        "model = Model()"
      ],
      "execution_count": null,
      "outputs": []
    },
    {
      "cell_type": "code",
      "metadata": {
        "id": "xSLm1_Zp5-Yh",
        "colab": {
          "base_uri": "https://localhost:8080/"
        },
        "outputId": "96050216-e497-4fb5-a23a-87bdb3905b1c"
      },
      "source": [
        "%time loss = model(X_train, Y_train)"
      ],
      "execution_count": null,
      "outputs": [
        {
          "output_type": "stream",
          "text": [
            "CPU times: user 80.1 ms, sys: 0 ns, total: 80.1 ms\n",
            "Wall time: 80.1 ms\n"
          ],
          "name": "stdout"
        }
      ]
    },
    {
      "cell_type": "code",
      "metadata": {
        "id": "b1awZuZK5-Yi",
        "colab": {
          "base_uri": "https://localhost:8080/"
        },
        "outputId": "e63df6de-668d-4be7-b974-0d2d49e1de2a"
      },
      "source": [
        "%time model.backward()"
      ],
      "execution_count": null,
      "outputs": [
        {
          "output_type": "stream",
          "text": [
            "CPU times: user 152 ms, sys: 616 µs, total: 152 ms\n",
            "Wall time: 153 ms\n"
          ],
          "name": "stdout"
        }
      ]
    },
    {
      "cell_type": "code",
      "metadata": {
        "id": "Wil2jhwW5-Yj"
      },
      "source": [
        "test_near(W2g, W2.g)\n",
        "test_near(b2g, b2.g)\n",
        "test_near(W1g, W1.g)\n",
        "test_near(b1g, b1.g)\n",
        "test_near(ig, X_train.g)"
      ],
      "execution_count": null,
      "outputs": []
    },
    {
      "cell_type": "markdown",
      "metadata": {
        "id": "NjABxzup5-Yj"
      },
      "source": [
        "### nn.Linear and nn.Module"
      ]
    },
    {
      "cell_type": "code",
      "metadata": {
        "id": "7aBlWkwq5-Yj"
      },
      "source": [
        "#export\n",
        "from torch import nn"
      ],
      "execution_count": null,
      "outputs": []
    },
    {
      "cell_type": "code",
      "metadata": {
        "id": "ulk-yUVr5-Yj"
      },
      "source": [
        "class Model(nn.Module):\n",
        "    def __init__(self, n_in, nh, n_out):\n",
        "        super().__init__()\n",
        "        self.layers = [nn.Linear(n_in,nh), nn.ReLU(), nn.Linear(nh,n_out)]\n",
        "        self.loss = mse\n",
        "        \n",
        "    def __call__(self, x, targ):\n",
        "        for l in self.layers: x = l(x)\n",
        "        return self.loss(x.squeeze(), targ)"
      ],
      "execution_count": null,
      "outputs": []
    },
    {
      "cell_type": "code",
      "metadata": {
        "id": "sc8BGGYn5-Yk"
      },
      "source": [
        "model = Model(n0, n1, 1)"
      ],
      "execution_count": null,
      "outputs": []
    },
    {
      "cell_type": "code",
      "metadata": {
        "id": "Yk8W6T6I5-Yk",
        "colab": {
          "base_uri": "https://localhost:8080/"
        },
        "outputId": "48c71eec-cac9-45fb-e38f-e3f2153b2f9b"
      },
      "source": [
        "%time loss = model(X_train, Y_train)"
      ],
      "execution_count": null,
      "outputs": [
        {
          "output_type": "stream",
          "text": [
            "CPU times: user 82.5 ms, sys: 1.24 ms, total: 83.8 ms\n",
            "Wall time: 86 ms\n"
          ],
          "name": "stdout"
        }
      ]
    },
    {
      "cell_type": "code",
      "metadata": {
        "id": "EABCQagY5-Yk",
        "outputId": "f0137715-96df-421e-e29d-f701af6fd440"
      },
      "source": [
        "%time loss.backward()"
      ],
      "execution_count": null,
      "outputs": [
        {
          "output_type": "stream",
          "text": [
            "CPU times: user 135 ms, sys: 78.1 ms, total: 213 ms\n",
            "Wall time: 71.1 ms\n"
          ],
          "name": "stdout"
        }
      ]
    },
    {
      "cell_type": "markdown",
      "metadata": {
        "id": "GDFieAnU5-Yl"
      },
      "source": [
        "## Export"
      ]
    },
    {
      "cell_type": "code",
      "metadata": {
        "id": "lghBTExoWqDK",
        "colab": {
          "base_uri": "https://localhost:8080/"
        },
        "outputId": "b40e465d-50ce-4d7f-8b01-d6648065d464"
      },
      "source": [
        "!pip install fire"
      ],
      "execution_count": null,
      "outputs": [
        {
          "output_type": "stream",
          "text": [
            "Collecting fire\n",
            "\u001b[?25l  Downloading https://files.pythonhosted.org/packages/11/07/a119a1aa04d37bc819940d95ed7e135a7dcca1c098123a3764a6dcace9e7/fire-0.4.0.tar.gz (87kB)\n",
            "\r\u001b[K     |███▊                            | 10kB 22.3MB/s eta 0:00:01\r\u001b[K     |███████▌                        | 20kB 26.9MB/s eta 0:00:01\r\u001b[K     |███████████▏                    | 30kB 21.3MB/s eta 0:00:01\r\u001b[K     |███████████████                 | 40kB 24.7MB/s eta 0:00:01\r\u001b[K     |██████████████████▊             | 51kB 23.9MB/s eta 0:00:01\r\u001b[K     |██████████████████████▍         | 61kB 26.3MB/s eta 0:00:01\r\u001b[K     |██████████████████████████▏     | 71kB 19.9MB/s eta 0:00:01\r\u001b[K     |██████████████████████████████  | 81kB 21.1MB/s eta 0:00:01\r\u001b[K     |████████████████████████████████| 92kB 9.2MB/s \n",
            "\u001b[?25hRequirement already satisfied: six in /usr/local/lib/python3.7/dist-packages (from fire) (1.15.0)\n",
            "Requirement already satisfied: termcolor in /usr/local/lib/python3.7/dist-packages (from fire) (1.1.0)\n",
            "Building wheels for collected packages: fire\n",
            "  Building wheel for fire (setup.py) ... \u001b[?25l\u001b[?25hdone\n",
            "  Created wheel for fire: filename=fire-0.4.0-py2.py3-none-any.whl size=115928 sha256=b882ad09b52e4210ba8c88603897014764c94db1e5e1c185a0d7a15fe19e2935\n",
            "  Stored in directory: /root/.cache/pip/wheels/af/19/30/1ea0cad502dcb4e66ed5a690279628c827aea38bbbab75d5ed\n",
            "Successfully built fire\n",
            "Installing collected packages: fire\n",
            "Successfully installed fire-0.4.0\n"
          ],
          "name": "stdout"
        }
      ]
    },
    {
      "cell_type": "code",
      "metadata": {
        "id": "zE5lLcnmV8UB",
        "colab": {
          "base_uri": "https://localhost:8080/"
        },
        "outputId": "f9137a4e-79bc-4aae-95fb-3fef2f012771"
      },
      "source": [
        "%cd /content/gdrive/MyDrive/ColabNotebooks/fastaiPart2/course-v3/nbs/dl2"
      ],
      "execution_count": null,
      "outputs": [
        {
          "output_type": "stream",
          "text": [
            "/content/gdrive/MyDrive/ColabNotebooks/fastaiPart2/course-v3/nbs/dl2\n"
          ],
          "name": "stdout"
        }
      ]
    },
    {
      "cell_type": "code",
      "metadata": {
        "id": "QN1RejcK5-Yl",
        "colab": {
          "base_uri": "https://localhost:8080/"
        },
        "outputId": "d15e8c89-95d9-4610-85ba-d4a2db0c3d53"
      },
      "source": [
        "#!./notebook2script.py 02_fully_connected.ipynb\n",
        "!python notebook2script.py 02_fully_connected.ipynb"
      ],
      "execution_count": null,
      "outputs": [
        {
          "output_type": "stream",
          "text": [
            "Converted 02_fully_connected.ipynb to exp/nb_02.py\n"
          ],
          "name": "stdout"
        }
      ]
    },
    {
      "cell_type": "code",
      "metadata": {
        "id": "0Bdw2pYJ5-Yl"
      },
      "source": [
        ""
      ],
      "execution_count": null,
      "outputs": []
    }
  ]
}